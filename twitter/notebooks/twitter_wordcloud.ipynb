{
 "cells": [
  {
   "cell_type": "markdown",
   "id": "479c0289",
   "metadata": {},
   "source": [
    "# Twitter Wordcloud"
   ]
  },
  {
   "cell_type": "markdown",
   "id": "b5d2ee23",
   "metadata": {},
   "source": [
    "#### Importing libraries"
   ]
  },
  {
   "cell_type": "code",
   "execution_count": 1,
   "id": "7119d6bd",
   "metadata": {},
   "outputs": [],
   "source": [
    "import numpy as np\n",
    "import pandas as pd\n",
    "from wordcloud import WordCloud\n",
    "import stylecloud\n",
    "import os\n",
    "\n",
    "import spacy\n",
    "from spacy.lang.en import English\n",
    "\n",
    "import warnings\n",
    "warnings.filterwarnings('ignore')"
   ]
  },
  {
   "cell_type": "code",
   "execution_count": 2,
   "id": "c01222df",
   "metadata": {},
   "outputs": [],
   "source": [
    "nlp = spacy.load(\"en_core_web_lg\")"
   ]
  },
  {
   "cell_type": "markdown",
   "id": "f3ab1492",
   "metadata": {},
   "source": [
    "### 1.  Extracted Tweets File"
   ]
  },
  {
   "cell_type": "code",
   "execution_count": 3,
   "id": "1f9bed77",
   "metadata": {},
   "outputs": [],
   "source": [
    "with open('../data/text_files/extracted_tweets.txt', 'r') as f:\n",
    "    extracted_tweets = f.read()"
   ]
  },
  {
   "cell_type": "markdown",
   "id": "ceba136f",
   "metadata": {},
   "source": [
    "####  HashTags Extraction"
   ]
  },
  {
   "cell_type": "code",
   "execution_count": 4,
   "id": "367fb0de",
   "metadata": {},
   "outputs": [],
   "source": [
    "def hashtags_extraction(string, splitter='\\\\n'):\n",
    "    tweets_list = string.split(splitter)\n",
    "    tweets_splits = [tweet.split(' ') for tweet in tweets_list]\n",
    "    hashtags_list = [words.split('#')[1] for tweet in tweets_splits for words in tweet if words.startswith('#')]\n",
    "    hashtags_cleaned = [(words.split('\\n')[0]).lower() for words in hashtags_list]\n",
    "    hashtags_string = \" \"\n",
    "    hashtags_string = hashtags_string.join(hashtags_cleaned)\n",
    "    hashtags_list_clean = []\n",
    "    for token in nlp(hashtags_string):\n",
    "        if token.is_punct==False and token.is_stop==False and len(token)>=2 and token.is_alpha==True:\n",
    "            hashtags_list_clean.append(token.lower_)\n",
    "    hashtags_string_clean = ' '.join(hashtags_list_clean)\n",
    "    return hashtags_string_clean"
   ]
  },
  {
   "cell_type": "code",
   "execution_count": 5,
   "id": "18b3ed19",
   "metadata": {},
   "outputs": [],
   "source": [
    "hashtags_string = hashtags_extraction(extracted_tweets)"
   ]
  },
  {
   "cell_type": "markdown",
   "id": "e5a955bf",
   "metadata": {},
   "source": [
    "#### Hashtags Wordcloud"
   ]
  },
  {
   "cell_type": "code",
   "execution_count": 7,
   "id": "40904dcc",
   "metadata": {},
   "outputs": [],
   "source": [
    "stylecloud.gen_stylecloud(text=hashtags_string,\n",
    "                          size=2048,\n",
    "                          icon_name='fab fa-twitter',\n",
    "                          output_name='../wordclouds/new/extracted_hashtags.png',\n",
    "                          max_font_size=500,\n",
    "                          max_words=3000,\n",
    "                          background_color='white'\n",
    "                         )"
   ]
  },
  {
   "cell_type": "markdown",
   "id": "7aa63191",
   "metadata": {},
   "source": [
    "#### Tweets Cleaning"
   ]
  },
  {
   "cell_type": "markdown",
   "id": "f0ea0f17",
   "metadata": {},
   "source": [
    "#### adding stopwords into datacleaning"
   ]
  },
  {
   "cell_type": "code",
   "execution_count": 8,
   "id": "95a947e4",
   "metadata": {},
   "outputs": [],
   "source": [
    "stopwords = ['ubuffalo', 'ubtrueblue', 'ubhornsup', 'ubalumni', 'ubgse', 'ubbulls', 'ubmgt']"
   ]
  },
  {
   "cell_type": "code",
   "execution_count": 9,
   "id": "efb85e3d",
   "metadata": {},
   "outputs": [],
   "source": [
    "nlp.Defaults.stop_words |= set(stopwords)"
   ]
  },
  {
   "cell_type": "code",
   "execution_count": 10,
   "id": "d38dd401",
   "metadata": {},
   "outputs": [],
   "source": [
    "def data_cleaning(doc):\n",
    "    cleaned_tweet_words = []\n",
    "    for token in nlp(doc):\n",
    "        if token.is_punct==False and token.is_stop==False and token.pos_ in ['NOUN', 'PROPN'] and token.is_alpha==True:\n",
    "            cleaned_tweet_words.append((token.lemma_).lower())\n",
    "    cleaned_tweet_string = ' '.join(cleaned_tweet_words)\n",
    "    return cleaned_tweet_string"
   ]
  },
  {
   "cell_type": "code",
   "execution_count": 11,
   "id": "08ce1062",
   "metadata": {},
   "outputs": [],
   "source": [
    "cleaned_tweet_string = data_cleaning(extracted_tweets)"
   ]
  },
  {
   "cell_type": "markdown",
   "id": "a9f27fc4",
   "metadata": {},
   "source": [
    "#### Tweets Wordcloud"
   ]
  },
  {
   "cell_type": "code",
   "execution_count": 12,
   "id": "abc91ae3",
   "metadata": {},
   "outputs": [],
   "source": [
    "stylecloud.gen_stylecloud(text=cleaned_tweet_string,\n",
    "                          size=2048,\n",
    "                          icon_name='fab fa-twitter-square',\n",
    "                          output_name='../wordclouds/new/extracted_tweets.png')"
   ]
  },
  {
   "cell_type": "markdown",
   "id": "638d3798",
   "metadata": {},
   "source": [
    "### 2. Twitter Data from 2000 to March 1 File"
   ]
  },
  {
   "cell_type": "code",
   "execution_count": 13,
   "id": "a4c60097",
   "metadata": {},
   "outputs": [],
   "source": [
    "with open('../data/text_files/twitter_data_from_2000_to_march_1_#ubalumni.txt', 'r') as f:\n",
    "    tweets_from_2000 = f.read()"
   ]
  },
  {
   "cell_type": "markdown",
   "id": "11ac818d",
   "metadata": {},
   "source": [
    "#### Hashtags"
   ]
  },
  {
   "cell_type": "code",
   "execution_count": 14,
   "id": "35008ab1",
   "metadata": {},
   "outputs": [],
   "source": [
    "alumni_hashtags = hashtags_extraction(string=tweets_from_2000)"
   ]
  },
  {
   "cell_type": "code",
   "execution_count": 15,
   "id": "b00f4367",
   "metadata": {},
   "outputs": [],
   "source": [
    "stylecloud.gen_stylecloud(text=alumni_hashtags,\n",
    "                          size=2048,\n",
    "                          icon_name='fab fa-twitter',\n",
    "                          output_name='../wordclouds/new/alumni_hashtags.png')"
   ]
  },
  {
   "cell_type": "markdown",
   "id": "c16d6e86",
   "metadata": {},
   "source": [
    "#### Tweets"
   ]
  },
  {
   "cell_type": "code",
   "execution_count": 16,
   "id": "4fde2aaf",
   "metadata": {},
   "outputs": [],
   "source": [
    "cleaned_tweet_from_2000 = data_cleaning(tweets_from_2000)"
   ]
  },
  {
   "cell_type": "code",
   "execution_count": 17,
   "id": "3ad07eda",
   "metadata": {},
   "outputs": [],
   "source": [
    "stylecloud.gen_stylecloud(text=cleaned_tweet_from_2000,\n",
    "                          size=2048,\n",
    "                          icon_name='fab fa-twitter-square',\n",
    "                          output_name='../wordclouds/new/tweets_from_2000.png')"
   ]
  },
  {
   "cell_type": "markdown",
   "id": "fd4d160a",
   "metadata": {},
   "source": [
    "### 3. All Tweets"
   ]
  },
  {
   "cell_type": "code",
   "execution_count": 18,
   "id": "ef858bc9",
   "metadata": {},
   "outputs": [
    {
     "data": {
      "text/html": [
       "<div>\n",
       "<style scoped>\n",
       "    .dataframe tbody tr th:only-of-type {\n",
       "        vertical-align: middle;\n",
       "    }\n",
       "\n",
       "    .dataframe tbody tr th {\n",
       "        vertical-align: top;\n",
       "    }\n",
       "\n",
       "    .dataframe thead th {\n",
       "        text-align: right;\n",
       "    }\n",
       "</style>\n",
       "<table border=\"1\" class=\"dataframe\">\n",
       "  <thead>\n",
       "    <tr style=\"text-align: right;\">\n",
       "      <th></th>\n",
       "      <th>Tweet</th>\n",
       "    </tr>\n",
       "  </thead>\n",
       "  <tbody>\n",
       "    <tr>\n",
       "      <th>0</th>\n",
       "      <td>@TheBuffaloNews Great to see the osteointegrat...</td>\n",
       "    </tr>\n",
       "    <tr>\n",
       "      <th>1</th>\n",
       "      <td>After an @AANMember study documented the pay g...</td>\n",
       "    </tr>\n",
       "    <tr>\n",
       "      <th>2</th>\n",
       "      <td>Join #UBGSE for Black History Nerds Saturday S...</td>\n",
       "    </tr>\n",
       "    <tr>\n",
       "      <th>3</th>\n",
       "      <td>Michael Rembis is the director of the Center f...</td>\n",
       "    </tr>\n",
       "    <tr>\n",
       "      <th>4</th>\n",
       "      <td>Thank you, @NeurologyToday, for giving me the ...</td>\n",
       "    </tr>\n",
       "  </tbody>\n",
       "</table>\n",
       "</div>"
      ],
      "text/plain": [
       "                                               Tweet\n",
       "0  @TheBuffaloNews Great to see the osteointegrat...\n",
       "1  After an @AANMember study documented the pay g...\n",
       "2  Join #UBGSE for Black History Nerds Saturday S...\n",
       "3  Michael Rembis is the director of the Center f...\n",
       "4  Thank you, @NeurologyToday, for giving me the ..."
      ]
     },
     "execution_count": 18,
     "metadata": {},
     "output_type": "execute_result"
    }
   ],
   "source": [
    "tweets_df = pd.read_csv('../data/combined_files/all_tweets.csv',index_col=0)\n",
    "tweets_df.head()"
   ]
  },
  {
   "cell_type": "markdown",
   "id": "0d7ecb7a",
   "metadata": {},
   "source": [
    "#### Hashtags"
   ]
  },
  {
   "cell_type": "code",
   "execution_count": 20,
   "id": "6c730f9f",
   "metadata": {},
   "outputs": [],
   "source": [
    "hashtags_1 = []\n",
    "for data in tweets_df['Tweet']:\n",
    "    for word in data.split(' '):\n",
    "        if word.startswith('#'):\n",
    "            hashtags_1.append(word.strip(\"'#@*&,:;/\").lower())"
   ]
  },
  {
   "cell_type": "code",
   "execution_count": 21,
   "id": "86a7bdc3",
   "metadata": {},
   "outputs": [
    {
     "data": {
      "text/html": [
       "<div>\n",
       "<style scoped>\n",
       "    .dataframe tbody tr th:only-of-type {\n",
       "        vertical-align: middle;\n",
       "    }\n",
       "\n",
       "    .dataframe tbody tr th {\n",
       "        vertical-align: top;\n",
       "    }\n",
       "\n",
       "    .dataframe thead th {\n",
       "        text-align: right;\n",
       "    }\n",
       "</style>\n",
       "<table border=\"1\" class=\"dataframe\">\n",
       "  <thead>\n",
       "    <tr style=\"text-align: right;\">\n",
       "      <th></th>\n",
       "      <th>Tweet</th>\n",
       "      <th>Hashtag</th>\n",
       "    </tr>\n",
       "  </thead>\n",
       "  <tbody>\n",
       "    <tr>\n",
       "      <th>0</th>\n",
       "      <td>@TheBuffaloNews Great to see the osteointegrat...</td>\n",
       "      <td>NaN</td>\n",
       "    </tr>\n",
       "    <tr>\n",
       "      <th>1</th>\n",
       "      <td>After an @AANMember study documented the pay g...</td>\n",
       "      <td>ubuffalo</td>\n",
       "    </tr>\n",
       "    <tr>\n",
       "      <th>2</th>\n",
       "      <td>Join #UBGSE for Black History Nerds Saturday S...</td>\n",
       "      <td>ubgse blackhistorymonth ubuffalo</td>\n",
       "    </tr>\n",
       "    <tr>\n",
       "      <th>3</th>\n",
       "      <td>Michael Rembis is the director of the Center f...</td>\n",
       "      <td>NaN</td>\n",
       "    </tr>\n",
       "    <tr>\n",
       "      <th>4</th>\n",
       "      <td>Thank you, @NeurologyToday, for giving me the ...</td>\n",
       "      <td>paygaps genderinequity neurology ubuffalo wome...</td>\n",
       "    </tr>\n",
       "  </tbody>\n",
       "</table>\n",
       "</div>"
      ],
      "text/plain": [
       "                                               Tweet  \\\n",
       "0  @TheBuffaloNews Great to see the osteointegrat...   \n",
       "1  After an @AANMember study documented the pay g...   \n",
       "2  Join #UBGSE for Black History Nerds Saturday S...   \n",
       "3  Michael Rembis is the director of the Center f...   \n",
       "4  Thank you, @NeurologyToday, for giving me the ...   \n",
       "\n",
       "                                             Hashtag  \n",
       "0                                                NaN  \n",
       "1                                           ubuffalo  \n",
       "2                   ubgse blackhistorymonth ubuffalo  \n",
       "3                                                NaN  \n",
       "4  paygaps genderinequity neurology ubuffalo wome...  "
      ]
     },
     "execution_count": 21,
     "metadata": {},
     "output_type": "execute_result"
    }
   ],
   "source": [
    "excel_df = pd.read_csv('../data/excel_files/combined_twitter_df.csv', index_col=0)\n",
    "excel_df.head()"
   ]
  },
  {
   "cell_type": "code",
   "execution_count": 23,
   "id": "5aafdd1b",
   "metadata": {},
   "outputs": [],
   "source": [
    "hashtags_2 = []\n",
    "\n",
    "for data in excel_df['Hashtag'].dropna():\n",
    "    for word in data.split(' '):\n",
    "        hashtags_2.append(word.strip(\"'#@*&,:;/\").lower())"
   ]
  },
  {
   "cell_type": "code",
   "execution_count": 24,
   "id": "4490c73f",
   "metadata": {},
   "outputs": [],
   "source": [
    "total_hashtags = hashtags_1+hashtags_2\n",
    "hashtags_new_excel_string = ' '.join(total_hashtags)"
   ]
  },
  {
   "cell_type": "code",
   "execution_count": 31,
   "id": "b49e6cdc",
   "metadata": {},
   "outputs": [],
   "source": [
    "nlp_2 = spacy.load(\"en_core_web_lg\")\n",
    "final_hashtags_cleaned=[]\n",
    "for token in nlp_2(hashtags_new_excel_string):\n",
    "    if token.is_alpha==True and token.is_stop==False and token.is_punct==False and token.is_digit==False and token.is_space==False:\n",
    "        final_hashtags_cleaned.append(token.lower_)\n",
    "final_hashtags_string=' '.join(final_hashtags_cleaned)"
   ]
  },
  {
   "cell_type": "code",
   "execution_count": 32,
   "id": "3072805b",
   "metadata": {},
   "outputs": [],
   "source": [
    "stylecloud.gen_stylecloud(text=final_hashtags_string,\n",
    "                          size=2048,\n",
    "                          icon_name='fab fa-twitter',\n",
    "                          output_name='../wordclouds/new/all_tweets_hashtags.png')"
   ]
  },
  {
   "cell_type": "markdown",
   "id": "d56a42f9",
   "metadata": {},
   "source": [
    "#### Tweets"
   ]
  },
  {
   "cell_type": "code",
   "execution_count": 33,
   "id": "a09d1ce6",
   "metadata": {},
   "outputs": [],
   "source": [
    "tweets_str = ' '.join(tweets_df['Tweet'])\n",
    "\n",
    "cleaned_new_tweets = data_cleaning(tweets_str[:1000000])   #taking this number because of limit"
   ]
  },
  {
   "cell_type": "code",
   "execution_count": 34,
   "id": "cca8a5ab",
   "metadata": {},
   "outputs": [],
   "source": [
    "stylecloud.gen_stylecloud(text=cleaned_new_tweets,\n",
    "                          size=2048,\n",
    "                          icon_name='fab fa-twitter-square',\n",
    "                          output_name='../wordclouds/new/excel_tweets.png')"
   ]
  },
  {
   "cell_type": "markdown",
   "id": "5c22eae1",
   "metadata": {},
   "source": [
    "### Combined Cleaned Data from all Twitter Files"
   ]
  },
  {
   "cell_type": "markdown",
   "id": "c037cfb1",
   "metadata": {},
   "source": [
    "#### Hashtags"
   ]
  },
  {
   "cell_type": "code",
   "execution_count": 35,
   "id": "6e6972ce",
   "metadata": {},
   "outputs": [],
   "source": [
    "final_tags = hashtags_string+alumni_hashtags+final_hashtags_string"
   ]
  },
  {
   "cell_type": "code",
   "execution_count": 36,
   "id": "b01f40db",
   "metadata": {},
   "outputs": [],
   "source": [
    "with open('../data/combined_files/combined_hashtags.txt', 'w') as f:\n",
    "    f.write(final_tags)"
   ]
  },
  {
   "cell_type": "code",
   "execution_count": 37,
   "id": "65ac9bcd",
   "metadata": {},
   "outputs": [],
   "source": [
    "stylecloud.gen_stylecloud(text=final_tags,\n",
    "                          size=2048,\n",
    "                          icon_name='fab fa-twitter',\n",
    "                          output_name='../wordclouds/new/final_hashtags.png',\n",
    "                         max_font_size=300,\n",
    "                         background_color='black')"
   ]
  },
  {
   "cell_type": "markdown",
   "id": "a2b3df55",
   "metadata": {},
   "source": [
    "#### Tweets"
   ]
  },
  {
   "cell_type": "code",
   "execution_count": 38,
   "id": "d46d2ac1",
   "metadata": {},
   "outputs": [],
   "source": [
    "final_str = cleaned_tweet_string + cleaned_tweet_from_2000 + cleaned_new_tweets"
   ]
  },
  {
   "cell_type": "markdown",
   "id": "b50d5b0d",
   "metadata": {},
   "source": [
    "#### Generating wordcloud for combined tweets"
   ]
  },
  {
   "cell_type": "code",
   "execution_count": 39,
   "id": "b9e205a8",
   "metadata": {},
   "outputs": [],
   "source": [
    "with open('../data/combined_files/combined_tweets.txt', 'w') as f:\n",
    "    f.write(final_str)"
   ]
  },
  {
   "cell_type": "code",
   "execution_count": 40,
   "id": "69a4bd43",
   "metadata": {},
   "outputs": [],
   "source": [
    "stylecloud.gen_stylecloud(text=final_str,\n",
    "                          size=2048,\n",
    "                          icon_name='fab fa-twitter-square',\n",
    "                          output_name='../wordclouds/new/final_tweets.png')"
   ]
  }
 ],
 "metadata": {
  "kernelspec": {
   "display_name": "ub_social",
   "language": "python",
   "name": "ub_social"
  },
  "language_info": {
   "codemirror_mode": {
    "name": "ipython",
    "version": 3
   },
   "file_extension": ".py",
   "mimetype": "text/x-python",
   "name": "python",
   "nbconvert_exporter": "python",
   "pygments_lexer": "ipython3",
   "version": "3.8.0"
  }
 },
 "nbformat": 4,
 "nbformat_minor": 5
}
