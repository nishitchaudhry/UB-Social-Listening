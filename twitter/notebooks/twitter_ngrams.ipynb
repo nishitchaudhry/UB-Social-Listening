{
 "cells": [
  {
   "cell_type": "markdown",
   "id": "10ab20ca",
   "metadata": {},
   "source": [
    "# Twitter N-grams"
   ]
  },
  {
   "cell_type": "markdown",
   "id": "ffcd238c",
   "metadata": {},
   "source": [
    "#### Importing libraries"
   ]
  },
  {
   "cell_type": "code",
   "execution_count": 1,
   "id": "8e7009b6",
   "metadata": {},
   "outputs": [],
   "source": [
    "import pandas as pd\n",
    "import numpy as np\n",
    "from nltk import ngrams\n",
    "import spacy\n",
    "import collections"
   ]
  },
  {
   "cell_type": "code",
   "execution_count": 2,
   "id": "d740ff92",
   "metadata": {},
   "outputs": [],
   "source": [
    "nlp = spacy.load('en_core_web_lg')"
   ]
  },
  {
   "cell_type": "markdown",
   "id": "5b92fa4a",
   "metadata": {},
   "source": [
    "#### Reading twitter dataset"
   ]
  },
  {
   "cell_type": "code",
   "execution_count": 3,
   "id": "02433028",
   "metadata": {},
   "outputs": [
    {
     "data": {
      "text/html": [
       "<div>\n",
       "<style scoped>\n",
       "    .dataframe tbody tr th:only-of-type {\n",
       "        vertical-align: middle;\n",
       "    }\n",
       "\n",
       "    .dataframe tbody tr th {\n",
       "        vertical-align: top;\n",
       "    }\n",
       "\n",
       "    .dataframe thead th {\n",
       "        text-align: right;\n",
       "    }\n",
       "</style>\n",
       "<table border=\"1\" class=\"dataframe\">\n",
       "  <thead>\n",
       "    <tr style=\"text-align: right;\">\n",
       "      <th></th>\n",
       "      <th>Tweet</th>\n",
       "      <th>Hashtag</th>\n",
       "    </tr>\n",
       "  </thead>\n",
       "  <tbody>\n",
       "    <tr>\n",
       "      <th>0</th>\n",
       "      <td>@TheBuffaloNews Great to see the osteointegrat...</td>\n",
       "      <td>NaN</td>\n",
       "    </tr>\n",
       "    <tr>\n",
       "      <th>1</th>\n",
       "      <td>After an @AANMember study documented the pay g...</td>\n",
       "      <td>ubuffalo</td>\n",
       "    </tr>\n",
       "    <tr>\n",
       "      <th>2</th>\n",
       "      <td>Join #UBGSE for Black History Nerds Saturday S...</td>\n",
       "      <td>ubgse blackhistorymonth ubuffalo</td>\n",
       "    </tr>\n",
       "    <tr>\n",
       "      <th>3</th>\n",
       "      <td>Michael Rembis is the director of the Center f...</td>\n",
       "      <td>NaN</td>\n",
       "    </tr>\n",
       "    <tr>\n",
       "      <th>4</th>\n",
       "      <td>Thank you, @NeurologyToday, for giving me the ...</td>\n",
       "      <td>paygaps genderinequity neurology ubuffalo wome...</td>\n",
       "    </tr>\n",
       "  </tbody>\n",
       "</table>\n",
       "</div>"
      ],
      "text/plain": [
       "                                               Tweet  \\\n",
       "0  @TheBuffaloNews Great to see the osteointegrat...   \n",
       "1  After an @AANMember study documented the pay g...   \n",
       "2  Join #UBGSE for Black History Nerds Saturday S...   \n",
       "3  Michael Rembis is the director of the Center f...   \n",
       "4  Thank you, @NeurologyToday, for giving me the ...   \n",
       "\n",
       "                                             Hashtag  \n",
       "0                                                NaN  \n",
       "1                                           ubuffalo  \n",
       "2                   ubgse blackhistorymonth ubuffalo  \n",
       "3                                                NaN  \n",
       "4  paygaps genderinequity neurology ubuffalo wome...  "
      ]
     },
     "execution_count": 3,
     "metadata": {},
     "output_type": "execute_result"
    }
   ],
   "source": [
    "df_1 = pd.read_csv('../data/excel_files/combined_twitter_df.csv', index_col=0)\n",
    "df_1.head()"
   ]
  },
  {
   "cell_type": "code",
   "execution_count": 4,
   "id": "ca726964",
   "metadata": {},
   "outputs": [
    {
     "data": {
      "text/plain": [
       "Tweet       0\n",
       "Hashtag    48\n",
       "dtype: int64"
      ]
     },
     "execution_count": 4,
     "metadata": {},
     "output_type": "execute_result"
    }
   ],
   "source": [
    "df_1.isna().sum()"
   ]
  },
  {
   "cell_type": "code",
   "execution_count": 5,
   "id": "c8899ff8",
   "metadata": {},
   "outputs": [
    {
     "data": {
      "text/plain": [
       "0      @TheBuffaloNews Great to see the osteointegrat...\n",
       "1      After an @AANMember study documented the pay g...\n",
       "2      Join #UBGSE for Black History Nerds Saturday S...\n",
       "3      Michael Rembis is the director of the Center f...\n",
       "4      Thank you, @NeurologyToday, for giving me the ...\n",
       "                             ...                        \n",
       "938    Get help from a professional team.\\nWe guarant...\n",
       "939    Get help from a professional team.\\nWe guarant...\n",
       "940    Securing you top grades is our top priority.\\n...\n",
       "941    Need help with your homework? DM us.\\nGuarante...\n",
       "942    A+ assured in your assignment(s).\\nFor quality...\n",
       "Name: Tweet, Length: 943, dtype: object"
      ]
     },
     "execution_count": 5,
     "metadata": {},
     "output_type": "execute_result"
    }
   ],
   "source": [
    "df_1['Tweet']"
   ]
  },
  {
   "cell_type": "code",
   "execution_count": 6,
   "id": "91a97fe0",
   "metadata": {},
   "outputs": [
    {
     "data": {
      "text/plain": [
       "0                                                    NaN\n",
       "1                                               ubuffalo\n",
       "2                       ubgse blackhistorymonth ubuffalo\n",
       "3                                                    NaN\n",
       "4      paygaps genderinequity neurology ubuffalo wome...\n",
       "                             ...                        \n",
       "938                             #universityatbuffalosuny\n",
       "939                             #universityatbuffalosuny\n",
       "940                             #universityatbuffalosuny\n",
       "941                             #universityatbuffalosuny\n",
       "942                             #universityatbuffalosuny\n",
       "Name: Hashtag, Length: 943, dtype: object"
      ]
     },
     "execution_count": 6,
     "metadata": {},
     "output_type": "execute_result"
    }
   ],
   "source": [
    "df_1['Hashtag']"
   ]
  },
  {
   "cell_type": "markdown",
   "id": "0caaba10",
   "metadata": {},
   "source": [
    "#### Adding hashtags into default stopwords"
   ]
  },
  {
   "cell_type": "code",
   "execution_count": 15,
   "id": "fda47184",
   "metadata": {},
   "outputs": [],
   "source": [
    "hashtags = ['ubuffalo', 'ubtrueblue', 'ubhornsup', 'ubalumni', 'ubgse', 'ubbulls', 'ubmgt']"
   ]
  },
  {
   "cell_type": "code",
   "execution_count": 16,
   "id": "a8e79ad0",
   "metadata": {},
   "outputs": [
    {
     "data": {
      "text/plain": [
       "{\"'d\",\n",
       " \"'ll\",\n",
       " \"'m\",\n",
       " \"'re\",\n",
       " \"'s\",\n",
       " \"'ve\",\n",
       " 'a',\n",
       " 'about',\n",
       " 'above',\n",
       " 'across',\n",
       " 'after',\n",
       " 'afterwards',\n",
       " 'again',\n",
       " 'against',\n",
       " 'all',\n",
       " 'almost',\n",
       " 'alone',\n",
       " 'along',\n",
       " 'already',\n",
       " 'also',\n",
       " 'although',\n",
       " 'always',\n",
       " 'am',\n",
       " 'among',\n",
       " 'amongst',\n",
       " 'amount',\n",
       " 'an',\n",
       " 'and',\n",
       " 'another',\n",
       " 'any',\n",
       " 'anyhow',\n",
       " 'anyone',\n",
       " 'anything',\n",
       " 'anyway',\n",
       " 'anywhere',\n",
       " 'are',\n",
       " 'around',\n",
       " 'as',\n",
       " 'at',\n",
       " 'back',\n",
       " 'be',\n",
       " 'became',\n",
       " 'because',\n",
       " 'become',\n",
       " 'becomes',\n",
       " 'becoming',\n",
       " 'been',\n",
       " 'before',\n",
       " 'beforehand',\n",
       " 'behind',\n",
       " 'being',\n",
       " 'below',\n",
       " 'beside',\n",
       " 'besides',\n",
       " 'between',\n",
       " 'beyond',\n",
       " 'both',\n",
       " 'bottom',\n",
       " 'but',\n",
       " 'by',\n",
       " 'ca',\n",
       " 'call',\n",
       " 'can',\n",
       " 'cannot',\n",
       " 'could',\n",
       " 'did',\n",
       " 'do',\n",
       " 'does',\n",
       " 'doing',\n",
       " 'done',\n",
       " 'down',\n",
       " 'due',\n",
       " 'during',\n",
       " 'each',\n",
       " 'eight',\n",
       " 'either',\n",
       " 'eleven',\n",
       " 'else',\n",
       " 'elsewhere',\n",
       " 'empty',\n",
       " 'enough',\n",
       " 'even',\n",
       " 'ever',\n",
       " 'every',\n",
       " 'everyone',\n",
       " 'everything',\n",
       " 'everywhere',\n",
       " 'except',\n",
       " 'few',\n",
       " 'fifteen',\n",
       " 'fifty',\n",
       " 'first',\n",
       " 'five',\n",
       " 'for',\n",
       " 'former',\n",
       " 'formerly',\n",
       " 'forty',\n",
       " 'four',\n",
       " 'from',\n",
       " 'front',\n",
       " 'full',\n",
       " 'further',\n",
       " 'get',\n",
       " 'give',\n",
       " 'go',\n",
       " 'had',\n",
       " 'has',\n",
       " 'have',\n",
       " 'he',\n",
       " 'hence',\n",
       " 'her',\n",
       " 'here',\n",
       " 'hereafter',\n",
       " 'hereby',\n",
       " 'herein',\n",
       " 'hereupon',\n",
       " 'hers',\n",
       " 'herself',\n",
       " 'him',\n",
       " 'himself',\n",
       " 'his',\n",
       " 'how',\n",
       " 'however',\n",
       " 'hundred',\n",
       " 'i',\n",
       " 'if',\n",
       " 'in',\n",
       " 'indeed',\n",
       " 'into',\n",
       " 'is',\n",
       " 'it',\n",
       " 'its',\n",
       " 'itself',\n",
       " 'just',\n",
       " 'keep',\n",
       " 'last',\n",
       " 'latter',\n",
       " 'latterly',\n",
       " 'least',\n",
       " 'less',\n",
       " 'made',\n",
       " 'make',\n",
       " 'many',\n",
       " 'may',\n",
       " 'me',\n",
       " 'meanwhile',\n",
       " 'might',\n",
       " 'mine',\n",
       " 'more',\n",
       " 'moreover',\n",
       " 'most',\n",
       " 'mostly',\n",
       " 'move',\n",
       " 'much',\n",
       " 'must',\n",
       " 'my',\n",
       " 'myself',\n",
       " \"n't\",\n",
       " 'name',\n",
       " 'namely',\n",
       " 'neither',\n",
       " 'never',\n",
       " 'nevertheless',\n",
       " 'next',\n",
       " 'nine',\n",
       " 'no',\n",
       " 'nobody',\n",
       " 'none',\n",
       " 'noone',\n",
       " 'nor',\n",
       " 'not',\n",
       " 'nothing',\n",
       " 'now',\n",
       " 'nowhere',\n",
       " 'n‘t',\n",
       " 'n’t',\n",
       " 'of',\n",
       " 'off',\n",
       " 'often',\n",
       " 'on',\n",
       " 'once',\n",
       " 'one',\n",
       " 'only',\n",
       " 'onto',\n",
       " 'or',\n",
       " 'other',\n",
       " 'others',\n",
       " 'otherwise',\n",
       " 'our',\n",
       " 'ours',\n",
       " 'ourselves',\n",
       " 'out',\n",
       " 'over',\n",
       " 'own',\n",
       " 'part',\n",
       " 'per',\n",
       " 'perhaps',\n",
       " 'please',\n",
       " 'put',\n",
       " 'quite',\n",
       " 'rather',\n",
       " 're',\n",
       " 'really',\n",
       " 'regarding',\n",
       " 'same',\n",
       " 'say',\n",
       " 'see',\n",
       " 'seem',\n",
       " 'seemed',\n",
       " 'seeming',\n",
       " 'seems',\n",
       " 'serious',\n",
       " 'several',\n",
       " 'she',\n",
       " 'should',\n",
       " 'show',\n",
       " 'side',\n",
       " 'since',\n",
       " 'six',\n",
       " 'sixty',\n",
       " 'so',\n",
       " 'some',\n",
       " 'somehow',\n",
       " 'someone',\n",
       " 'something',\n",
       " 'sometime',\n",
       " 'sometimes',\n",
       " 'somewhere',\n",
       " 'still',\n",
       " 'such',\n",
       " 'take',\n",
       " 'ten',\n",
       " 'than',\n",
       " 'that',\n",
       " 'the',\n",
       " 'their',\n",
       " 'them',\n",
       " 'themselves',\n",
       " 'then',\n",
       " 'thence',\n",
       " 'there',\n",
       " 'thereafter',\n",
       " 'thereby',\n",
       " 'therefore',\n",
       " 'therein',\n",
       " 'thereupon',\n",
       " 'these',\n",
       " 'they',\n",
       " 'third',\n",
       " 'this',\n",
       " 'those',\n",
       " 'though',\n",
       " 'three',\n",
       " 'through',\n",
       " 'throughout',\n",
       " 'thru',\n",
       " 'thus',\n",
       " 'to',\n",
       " 'together',\n",
       " 'too',\n",
       " 'top',\n",
       " 'toward',\n",
       " 'towards',\n",
       " 'twelve',\n",
       " 'twenty',\n",
       " 'two',\n",
       " 'under',\n",
       " 'unless',\n",
       " 'until',\n",
       " 'up',\n",
       " 'upon',\n",
       " 'us',\n",
       " 'used',\n",
       " 'using',\n",
       " 'various',\n",
       " 'very',\n",
       " 'via',\n",
       " 'was',\n",
       " 'we',\n",
       " 'well',\n",
       " 'were',\n",
       " 'what',\n",
       " 'whatever',\n",
       " 'when',\n",
       " 'whence',\n",
       " 'whenever',\n",
       " 'where',\n",
       " 'whereafter',\n",
       " 'whereas',\n",
       " 'whereby',\n",
       " 'wherein',\n",
       " 'whereupon',\n",
       " 'wherever',\n",
       " 'whether',\n",
       " 'which',\n",
       " 'while',\n",
       " 'whither',\n",
       " 'who',\n",
       " 'whoever',\n",
       " 'whole',\n",
       " 'whom',\n",
       " 'whose',\n",
       " 'why',\n",
       " 'will',\n",
       " 'with',\n",
       " 'within',\n",
       " 'without',\n",
       " 'would',\n",
       " 'yet',\n",
       " 'you',\n",
       " 'your',\n",
       " 'yours',\n",
       " 'yourself',\n",
       " 'yourselves',\n",
       " '‘d',\n",
       " '‘ll',\n",
       " '‘m',\n",
       " '‘re',\n",
       " '‘s',\n",
       " '‘ve',\n",
       " '’d',\n",
       " '’ll',\n",
       " '’m',\n",
       " '’re',\n",
       " '’s',\n",
       " '’ve'}"
      ]
     },
     "execution_count": 16,
     "metadata": {},
     "output_type": "execute_result"
    }
   ],
   "source": [
    "nlp.Defaults.stop_words"
   ]
  },
  {
   "cell_type": "markdown",
   "id": "e4237634",
   "metadata": {},
   "source": [
    "#### Reading all tweets dataset"
   ]
  },
  {
   "cell_type": "code",
   "execution_count": 17,
   "id": "2a645715",
   "metadata": {},
   "outputs": [
    {
     "data": {
      "text/html": [
       "<div>\n",
       "<style scoped>\n",
       "    .dataframe tbody tr th:only-of-type {\n",
       "        vertical-align: middle;\n",
       "    }\n",
       "\n",
       "    .dataframe tbody tr th {\n",
       "        vertical-align: top;\n",
       "    }\n",
       "\n",
       "    .dataframe thead th {\n",
       "        text-align: right;\n",
       "    }\n",
       "</style>\n",
       "<table border=\"1\" class=\"dataframe\">\n",
       "  <thead>\n",
       "    <tr style=\"text-align: right;\">\n",
       "      <th></th>\n",
       "      <th>Tweet</th>\n",
       "    </tr>\n",
       "  </thead>\n",
       "  <tbody>\n",
       "    <tr>\n",
       "      <th>0</th>\n",
       "      <td>@TheBuffaloNews Great to see the osteointegrat...</td>\n",
       "    </tr>\n",
       "    <tr>\n",
       "      <th>1</th>\n",
       "      <td>After an @AANMember study documented the pay g...</td>\n",
       "    </tr>\n",
       "    <tr>\n",
       "      <th>2</th>\n",
       "      <td>Join #UBGSE for Black History Nerds Saturday S...</td>\n",
       "    </tr>\n",
       "    <tr>\n",
       "      <th>3</th>\n",
       "      <td>Michael Rembis is the director of the Center f...</td>\n",
       "    </tr>\n",
       "    <tr>\n",
       "      <th>4</th>\n",
       "      <td>Thank you, @NeurologyToday, for giving me the ...</td>\n",
       "    </tr>\n",
       "  </tbody>\n",
       "</table>\n",
       "</div>"
      ],
      "text/plain": [
       "                                               Tweet\n",
       "0  @TheBuffaloNews Great to see the osteointegrat...\n",
       "1  After an @AANMember study documented the pay g...\n",
       "2  Join #UBGSE for Black History Nerds Saturday S...\n",
       "3  Michael Rembis is the director of the Center f...\n",
       "4  Thank you, @NeurologyToday, for giving me the ..."
      ]
     },
     "execution_count": 17,
     "metadata": {},
     "output_type": "execute_result"
    }
   ],
   "source": [
    "df = pd.read_csv('../data/combined_files/all_tweets.csv', index_col=0)\n",
    "df.head()"
   ]
  },
  {
   "cell_type": "code",
   "execution_count": 18,
   "id": "b5e662b4",
   "metadata": {},
   "outputs": [],
   "source": [
    "ats = []\n",
    "for data in df['Tweet']:\n",
    "    for word in data.split(' '):\n",
    "        if word.startswith('@'):\n",
    "            ats.append(word.strip('@').lower())"
   ]
  },
  {
   "cell_type": "code",
   "execution_count": 19,
   "id": "09544b94",
   "metadata": {},
   "outputs": [],
   "source": [
    "custom_stopwords = ats+hashtags"
   ]
  },
  {
   "cell_type": "code",
   "execution_count": 20,
   "id": "d7b9d677",
   "metadata": {},
   "outputs": [],
   "source": [
    "nlp.Defaults.stop_words |= set(custom_stopwords)"
   ]
  },
  {
   "cell_type": "code",
   "execution_count": 21,
   "id": "8c03393c",
   "metadata": {},
   "outputs": [],
   "source": [
    "def data_cleaner(row, part:list):\n",
    "    words = row.split(' ')\n",
    "    cleaned = [word.strip('@#\"*%^();><?][{}]:.&,\\'') for word in words if word.startswith(('\\nhttps', 'htt'))==False]\n",
    "    row = ' '.join(cleaned)\n",
    "\n",
    "    \n",
    "    doc = nlp(row)\n",
    "    result = [(token.lemma_).lower() for token in doc if token.is_stop == False and token.is_punct==False and token.pos_ in part and token.is_digit==False and len(token.lemma_)>3]\n",
    "    return result"
   ]
  },
  {
   "cell_type": "code",
   "execution_count": 22,
   "id": "443aeded",
   "metadata": {},
   "outputs": [
    {
     "data": {
      "text/html": [
       "<div>\n",
       "<style scoped>\n",
       "    .dataframe tbody tr th:only-of-type {\n",
       "        vertical-align: middle;\n",
       "    }\n",
       "\n",
       "    .dataframe tbody tr th {\n",
       "        vertical-align: top;\n",
       "    }\n",
       "\n",
       "    .dataframe thead th {\n",
       "        text-align: right;\n",
       "    }\n",
       "</style>\n",
       "<table border=\"1\" class=\"dataframe\">\n",
       "  <thead>\n",
       "    <tr style=\"text-align: right;\">\n",
       "      <th></th>\n",
       "      <th>Tweet</th>\n",
       "      <th>Cleaned</th>\n",
       "    </tr>\n",
       "  </thead>\n",
       "  <tbody>\n",
       "    <tr>\n",
       "      <th>0</th>\n",
       "      <td>@TheBuffaloNews Great to see the osteointegrat...</td>\n",
       "      <td>great osteointegrated program</td>\n",
       "    </tr>\n",
       "    <tr>\n",
       "      <th>1</th>\n",
       "      <td>After an @AANMember study documented the pay g...</td>\n",
       "      <td>study male female neurologist neurologist heal...</td>\n",
       "    </tr>\n",
       "    <tr>\n",
       "      <th>2</th>\n",
       "      <td>Join #UBGSE for Black History Nerds Saturday S...</td>\n",
       "      <td>black history nerds saturday school hill proje...</td>\n",
       "    </tr>\n",
       "    <tr>\n",
       "      <th>3</th>\n",
       "      <td>Michael Rembis is the director of the Center f...</td>\n",
       "      <td>michael rembis director center disability stud...</td>\n",
       "    </tr>\n",
       "    <tr>\n",
       "      <th>4</th>\n",
       "      <td>Thank you, @NeurologyToday, for giving me the ...</td>\n",
       "      <td>opportunity paygaps genderinequity neurology w...</td>\n",
       "    </tr>\n",
       "  </tbody>\n",
       "</table>\n",
       "</div>"
      ],
      "text/plain": [
       "                                               Tweet  \\\n",
       "0  @TheBuffaloNews Great to see the osteointegrat...   \n",
       "1  After an @AANMember study documented the pay g...   \n",
       "2  Join #UBGSE for Black History Nerds Saturday S...   \n",
       "3  Michael Rembis is the director of the Center f...   \n",
       "4  Thank you, @NeurologyToday, for giving me the ...   \n",
       "\n",
       "                                             Cleaned  \n",
       "0                      great osteointegrated program  \n",
       "1  study male female neurologist neurologist heal...  \n",
       "2  black history nerds saturday school hill proje...  \n",
       "3  michael rembis director center disability stud...  \n",
       "4  opportunity paygaps genderinequity neurology w...  "
      ]
     },
     "execution_count": 22,
     "metadata": {},
     "output_type": "execute_result"
    }
   ],
   "source": [
    "df['Cleaned'] = df['Tweet'].apply(lambda x: ' '.join(data_cleaner(x, ['NOUN', 'PROPN', 'ADJ'])))\n",
    "df.head()"
   ]
  },
  {
   "cell_type": "markdown",
   "id": "a4b6871a",
   "metadata": {},
   "source": [
    "#### Generating N-Grams column in the dataframe"
   ]
  },
  {
   "cell_type": "code",
   "execution_count": 23,
   "id": "fd0e9b71",
   "metadata": {},
   "outputs": [],
   "source": [
    "def generate_ngrams(df, n, text_column, column_name):\n",
    "    def row_ngrams(text, n):\n",
    "        tokenize = text.split()\n",
    "        esgrams = ngrams(tokenize, n)\n",
    "        ans = collections.Counter(esgrams)\n",
    "        return ans\n",
    "    df[column_name] = df[text_column].apply(lambda x: row_ngrams(x,n))"
   ]
  },
  {
   "cell_type": "code",
   "execution_count": 24,
   "id": "1ee9a746",
   "metadata": {},
   "outputs": [],
   "source": [
    "generate_ngrams(df, 2, 'Cleaned', 'Bigrams')\n",
    "generate_ngrams(df, 3, 'Cleaned', 'Trigrams')\n",
    "generate_ngrams(df, 4, 'Cleaned', 'Quadgrams')"
   ]
  },
  {
   "cell_type": "code",
   "execution_count": 25,
   "id": "bb75b02f",
   "metadata": {},
   "outputs": [
    {
     "data": {
      "text/html": [
       "<div>\n",
       "<style scoped>\n",
       "    .dataframe tbody tr th:only-of-type {\n",
       "        vertical-align: middle;\n",
       "    }\n",
       "\n",
       "    .dataframe tbody tr th {\n",
       "        vertical-align: top;\n",
       "    }\n",
       "\n",
       "    .dataframe thead th {\n",
       "        text-align: right;\n",
       "    }\n",
       "</style>\n",
       "<table border=\"1\" class=\"dataframe\">\n",
       "  <thead>\n",
       "    <tr style=\"text-align: right;\">\n",
       "      <th></th>\n",
       "      <th>Tweet</th>\n",
       "      <th>Cleaned</th>\n",
       "      <th>Bigrams</th>\n",
       "      <th>Trigrams</th>\n",
       "      <th>Quadgrams</th>\n",
       "    </tr>\n",
       "  </thead>\n",
       "  <tbody>\n",
       "    <tr>\n",
       "      <th>0</th>\n",
       "      <td>@TheBuffaloNews Great to see the osteointegrat...</td>\n",
       "      <td>great osteointegrated program</td>\n",
       "      <td>{('great', 'osteointegrated'): 1, ('osteointeg...</td>\n",
       "      <td>{('great', 'osteointegrated', 'program'): 1}</td>\n",
       "      <td>{}</td>\n",
       "    </tr>\n",
       "    <tr>\n",
       "      <th>1</th>\n",
       "      <td>After an @AANMember study documented the pay g...</td>\n",
       "      <td>study male female neurologist neurologist heal...</td>\n",
       "      <td>{('study', 'male'): 1, ('male', 'female'): 1, ...</td>\n",
       "      <td>{('study', 'male', 'female'): 1, ('male', 'fem...</td>\n",
       "      <td>{('study', 'male', 'female', 'neurologist'): 1...</td>\n",
       "    </tr>\n",
       "    <tr>\n",
       "      <th>2</th>\n",
       "      <td>Join #UBGSE for Black History Nerds Saturday S...</td>\n",
       "      <td>black history nerds saturday school hill proje...</td>\n",
       "      <td>{('black', 'history'): 1, ('history', 'nerds')...</td>\n",
       "      <td>{('black', 'history', 'nerds'): 1, ('history',...</td>\n",
       "      <td>{('black', 'history', 'nerds', 'saturday'): 1,...</td>\n",
       "    </tr>\n",
       "    <tr>\n",
       "      <th>3</th>\n",
       "      <td>Michael Rembis is the director of the Center f...</td>\n",
       "      <td>michael rembis director center disability stud...</td>\n",
       "      <td>{('michael', 'rembis'): 1, ('rembis', 'directo...</td>\n",
       "      <td>{('michael', 'rembis', 'director'): 1, ('rembi...</td>\n",
       "      <td>{('michael', 'rembis', 'director', 'center'): ...</td>\n",
       "    </tr>\n",
       "    <tr>\n",
       "      <th>4</th>\n",
       "      <td>Thank you, @NeurologyToday, for giving me the ...</td>\n",
       "      <td>opportunity paygaps genderinequity neurology w...</td>\n",
       "      <td>{('opportunity', 'paygaps'): 1, ('paygaps', 'g...</td>\n",
       "      <td>{('opportunity', 'paygaps', 'genderinequity'):...</td>\n",
       "      <td>{('opportunity', 'paygaps', 'genderinequity', ...</td>\n",
       "    </tr>\n",
       "  </tbody>\n",
       "</table>\n",
       "</div>"
      ],
      "text/plain": [
       "                                               Tweet  \\\n",
       "0  @TheBuffaloNews Great to see the osteointegrat...   \n",
       "1  After an @AANMember study documented the pay g...   \n",
       "2  Join #UBGSE for Black History Nerds Saturday S...   \n",
       "3  Michael Rembis is the director of the Center f...   \n",
       "4  Thank you, @NeurologyToday, for giving me the ...   \n",
       "\n",
       "                                             Cleaned  \\\n",
       "0                      great osteointegrated program   \n",
       "1  study male female neurologist neurologist heal...   \n",
       "2  black history nerds saturday school hill proje...   \n",
       "3  michael rembis director center disability stud...   \n",
       "4  opportunity paygaps genderinequity neurology w...   \n",
       "\n",
       "                                             Bigrams  \\\n",
       "0  {('great', 'osteointegrated'): 1, ('osteointeg...   \n",
       "1  {('study', 'male'): 1, ('male', 'female'): 1, ...   \n",
       "2  {('black', 'history'): 1, ('history', 'nerds')...   \n",
       "3  {('michael', 'rembis'): 1, ('rembis', 'directo...   \n",
       "4  {('opportunity', 'paygaps'): 1, ('paygaps', 'g...   \n",
       "\n",
       "                                            Trigrams  \\\n",
       "0       {('great', 'osteointegrated', 'program'): 1}   \n",
       "1  {('study', 'male', 'female'): 1, ('male', 'fem...   \n",
       "2  {('black', 'history', 'nerds'): 1, ('history',...   \n",
       "3  {('michael', 'rembis', 'director'): 1, ('rembi...   \n",
       "4  {('opportunity', 'paygaps', 'genderinequity'):...   \n",
       "\n",
       "                                           Quadgrams  \n",
       "0                                                 {}  \n",
       "1  {('study', 'male', 'female', 'neurologist'): 1...  \n",
       "2  {('black', 'history', 'nerds', 'saturday'): 1,...  \n",
       "3  {('michael', 'rembis', 'director', 'center'): ...  \n",
       "4  {('opportunity', 'paygaps', 'genderinequity', ...  "
      ]
     },
     "execution_count": 25,
     "metadata": {},
     "output_type": "execute_result"
    }
   ],
   "source": [
    "df.head()"
   ]
  },
  {
   "cell_type": "markdown",
   "id": "05381700",
   "metadata": {},
   "source": [
    "#### Generating corpus for ngrams"
   ]
  },
  {
   "cell_type": "code",
   "execution_count": 26,
   "id": "ada83545",
   "metadata": {},
   "outputs": [],
   "source": [
    "def generate_corpus(df, column):\n",
    "    corpus = dict()\n",
    "\n",
    "    for row in df[column]:\n",
    "        for key in row.keys():\n",
    "            if key in corpus.keys():\n",
    "                corpus[key] += 1\n",
    "            else:\n",
    "                corpus[key] = 1\n",
    "    return corpus"
   ]
  },
  {
   "cell_type": "code",
   "execution_count": 27,
   "id": "ccc2132d",
   "metadata": {},
   "outputs": [],
   "source": [
    "bigram_corpus = generate_corpus(df, 'Bigrams')\n",
    "trigram_corpus = generate_corpus(df, 'Trigrams')\n",
    "quadgram_corpus = generate_corpus(df, 'Quadgrams')"
   ]
  },
  {
   "cell_type": "markdown",
   "id": "b97e2482",
   "metadata": {},
   "source": [
    "#### Displaying top ngrams"
   ]
  },
  {
   "cell_type": "code",
   "execution_count": 28,
   "id": "386090b5",
   "metadata": {},
   "outputs": [],
   "source": [
    "def get_top_n(d, n):\n",
    "    def keyfunction(k):\n",
    "        return d[k]\n",
    "\n",
    "    for key in sorted(d, key=keyfunction, reverse=True)[:n]:\n",
    "        print (\"%s: %i\" % (key, d[key]))"
   ]
  },
  {
   "cell_type": "markdown",
   "id": "e80fb38f",
   "metadata": {},
   "source": [
    "#### Bi-Grams"
   ]
  },
  {
   "cell_type": "code",
   "execution_count": 32,
   "id": "93bd4f5a",
   "metadata": {},
   "outputs": [
    {
     "name": "stdout",
     "output_type": "stream",
     "text": [
      "('nomore', 'breakthesilence'): 78\n",
      "('human', 'right'): 72\n",
      "('discussion', 'tigray'): 69\n",
      "('right', 'abuse'): 68\n",
      "('black', 'history'): 67\n",
      "('force', 'beginning'): 67\n",
      "('tigray', 'human'): 66\n",
      "('abuse', 'crime'): 66\n",
      "('crime', 'rampant'): 66\n",
      "('westerntigray', 'hand'): 66\n",
      "('hand', 'ethiopian'): 66\n",
      "('eritrean', 'force'): 66\n",
      "('rampant', 'westerntigray'): 65\n",
      "('ethiopian', 'eritrean'): 65\n",
      "('beginning', 'tigraygenocide'): 62\n",
      "('fighter', 'tplf'): 51\n",
      "('university', 'buffalo'): 44\n",
      "('alumni', 'arena'): 43\n",
      "('school', 'management'): 43\n",
      "('good', 'luck'): 41\n"
     ]
    }
   ],
   "source": [
    "get_top_n(bigram_corpus, 20)"
   ]
  },
  {
   "cell_type": "markdown",
   "id": "6a9b8eb1",
   "metadata": {},
   "source": [
    "#### Tri-Grams"
   ]
  },
  {
   "cell_type": "code",
   "execution_count": 33,
   "id": "8441a64b",
   "metadata": {},
   "outputs": [
    {
     "name": "stdout",
     "output_type": "stream",
     "text": [
      "('human', 'right', 'abuse'): 68\n",
      "('discussion', 'tigray', 'human'): 66\n",
      "('tigray', 'human', 'right'): 66\n",
      "('right', 'abuse', 'crime'): 66\n",
      "('abuse', 'crime', 'rampant'): 65\n",
      "('crime', 'rampant', 'westerntigray'): 65\n",
      "('rampant', 'westerntigray', 'hand'): 65\n",
      "('westerntigray', 'hand', 'ethiopian'): 65\n",
      "('ethiopian', 'eritrean', 'force'): 65\n",
      "('eritrean', 'force', 'beginning'): 65\n",
      "('hand', 'ethiopian', 'eritrean'): 64\n",
      "('force', 'beginning', 'tigraygenocide'): 62\n",
      "('black', 'history', 'nerds'): 33\n",
      "('history', 'nerds', 'saturday'): 33\n",
      "('nerds', 'saturday', 'school'): 33\n",
      "('family', 'fighter', 'tplf'): 33\n",
      "('graduate', 'school', 'education'): 21\n",
      "('diversity', 'equity', 'inclusion'): 19\n",
      "('civilian', 'percent', 'tigray'): 19\n",
      "('tplf', 'terrorist', 'group'): 19\n"
     ]
    }
   ],
   "source": [
    "get_top_n(trigram_corpus, 20)"
   ]
  },
  {
   "cell_type": "markdown",
   "id": "931a0e28",
   "metadata": {},
   "source": [
    "#### Quad-Grams"
   ]
  },
  {
   "cell_type": "code",
   "execution_count": 34,
   "id": "913c49e0",
   "metadata": {},
   "outputs": [
    {
     "name": "stdout",
     "output_type": "stream",
     "text": [
      "('discussion', 'tigray', 'human', 'right'): 66\n",
      "('tigray', 'human', 'right', 'abuse'): 66\n",
      "('human', 'right', 'abuse', 'crime'): 66\n",
      "('right', 'abuse', 'crime', 'rampant'): 65\n",
      "('crime', 'rampant', 'westerntigray', 'hand'): 65\n",
      "('abuse', 'crime', 'rampant', 'westerntigray'): 64\n",
      "('rampant', 'westerntigray', 'hand', 'ethiopian'): 64\n",
      "('hand', 'ethiopian', 'eritrean', 'force'): 64\n",
      "('ethiopian', 'eritrean', 'force', 'beginning'): 64\n",
      "('westerntigray', 'hand', 'ethiopian', 'eritrean'): 63\n",
      "('eritrean', 'force', 'beginning', 'tigraygenocide'): 60\n",
      "('black', 'history', 'nerds', 'saturday'): 33\n",
      "('history', 'nerds', 'saturday', 'school'): 33\n",
      "('center', 'black', 'history', 'racial'): 19\n",
      "('black', 'history', 'racial', 'literacy'): 19\n",
      "('history', 'racial', 'literacy', 'education'): 19\n",
      "('tplf', 'terror', 'civilian', 'percent'): 18\n",
      "('terror', 'civilian', 'percent', 'tigray'): 18\n",
      "('ethiopia', 'federal', 'govt', 'nomore'): 18\n",
      "('civilian', 'small', 'available', 'family'): 18\n"
     ]
    }
   ],
   "source": [
    "get_top_n(quadgram_corpus, 20)"
   ]
  }
 ],
 "metadata": {
  "kernelspec": {
   "display_name": "ub_social",
   "language": "python",
   "name": "ub_social"
  },
  "language_info": {
   "codemirror_mode": {
    "name": "ipython",
    "version": 3
   },
   "file_extension": ".py",
   "mimetype": "text/x-python",
   "name": "python",
   "nbconvert_exporter": "python",
   "pygments_lexer": "ipython3",
   "version": "3.8.0"
  }
 },
 "nbformat": 4,
 "nbformat_minor": 5
}
