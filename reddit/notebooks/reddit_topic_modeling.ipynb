{
 "cells": [
  {
   "cell_type": "markdown",
   "id": "c597a070",
   "metadata": {},
   "source": [
    "# Topic Modeling on Reddit Dataset using LDA"
   ]
  },
  {
   "cell_type": "markdown",
   "id": "d285183c",
   "metadata": {},
   "source": [
    "#### Importing Libraries"
   ]
  },
  {
   "cell_type": "markdown",
   "id": "ea2aea3e",
   "metadata": {},
   "source": [
    "##### Uncomment this section while running the notebook for the first time"
   ]
  },
  {
   "cell_type": "code",
   "execution_count": 1,
   "id": "dd6c9537",
   "metadata": {},
   "outputs": [],
   "source": [
    "# ! pip install pandas\n",
    "# ! pip install spacy\n",
    "# ! pip install gensim\n",
    "# ! pip install pickle\n",
    "# ! pip install pyLDAvis\n",
    "# ! python -m spacy download en_core_web_lg"
   ]
  },
  {
   "cell_type": "code",
   "execution_count": 2,
   "id": "a53163a4",
   "metadata": {},
   "outputs": [],
   "source": [
    "import pandas as pd\n",
    "import numpy as np\n",
    "import matplotlib.pyplot as plt\n",
    "import spacy\n",
    "from spacy.lang.en.stop_words import STOP_WORDS\n",
    "from gensim import corpora\n",
    "import pickle\n",
    "import gensim\n",
    "import pyLDAvis\n",
    "from pyLDAvis import gensim_models\n",
    "\n",
    "import warnings\n",
    "warnings.filterwarnings('ignore')"
   ]
  },
  {
   "cell_type": "code",
   "execution_count": 3,
   "id": "62e56b50",
   "metadata": {},
   "outputs": [],
   "source": [
    "nlp = spacy.load(\"en_core_web_lg\")"
   ]
  },
  {
   "cell_type": "markdown",
   "id": "d78e6c76",
   "metadata": {},
   "source": [
    "#### Reading Reddit dataset"
   ]
  },
  {
   "cell_type": "code",
   "execution_count": 4,
   "id": "b7e50d9f",
   "metadata": {},
   "outputs": [
    {
     "data": {
      "text/html": [
       "<div>\n",
       "<style scoped>\n",
       "    .dataframe tbody tr th:only-of-type {\n",
       "        vertical-align: middle;\n",
       "    }\n",
       "\n",
       "    .dataframe tbody tr th {\n",
       "        vertical-align: top;\n",
       "    }\n",
       "\n",
       "    .dataframe thead th {\n",
       "        text-align: right;\n",
       "    }\n",
       "</style>\n",
       "<table border=\"1\" class=\"dataframe\">\n",
       "  <thead>\n",
       "    <tr style=\"text-align: right;\">\n",
       "      <th></th>\n",
       "      <th>id</th>\n",
       "      <th>title</th>\n",
       "      <th>score</th>\n",
       "      <th>comms_num</th>\n",
       "      <th>comments</th>\n",
       "      <th>search_topic</th>\n",
       "      <th>body</th>\n",
       "      <th>date</th>\n",
       "    </tr>\n",
       "  </thead>\n",
       "  <tbody>\n",
       "    <tr>\n",
       "      <th>1</th>\n",
       "      <td>imkf0n</td>\n",
       "      <td>UBIT is safe</td>\n",
       "      <td>518</td>\n",
       "      <td>7</td>\n",
       "      <td>['This made my day, thank you', 'COVID-19: *”g...</td>\n",
       "      <td>UBreddit</td>\n",
       "      <td>NaN</td>\n",
       "      <td>2020-09-04 17:34:30</td>\n",
       "    </tr>\n",
       "    <tr>\n",
       "      <th>2</th>\n",
       "      <td>ijhhd5</td>\n",
       "      <td>WEEK ONE!!! REMEMBER TO WEAR YOUR MASKS AND PO...</td>\n",
       "      <td>472</td>\n",
       "      <td>16</td>\n",
       "      <td>['It’s not a new school week until Mr Krabs sa...</td>\n",
       "      <td>UBreddit</td>\n",
       "      <td>NaN</td>\n",
       "      <td>2020-08-30 18:17:02</td>\n",
       "    </tr>\n",
       "    <tr>\n",
       "      <th>3</th>\n",
       "      <td>f8019t</td>\n",
       "      <td>What the last 2 minutes of lecture looks like ...</td>\n",
       "      <td>472</td>\n",
       "      <td>21</td>\n",
       "      <td>['my dude how long did this take lol', 'Is tha...</td>\n",
       "      <td>UBreddit</td>\n",
       "      <td>NaN</td>\n",
       "      <td>2020-02-22 22:30:28</td>\n",
       "    </tr>\n",
       "    <tr>\n",
       "      <th>4</th>\n",
       "      <td>dzmrbc</td>\n",
       "      <td>The SU Bull today</td>\n",
       "      <td>444</td>\n",
       "      <td>45</td>\n",
       "      <td>['FYI: Do not malign Chinese students holding ...</td>\n",
       "      <td>UBreddit</td>\n",
       "      <td>NaN</td>\n",
       "      <td>2019-11-21 17:35:56</td>\n",
       "    </tr>\n",
       "    <tr>\n",
       "      <th>5</th>\n",
       "      <td>ex5bsz</td>\n",
       "      <td>Logging into MyUB be like.</td>\n",
       "      <td>442</td>\n",
       "      <td>27</td>\n",
       "      <td>[\"Since this semester started, it's been havin...</td>\n",
       "      <td>UBreddit</td>\n",
       "      <td>NaN</td>\n",
       "      <td>2020-02-01 12:15:53</td>\n",
       "    </tr>\n",
       "  </tbody>\n",
       "</table>\n",
       "</div>"
      ],
      "text/plain": [
       "       id                                              title  score  \\\n",
       "1  imkf0n                                       UBIT is safe    518   \n",
       "2  ijhhd5  WEEK ONE!!! REMEMBER TO WEAR YOUR MASKS AND PO...    472   \n",
       "3  f8019t  What the last 2 minutes of lecture looks like ...    472   \n",
       "4  dzmrbc                                  The SU Bull today    444   \n",
       "5  ex5bsz                         Logging into MyUB be like.    442   \n",
       "\n",
       "   comms_num                                           comments search_topic  \\\n",
       "1          7  ['This made my day, thank you', 'COVID-19: *”g...     UBreddit   \n",
       "2         16  ['It’s not a new school week until Mr Krabs sa...     UBreddit   \n",
       "3         21  ['my dude how long did this take lol', 'Is tha...     UBreddit   \n",
       "4         45  ['FYI: Do not malign Chinese students holding ...     UBreddit   \n",
       "5         27  [\"Since this semester started, it's been havin...     UBreddit   \n",
       "\n",
       "  body                 date  \n",
       "1  NaN  2020-09-04 17:34:30  \n",
       "2  NaN  2020-08-30 18:17:02  \n",
       "3  NaN  2020-02-22 22:30:28  \n",
       "4  NaN  2019-11-21 17:35:56  \n",
       "5  NaN  2020-02-01 12:15:53  "
      ]
     },
     "execution_count": 4,
     "metadata": {},
     "output_type": "execute_result"
    }
   ],
   "source": [
    "data = pd.read_csv('../data/all/reddit_data_all.csv', index_col=0)\n",
    "data.drop(0, axis=0, inplace=True)\n",
    "data.head()"
   ]
  },
  {
   "cell_type": "markdown",
   "id": "27c85171",
   "metadata": {},
   "source": [
    "#### Titles Dataframe"
   ]
  },
  {
   "cell_type": "code",
   "execution_count": 5,
   "id": "105326a7",
   "metadata": {},
   "outputs": [
    {
     "data": {
      "text/plain": [
       "['UBIT is safe',\n",
       " 'WEEK ONE!!! REMEMBER TO WEAR YOUR MASKS AND POST SPEEDRUNS OF YOUR DAILY HEALTH CHECKS!!!! GIVE IT UP FOR WEEK ONE!!!!!!!!',\n",
       " 'What the last 2 minutes of lecture looks like to your professor',\n",
       " 'The SU Bull today',\n",
       " 'Logging into MyUB be like.']"
      ]
     },
     "execution_count": 5,
     "metadata": {},
     "output_type": "execute_result"
    }
   ],
   "source": [
    "title = [line for line in data.title]\n",
    "title[:5]"
   ]
  },
  {
   "cell_type": "code",
   "execution_count": 6,
   "id": "8e10fe8f",
   "metadata": {},
   "outputs": [
    {
     "data": {
      "text/plain": [
       "316"
      ]
     },
     "execution_count": 6,
     "metadata": {},
     "output_type": "execute_result"
    }
   ],
   "source": [
    "len(title)"
   ]
  },
  {
   "cell_type": "code",
   "execution_count": 7,
   "id": "c91fda1a",
   "metadata": {},
   "outputs": [
    {
     "data": {
      "text/html": [
       "<div>\n",
       "<style scoped>\n",
       "    .dataframe tbody tr th:only-of-type {\n",
       "        vertical-align: middle;\n",
       "    }\n",
       "\n",
       "    .dataframe tbody tr th {\n",
       "        vertical-align: top;\n",
       "    }\n",
       "\n",
       "    .dataframe thead th {\n",
       "        text-align: right;\n",
       "    }\n",
       "</style>\n",
       "<table border=\"1\" class=\"dataframe\">\n",
       "  <thead>\n",
       "    <tr style=\"text-align: right;\">\n",
       "      <th></th>\n",
       "      <th>0</th>\n",
       "    </tr>\n",
       "  </thead>\n",
       "  <tbody>\n",
       "    <tr>\n",
       "      <th>0</th>\n",
       "      <td>UBIT is safe</td>\n",
       "    </tr>\n",
       "    <tr>\n",
       "      <th>1</th>\n",
       "      <td>WEEK ONE!!! REMEMBER TO WEAR YOUR MASKS AND PO...</td>\n",
       "    </tr>\n",
       "    <tr>\n",
       "      <th>2</th>\n",
       "      <td>What the last 2 minutes of lecture looks like ...</td>\n",
       "    </tr>\n",
       "    <tr>\n",
       "      <th>3</th>\n",
       "      <td>The SU Bull today</td>\n",
       "    </tr>\n",
       "    <tr>\n",
       "      <th>4</th>\n",
       "      <td>Logging into MyUB be like.</td>\n",
       "    </tr>\n",
       "  </tbody>\n",
       "</table>\n",
       "</div>"
      ],
      "text/plain": [
       "                                                   0\n",
       "0                                       UBIT is safe\n",
       "1  WEEK ONE!!! REMEMBER TO WEAR YOUR MASKS AND PO...\n",
       "2  What the last 2 minutes of lecture looks like ...\n",
       "3                                  The SU Bull today\n",
       "4                         Logging into MyUB be like."
      ]
     },
     "execution_count": 7,
     "metadata": {},
     "output_type": "execute_result"
    }
   ],
   "source": [
    "title_df = pd.DataFrame(title)\n",
    "title_df.head()"
   ]
  },
  {
   "cell_type": "markdown",
   "id": "f9a63803",
   "metadata": {},
   "source": [
    "#### Body Dataframe"
   ]
  },
  {
   "cell_type": "code",
   "execution_count": 8,
   "id": "0d06bdd3",
   "metadata": {},
   "outputs": [
    {
     "data": {
      "text/plain": [
       "'Hey everyone, I’m a grad student and a TA at UB, and if none of your professors or TAs have told you this yet this semester - you should be really proud of yourselves. Even if your grade isn’t what you want it to be, even if you felt like you were drowning, and struggling all semester, you should be PROUD. Nothing is okay right now. Nothing is normal. But you still tried, and you still came out on the other side. \\n\\nI’ve gotten so many emails from students panicking this semester, and telling me all of the problems they’re having, and it breaks my heart to see how heartless and ignorant some professors and TAs are being during this time. I’m truly sorry if you had an experience like this, but please don’t let it stop you from reaching out to your teachers and TAs in the future. We are not all cold assholes. We want you all to do well, and we want to help you do that. We WILL work with you in any way we can. \\n\\nAnd a final note; if you wouldn’t blame someone else for something, don’t blame yourself for it. Be kind to yourself right now. You need it more than ever.'"
      ]
     },
     "execution_count": 8,
     "metadata": {},
     "output_type": "execute_result"
    }
   ],
   "source": [
    "body=[line for line in data.body if str(line)!='nan']\n",
    "body[1]"
   ]
  },
  {
   "cell_type": "code",
   "execution_count": 9,
   "id": "c0b5156b",
   "metadata": {},
   "outputs": [
    {
     "data": {
      "text/plain": [
       "138"
      ]
     },
     "execution_count": 9,
     "metadata": {},
     "output_type": "execute_result"
    }
   ],
   "source": [
    "len(body)"
   ]
  },
  {
   "cell_type": "code",
   "execution_count": 10,
   "id": "a9208b2a",
   "metadata": {},
   "outputs": [
    {
     "data": {
      "text/html": [
       "<div>\n",
       "<style scoped>\n",
       "    .dataframe tbody tr th:only-of-type {\n",
       "        vertical-align: middle;\n",
       "    }\n",
       "\n",
       "    .dataframe tbody tr th {\n",
       "        vertical-align: top;\n",
       "    }\n",
       "\n",
       "    .dataframe thead th {\n",
       "        text-align: right;\n",
       "    }\n",
       "</style>\n",
       "<table border=\"1\" class=\"dataframe\">\n",
       "  <thead>\n",
       "    <tr style=\"text-align: right;\">\n",
       "      <th></th>\n",
       "      <th>0</th>\n",
       "    </tr>\n",
       "  </thead>\n",
       "  <tbody>\n",
       "    <tr>\n",
       "      <th>0</th>\n",
       "      <td>CCP trolls have infiltrated UBReddit and are d...</td>\n",
       "    </tr>\n",
       "    <tr>\n",
       "      <th>1</th>\n",
       "      <td>Hey everyone, I’m a grad student and a TA at U...</td>\n",
       "    </tr>\n",
       "    <tr>\n",
       "      <th>2</th>\n",
       "      <td>That was an absolute blowout! Let's go Bulls!</td>\n",
       "    </tr>\n",
       "    <tr>\n",
       "      <th>3</th>\n",
       "      <td>The current one is archived for the time being...</td>\n",
       "    </tr>\n",
       "    <tr>\n",
       "      <th>4</th>\n",
       "      <td>As we near the second half of the semester, it...</td>\n",
       "    </tr>\n",
       "  </tbody>\n",
       "</table>\n",
       "</div>"
      ],
      "text/plain": [
       "                                                   0\n",
       "0  CCP trolls have infiltrated UBReddit and are d...\n",
       "1  Hey everyone, I’m a grad student and a TA at U...\n",
       "2      That was an absolute blowout! Let's go Bulls!\n",
       "3  The current one is archived for the time being...\n",
       "4  As we near the second half of the semester, it..."
      ]
     },
     "execution_count": 10,
     "metadata": {},
     "output_type": "execute_result"
    }
   ],
   "source": [
    "body_df = pd.DataFrame(body)\n",
    "body_df.head()"
   ]
  },
  {
   "cell_type": "markdown",
   "id": "2fcbf3fd",
   "metadata": {},
   "source": [
    "#### Comments Dataframe"
   ]
  },
  {
   "cell_type": "code",
   "execution_count": 11,
   "id": "ae4f94a6",
   "metadata": {},
   "outputs": [
    {
     "data": {
      "text/plain": [
       "[\"'This made my day\", \"thank you'\"]"
      ]
     },
     "execution_count": 11,
     "metadata": {},
     "output_type": "execute_result"
    }
   ],
   "source": [
    "rows = [row[1:-1].split(', ') for row in data.comments]\n",
    "comments = [line for row in rows for line in row]\n",
    "comments[:2]"
   ]
  },
  {
   "cell_type": "code",
   "execution_count": 12,
   "id": "3b70a99b",
   "metadata": {},
   "outputs": [
    {
     "data": {
      "text/plain": [
       "3453"
      ]
     },
     "execution_count": 12,
     "metadata": {},
     "output_type": "execute_result"
    }
   ],
   "source": [
    "len(comments)"
   ]
  },
  {
   "cell_type": "code",
   "execution_count": 13,
   "id": "d76b0d51",
   "metadata": {},
   "outputs": [
    {
     "data": {
      "text/html": [
       "<div>\n",
       "<style scoped>\n",
       "    .dataframe tbody tr th:only-of-type {\n",
       "        vertical-align: middle;\n",
       "    }\n",
       "\n",
       "    .dataframe tbody tr th {\n",
       "        vertical-align: top;\n",
       "    }\n",
       "\n",
       "    .dataframe thead th {\n",
       "        text-align: right;\n",
       "    }\n",
       "</style>\n",
       "<table border=\"1\" class=\"dataframe\">\n",
       "  <thead>\n",
       "    <tr style=\"text-align: right;\">\n",
       "      <th></th>\n",
       "      <th>0</th>\n",
       "    </tr>\n",
       "  </thead>\n",
       "  <tbody>\n",
       "    <tr>\n",
       "      <th>0</th>\n",
       "      <td>'This made my day</td>\n",
       "    </tr>\n",
       "    <tr>\n",
       "      <th>1</th>\n",
       "      <td>thank you'</td>\n",
       "    </tr>\n",
       "    <tr>\n",
       "      <th>2</th>\n",
       "      <td>'COVID-19: *”goddamn it I just verified an hou...</td>\n",
       "    </tr>\n",
       "    <tr>\n",
       "      <th>3</th>\n",
       "      <td>'*Set to remind me in seven days.*'</td>\n",
       "    </tr>\n",
       "    <tr>\n",
       "      <th>4</th>\n",
       "      <td>'Alright this is some actual hilarious content</td>\n",
       "    </tr>\n",
       "  </tbody>\n",
       "</table>\n",
       "</div>"
      ],
      "text/plain": [
       "                                                   0\n",
       "0                                  'This made my day\n",
       "1                                         thank you'\n",
       "2  'COVID-19: *”goddamn it I just verified an hou...\n",
       "3                '*Set to remind me in seven days.*'\n",
       "4     'Alright this is some actual hilarious content"
      ]
     },
     "execution_count": 13,
     "metadata": {},
     "output_type": "execute_result"
    }
   ],
   "source": [
    "comments_df = pd.DataFrame(comments)\n",
    "comments_df.head()"
   ]
  },
  {
   "cell_type": "markdown",
   "id": "8aaed6f1",
   "metadata": {},
   "source": [
    "#### Data Processing using Spacy"
   ]
  },
  {
   "cell_type": "markdown",
   "id": "139df1a5",
   "metadata": {},
   "source": [
    "- Tokenize\n",
    "- Filter Stopwords\n",
    "- Extract Alphanumeric\n",
    "- Lemmatize"
   ]
  },
  {
   "cell_type": "markdown",
   "id": "e4e2e32b",
   "metadata": {},
   "source": [
    "#### Cleaning data\n",
    "\n",
    "1. Removing special characters, hyperlinks, punctuations, numbers, spaces\n",
    "2. Removing stop words\n",
    "3. Taking words with length greater than specified in 'min_length_word'\n",
    "4. Taking Lemmatized version of the cleaned words\n",
    "5. Taking Lowercase"
   ]
  },
  {
   "cell_type": "markdown",
   "id": "159e4949",
   "metadata": {},
   "source": [
    "### --------------------------------------------------------------------------------------------------------------------------------\n",
    "### Add custom stop words here"
   ]
  },
  {
   "cell_type": "code",
   "execution_count": 14,
   "id": "8a5292e3",
   "metadata": {},
   "outputs": [],
   "source": [
    "stop_words = ['fuck','shit', 'dick', 'guy','time','people','year','month','week','girl','tomorrow','good','bad','fucking']"
   ]
  },
  {
   "cell_type": "markdown",
   "id": "4acc59b7",
   "metadata": {},
   "source": [
    "### --------------------------------------------------------------------------------------------------------------------------------"
   ]
  },
  {
   "cell_type": "code",
   "execution_count": 15,
   "id": "ccd86f35",
   "metadata": {},
   "outputs": [],
   "source": [
    "for stop_word in stop_words:\n",
    "        STOP_WORDS.add(stop_word)\n",
    "\n",
    "for word in STOP_WORDS:\n",
    "    lexeme = nlp.vocab[word]\n",
    "    lexeme.is_stop = True"
   ]
  },
  {
   "cell_type": "markdown",
   "id": "0a6f1f17",
   "metadata": {},
   "source": [
    "### --------------------------------------------------------------------------------------------------------------------------------\n",
    "#### CHANGE THIS SECTION ONLY"
   ]
  },
  {
   "cell_type": "code",
   "execution_count": 16,
   "id": "4e344acc",
   "metadata": {},
   "outputs": [],
   "source": [
    "min_word_length = 3"
   ]
  },
  {
   "cell_type": "markdown",
   "id": "574773bb",
   "metadata": {},
   "source": [
    "### --------------------------------------------------------------------------------------------------------------------------------"
   ]
  },
  {
   "cell_type": "code",
   "execution_count": 17,
   "id": "cc1d69e8",
   "metadata": {},
   "outputs": [],
   "source": [
    "def data_cleaner(row):\n",
    "    words = row.split(' ')\n",
    "    cleaning = [word.strip('@#\"*%^();><?][{}]:.&,\\'') for word in words if word.startswith(('\\nhttps', 'htt'))==False]\n",
    "    row = ' '.join(cleaning)\n",
    "    doc = nlp(row)\n",
    "    output = [(token.lemma_).lower() for token in doc if token.is_stop == False and token.is_punct==False and token.is_space==False and token.is_digit==False and len(token)>min_word_length]\n",
    "    return output"
   ]
  },
  {
   "cell_type": "markdown",
   "id": "e03be7b7",
   "metadata": {},
   "source": [
    "#### Cleaning dataframes"
   ]
  },
  {
   "cell_type": "code",
   "execution_count": 18,
   "id": "e4d4aa50",
   "metadata": {},
   "outputs": [
    {
     "data": {
      "text/html": [
       "<div>\n",
       "<style scoped>\n",
       "    .dataframe tbody tr th:only-of-type {\n",
       "        vertical-align: middle;\n",
       "    }\n",
       "\n",
       "    .dataframe tbody tr th {\n",
       "        vertical-align: top;\n",
       "    }\n",
       "\n",
       "    .dataframe thead th {\n",
       "        text-align: right;\n",
       "    }\n",
       "</style>\n",
       "<table border=\"1\" class=\"dataframe\">\n",
       "  <thead>\n",
       "    <tr style=\"text-align: right;\">\n",
       "      <th></th>\n",
       "      <th>0</th>\n",
       "      <th>cleaned</th>\n",
       "    </tr>\n",
       "  </thead>\n",
       "  <tbody>\n",
       "    <tr>\n",
       "      <th>0</th>\n",
       "      <td>CCP trolls have infiltrated UBReddit and are d...</td>\n",
       "      <td>[troll, infiltrate, ubreddit, downvote, post, ...</td>\n",
       "    </tr>\n",
       "    <tr>\n",
       "      <th>1</th>\n",
       "      <td>Hey everyone, I’m a grad student and a TA at U...</td>\n",
       "      <td>[grad, student, professor, tell, semester, pro...</td>\n",
       "    </tr>\n",
       "    <tr>\n",
       "      <th>2</th>\n",
       "      <td>That was an absolute blowout! Let's go Bulls!</td>\n",
       "      <td>[absolute, blowout, bulls]</td>\n",
       "    </tr>\n",
       "    <tr>\n",
       "      <th>3</th>\n",
       "      <td>The current one is archived for the time being...</td>\n",
       "      <td>[current, archive, post, listing, thing, like,...</td>\n",
       "    </tr>\n",
       "    <tr>\n",
       "      <th>4</th>\n",
       "      <td>As we near the second half of the semester, it...</td>\n",
       "      <td>[near, second, half, semester, survey, relate,...</td>\n",
       "    </tr>\n",
       "  </tbody>\n",
       "</table>\n",
       "</div>"
      ],
      "text/plain": [
       "                                                   0  \\\n",
       "0  CCP trolls have infiltrated UBReddit and are d...   \n",
       "1  Hey everyone, I’m a grad student and a TA at U...   \n",
       "2      That was an absolute blowout! Let's go Bulls!   \n",
       "3  The current one is archived for the time being...   \n",
       "4  As we near the second half of the semester, it...   \n",
       "\n",
       "                                             cleaned  \n",
       "0  [troll, infiltrate, ubreddit, downvote, post, ...  \n",
       "1  [grad, student, professor, tell, semester, pro...  \n",
       "2                         [absolute, blowout, bulls]  \n",
       "3  [current, archive, post, listing, thing, like,...  \n",
       "4  [near, second, half, semester, survey, relate,...  "
      ]
     },
     "execution_count": 18,
     "metadata": {},
     "output_type": "execute_result"
    }
   ],
   "source": [
    "body_df['cleaned'] = body_df[0].apply(lambda x: data_cleaner(x))\n",
    "body_df.head()"
   ]
  },
  {
   "cell_type": "code",
   "execution_count": 19,
   "id": "f2807c7d",
   "metadata": {},
   "outputs": [
    {
     "data": {
      "text/html": [
       "<div>\n",
       "<style scoped>\n",
       "    .dataframe tbody tr th:only-of-type {\n",
       "        vertical-align: middle;\n",
       "    }\n",
       "\n",
       "    .dataframe tbody tr th {\n",
       "        vertical-align: top;\n",
       "    }\n",
       "\n",
       "    .dataframe thead th {\n",
       "        text-align: right;\n",
       "    }\n",
       "</style>\n",
       "<table border=\"1\" class=\"dataframe\">\n",
       "  <thead>\n",
       "    <tr style=\"text-align: right;\">\n",
       "      <th></th>\n",
       "      <th>0</th>\n",
       "      <th>cleaned</th>\n",
       "    </tr>\n",
       "  </thead>\n",
       "  <tbody>\n",
       "    <tr>\n",
       "      <th>0</th>\n",
       "      <td>UBIT is safe</td>\n",
       "      <td>[ubit, safe]</td>\n",
       "    </tr>\n",
       "    <tr>\n",
       "      <th>1</th>\n",
       "      <td>WEEK ONE!!! REMEMBER TO WEAR YOUR MASKS AND PO...</td>\n",
       "      <td>[remember, wear, mask, post, speedruns, daily,...</td>\n",
       "    </tr>\n",
       "    <tr>\n",
       "      <th>2</th>\n",
       "      <td>What the last 2 minutes of lecture looks like ...</td>\n",
       "      <td>[minute, lecture, look, like, professor]</td>\n",
       "    </tr>\n",
       "    <tr>\n",
       "      <th>3</th>\n",
       "      <td>The SU Bull today</td>\n",
       "      <td>[bull, today]</td>\n",
       "    </tr>\n",
       "    <tr>\n",
       "      <th>4</th>\n",
       "      <td>Logging into MyUB be like.</td>\n",
       "      <td>[log, myub, like]</td>\n",
       "    </tr>\n",
       "  </tbody>\n",
       "</table>\n",
       "</div>"
      ],
      "text/plain": [
       "                                                   0  \\\n",
       "0                                       UBIT is safe   \n",
       "1  WEEK ONE!!! REMEMBER TO WEAR YOUR MASKS AND PO...   \n",
       "2  What the last 2 minutes of lecture looks like ...   \n",
       "3                                  The SU Bull today   \n",
       "4                         Logging into MyUB be like.   \n",
       "\n",
       "                                             cleaned  \n",
       "0                                       [ubit, safe]  \n",
       "1  [remember, wear, mask, post, speedruns, daily,...  \n",
       "2           [minute, lecture, look, like, professor]  \n",
       "3                                      [bull, today]  \n",
       "4                                  [log, myub, like]  "
      ]
     },
     "execution_count": 19,
     "metadata": {},
     "output_type": "execute_result"
    }
   ],
   "source": [
    "title_df['cleaned'] = title_df[0].apply(lambda x: data_cleaner(x))\n",
    "title_df.head()"
   ]
  },
  {
   "cell_type": "code",
   "execution_count": 20,
   "id": "d3c23609",
   "metadata": {},
   "outputs": [
    {
     "data": {
      "text/html": [
       "<div>\n",
       "<style scoped>\n",
       "    .dataframe tbody tr th:only-of-type {\n",
       "        vertical-align: middle;\n",
       "    }\n",
       "\n",
       "    .dataframe tbody tr th {\n",
       "        vertical-align: top;\n",
       "    }\n",
       "\n",
       "    .dataframe thead th {\n",
       "        text-align: right;\n",
       "    }\n",
       "</style>\n",
       "<table border=\"1\" class=\"dataframe\">\n",
       "  <thead>\n",
       "    <tr style=\"text-align: right;\">\n",
       "      <th></th>\n",
       "      <th>0</th>\n",
       "      <th>cleaned</th>\n",
       "    </tr>\n",
       "  </thead>\n",
       "  <tbody>\n",
       "    <tr>\n",
       "      <th>0</th>\n",
       "      <td>'This made my day</td>\n",
       "      <td>[]</td>\n",
       "    </tr>\n",
       "    <tr>\n",
       "      <th>1</th>\n",
       "      <td>thank you'</td>\n",
       "      <td>[thank]</td>\n",
       "    </tr>\n",
       "    <tr>\n",
       "      <th>2</th>\n",
       "      <td>'COVID-19: *”goddamn it I just verified an hou...</td>\n",
       "      <td>[covid-19, goddamn, verify, hour]</td>\n",
       "    </tr>\n",
       "    <tr>\n",
       "      <th>3</th>\n",
       "      <td>'*Set to remind me in seven days.*'</td>\n",
       "      <td>[remind, seven, day]</td>\n",
       "    </tr>\n",
       "    <tr>\n",
       "      <th>4</th>\n",
       "      <td>'Alright this is some actual hilarious content</td>\n",
       "      <td>[alright, actual, hilarious, content]</td>\n",
       "    </tr>\n",
       "  </tbody>\n",
       "</table>\n",
       "</div>"
      ],
      "text/plain": [
       "                                                   0  \\\n",
       "0                                  'This made my day   \n",
       "1                                         thank you'   \n",
       "2  'COVID-19: *”goddamn it I just verified an hou...   \n",
       "3                '*Set to remind me in seven days.*'   \n",
       "4     'Alright this is some actual hilarious content   \n",
       "\n",
       "                                 cleaned  \n",
       "0                                     []  \n",
       "1                                [thank]  \n",
       "2      [covid-19, goddamn, verify, hour]  \n",
       "3                   [remind, seven, day]  \n",
       "4  [alright, actual, hilarious, content]  "
      ]
     },
     "execution_count": 20,
     "metadata": {},
     "output_type": "execute_result"
    }
   ],
   "source": [
    "comments_df['cleaned'] = comments_df[0].apply(lambda x: data_cleaner(x))\n",
    "comments_df.head()"
   ]
  },
  {
   "cell_type": "markdown",
   "id": "4024c8d1",
   "metadata": {},
   "source": [
    "#### Combining dataframes of Title, Body and Comments in one"
   ]
  },
  {
   "cell_type": "code",
   "execution_count": 21,
   "id": "4f92b3c6",
   "metadata": {},
   "outputs": [
    {
     "data": {
      "text/html": [
       "<div>\n",
       "<style scoped>\n",
       "    .dataframe tbody tr th:only-of-type {\n",
       "        vertical-align: middle;\n",
       "    }\n",
       "\n",
       "    .dataframe tbody tr th {\n",
       "        vertical-align: top;\n",
       "    }\n",
       "\n",
       "    .dataframe thead th {\n",
       "        text-align: right;\n",
       "    }\n",
       "</style>\n",
       "<table border=\"1\" class=\"dataframe\">\n",
       "  <thead>\n",
       "    <tr style=\"text-align: right;\">\n",
       "      <th></th>\n",
       "      <th>0</th>\n",
       "      <th>cleaned</th>\n",
       "    </tr>\n",
       "  </thead>\n",
       "  <tbody>\n",
       "    <tr>\n",
       "      <th>0</th>\n",
       "      <td>'This made my day</td>\n",
       "      <td>[]</td>\n",
       "    </tr>\n",
       "    <tr>\n",
       "      <th>1</th>\n",
       "      <td>thank you'</td>\n",
       "      <td>[thank]</td>\n",
       "    </tr>\n",
       "    <tr>\n",
       "      <th>2</th>\n",
       "      <td>'COVID-19: *”goddamn it I just verified an hou...</td>\n",
       "      <td>[covid-19, goddamn, verify, hour]</td>\n",
       "    </tr>\n",
       "    <tr>\n",
       "      <th>3</th>\n",
       "      <td>'*Set to remind me in seven days.*'</td>\n",
       "      <td>[remind, seven, day]</td>\n",
       "    </tr>\n",
       "    <tr>\n",
       "      <th>4</th>\n",
       "      <td>'Alright this is some actual hilarious content</td>\n",
       "      <td>[alright, actual, hilarious, content]</td>\n",
       "    </tr>\n",
       "  </tbody>\n",
       "</table>\n",
       "</div>"
      ],
      "text/plain": [
       "                                                   0  \\\n",
       "0                                  'This made my day   \n",
       "1                                         thank you'   \n",
       "2  'COVID-19: *”goddamn it I just verified an hou...   \n",
       "3                '*Set to remind me in seven days.*'   \n",
       "4     'Alright this is some actual hilarious content   \n",
       "\n",
       "                                 cleaned  \n",
       "0                                     []  \n",
       "1                                [thank]  \n",
       "2      [covid-19, goddamn, verify, hour]  \n",
       "3                   [remind, seven, day]  \n",
       "4  [alright, actual, hilarious, content]  "
      ]
     },
     "execution_count": 21,
     "metadata": {},
     "output_type": "execute_result"
    }
   ],
   "source": [
    "total_words = pd.concat([comments_df,\n",
    "                       title_df,\n",
    "                       body_df])\n",
    "total_words.reset_index(inplace=True)\n",
    "total_words = total_words.drop(columns='index')\n",
    "total_words.head()"
   ]
  },
  {
   "cell_type": "markdown",
   "id": "288bd932",
   "metadata": {},
   "source": [
    "#### Making sentences from cleaned column words"
   ]
  },
  {
   "cell_type": "code",
   "execution_count": 22,
   "id": "9bfade20",
   "metadata": {},
   "outputs": [
    {
     "data": {
      "text/html": [
       "<div>\n",
       "<style scoped>\n",
       "    .dataframe tbody tr th:only-of-type {\n",
       "        vertical-align: middle;\n",
       "    }\n",
       "\n",
       "    .dataframe tbody tr th {\n",
       "        vertical-align: top;\n",
       "    }\n",
       "\n",
       "    .dataframe thead th {\n",
       "        text-align: right;\n",
       "    }\n",
       "</style>\n",
       "<table border=\"1\" class=\"dataframe\">\n",
       "  <thead>\n",
       "    <tr style=\"text-align: right;\">\n",
       "      <th></th>\n",
       "      <th>0</th>\n",
       "      <th>cleaned</th>\n",
       "      <th>cleaned_sentences</th>\n",
       "    </tr>\n",
       "  </thead>\n",
       "  <tbody>\n",
       "    <tr>\n",
       "      <th>0</th>\n",
       "      <td>'This made my day</td>\n",
       "      <td>[]</td>\n",
       "      <td></td>\n",
       "    </tr>\n",
       "    <tr>\n",
       "      <th>1</th>\n",
       "      <td>thank you'</td>\n",
       "      <td>[thank]</td>\n",
       "      <td>thank</td>\n",
       "    </tr>\n",
       "    <tr>\n",
       "      <th>2</th>\n",
       "      <td>'COVID-19: *”goddamn it I just verified an hou...</td>\n",
       "      <td>[covid-19, goddamn, verify, hour]</td>\n",
       "      <td>covid-19 goddamn verify hour</td>\n",
       "    </tr>\n",
       "    <tr>\n",
       "      <th>3</th>\n",
       "      <td>'*Set to remind me in seven days.*'</td>\n",
       "      <td>[remind, seven, day]</td>\n",
       "      <td>remind seven day</td>\n",
       "    </tr>\n",
       "    <tr>\n",
       "      <th>4</th>\n",
       "      <td>'Alright this is some actual hilarious content</td>\n",
       "      <td>[alright, actual, hilarious, content]</td>\n",
       "      <td>alright actual hilarious content</td>\n",
       "    </tr>\n",
       "  </tbody>\n",
       "</table>\n",
       "</div>"
      ],
      "text/plain": [
       "                                                   0  \\\n",
       "0                                  'This made my day   \n",
       "1                                         thank you'   \n",
       "2  'COVID-19: *”goddamn it I just verified an hou...   \n",
       "3                '*Set to remind me in seven days.*'   \n",
       "4     'Alright this is some actual hilarious content   \n",
       "\n",
       "                                 cleaned                 cleaned_sentences  \n",
       "0                                     []                                    \n",
       "1                                [thank]                             thank  \n",
       "2      [covid-19, goddamn, verify, hour]      covid-19 goddamn verify hour  \n",
       "3                   [remind, seven, day]                  remind seven day  \n",
       "4  [alright, actual, hilarious, content]  alright actual hilarious content  "
      ]
     },
     "execution_count": 22,
     "metadata": {},
     "output_type": "execute_result"
    }
   ],
   "source": [
    "total_words['cleaned_sentences'] = total_words['cleaned'].apply(lambda x : ' '.join(x))\n",
    "total_words.head()"
   ]
  },
  {
   "cell_type": "markdown",
   "id": "4e06aa6f",
   "metadata": {},
   "source": [
    "#### Saving this file into csv format"
   ]
  },
  {
   "cell_type": "code",
   "execution_count": 23,
   "id": "8caeb536",
   "metadata": {},
   "outputs": [],
   "source": [
    "total_words.to_csv('../data/cleaned_combined_data_all.csv')"
   ]
  },
  {
   "cell_type": "markdown",
   "id": "c737376f",
   "metadata": {},
   "source": [
    "## Topic Modeling"
   ]
  },
  {
   "cell_type": "markdown",
   "id": "1627fa1f",
   "metadata": {},
   "source": [
    "### I. Using complete sentences\n",
    "\n",
    "LDA with Gensim"
   ]
  },
  {
   "cell_type": "markdown",
   "id": "bb5aa080",
   "metadata": {},
   "source": [
    "#### Building text corpus from cleaned data and saving it"
   ]
  },
  {
   "cell_type": "code",
   "execution_count": 24,
   "id": "a7aa7943",
   "metadata": {},
   "outputs": [],
   "source": [
    "dictionary = corpora.Dictionary(total_words['cleaned'])\n",
    "corpus = [dictionary.doc2bow(text) for text in total_words['cleaned']]\n",
    "pickle.dump(corpus, open('../topic_modeling/corpus.pkl', 'wb'))\n",
    "dictionary.save('../topic_modeling/dictionary')"
   ]
  },
  {
   "cell_type": "markdown",
   "id": "e80b2018",
   "metadata": {},
   "source": [
    "### --------------------------------------------------------------------------------------------------------------------------------\n",
    "#### CHANGE THIS SECTION ONLY"
   ]
  },
  {
   "cell_type": "code",
   "execution_count": 25,
   "id": "b5ff5b84",
   "metadata": {},
   "outputs": [],
   "source": [
    "num_topics = 5\n",
    "passes = 10                 \n",
    "random_state = 100\n",
    "num_words = 5\n",
    "corpus = corpus\n",
    "dictionary = dictionary"
   ]
  },
  {
   "cell_type": "markdown",
   "id": "77686698",
   "metadata": {},
   "source": [
    "### --------------------------------------------------------------------------------------------------------------------------------"
   ]
  },
  {
   "cell_type": "markdown",
   "id": "80abedb8",
   "metadata": {},
   "source": [
    "#### Model Building"
   ]
  },
  {
   "cell_type": "code",
   "execution_count": 26,
   "id": "b822bc57",
   "metadata": {},
   "outputs": [],
   "source": [
    "ldamodel = gensim.models.ldamodel.LdaModel(corpus = corpus,\n",
    "                                          num_topics = num_topics,\n",
    "                                          id2word = dictionary,\n",
    "                                          passes = passes,\n",
    "                                          random_state= random_state)\n",
    "\n",
    "ldamodel.save('../topic_modeling/model5.gensim') # saving the model"
   ]
  },
  {
   "cell_type": "markdown",
   "id": "fb02ed8e",
   "metadata": {},
   "source": [
    "#### Checking top topics"
   ]
  },
  {
   "cell_type": "code",
   "execution_count": 27,
   "id": "4713fd5b",
   "metadata": {},
   "outputs": [
    {
     "name": "stdout",
     "output_type": "stream",
     "text": [
      "(0, '0.016*\"go\" + 0.012*\"think\" + 0.010*\"want\" + 0.010*\"delete\" + 0.008*\"need\"')\n",
      "(1, '0.015*\"like\" + 0.014*\"work\" + 0.013*\"post\" + 0.013*\"semester\" + 0.009*\"school\"')\n",
      "(2, '0.019*\"like\" + 0.018*\"campus\" + 0.015*\"class\" + 0.010*\"know\" + 0.007*\"look\"')\n",
      "(3, '0.017*\"mask\" + 0.009*\"buffalo\" + 0.009*\"wear\" + 0.007*\"room\" + 0.006*\"need\"')\n",
      "(4, '0.024*\"look\" + 0.016*\"student\" + 0.014*\"campus\" + 0.009*\"nice\" + 0.008*\"love\"')\n"
     ]
    }
   ],
   "source": [
    "topics = ldamodel.print_topics(num_words=num_words)\n",
    "for topic in topics:\n",
    "    print(topic)"
   ]
  },
  {
   "cell_type": "markdown",
   "id": "70fe0b4d",
   "metadata": {},
   "source": [
    "#### Visualising Top Topics"
   ]
  },
  {
   "cell_type": "code",
   "execution_count": 28,
   "id": "1c472dd0",
   "metadata": {},
   "outputs": [
    {
     "data": {
      "text/html": [
       "\n",
       "<link rel=\"stylesheet\" type=\"text/css\" href=\"https://cdn.jsdelivr.net/gh/bmabey/pyLDAvis@3.3.1/pyLDAvis/js/ldavis.v1.0.0.css\">\n",
       "\n",
       "\n",
       "<div id=\"ldavis_el20841406511013831368073552941\"></div>\n",
       "<script type=\"text/javascript\">\n",
       "\n",
       "var ldavis_el20841406511013831368073552941_data = {\"mdsDat\": {\"x\": [0.09248816709007182, 0.0942669216299382, 0.07390023300934898, -0.08411205531947033, -0.1765432664098887], \"y\": [0.1289759983337879, -0.09758640703706664, -0.08110824961755662, 0.13027882297487123, -0.08056016465403594], \"topics\": [1, 2, 3, 4, 5], \"cluster\": [1, 1, 1, 1, 1], \"Freq\": [25.463828912683027, 22.171786863350103, 20.52223553421392, 17.74966196117331, 14.092486728579637]}, \"tinfo\": {\"Term\": [\"mask\", \"work\", \"campus\", \"semester\", \"go\", \"look\", \"post\", \"delete\", \"like\", \"nice\", \"vote\", \"wear\", \"class\", \"love\", \"today\", \"buffalo\", \"room\", \"roommate\", \"exam\", \"think\", \"south\", \"remove\", \"outside\", \"lease\", \"say\", \"final\", \"include\", \"bedroom\", \"easy\", \"quiet\", \"remove\", \"join\", \"thought\", \"submit\", \"downtown\", \"exam\", \"semester\", \"work\", \"that\\\\\", \"amazing\", \"basically\", \"final\", \"listen\", \"situation\", \"article\", \"deserve\", \"imagine\", \"heart\", \"true\", \"hurt\", \"receive\", \"sort\", \"frat\", \"multiple\", \"fail\", \"zoom\", \"compare\", \"worth\", \"commute\", \"list\", \"lockwood\", \"link\", \"week\", \"little\", \"say\", \"require\", \"opinion\", \"post\", \"snow\", \"sure\", \"different\", \"school\", \"life\", \"professor\", \"problem\", \"schedule\", \"state\", \"like\", \"right\", \"club\", \"course\", \"year\", \"community\", \"honestly\", \"go\", \"class\", \"know\", \"thing\", \"need\", \"pretty\", \"student\", \"think\", \"want\", \"party\", \"look\", \"happen\", \"take\", \"vote\", \"nice\", \"roommate\", \"cool\", \"view\", \"park\", \"utility\", \"fest\", \"definitely\", \"speech\", \"sophomore\", \"explain\", \"workload\", \"address\", \"forward\", \"color\", \"single\", \"decide\", \"laundry\", \"washer\", \"dryer\", \"sound\", \"include\", \"expose\", \"electricity\", \"depressing\", \"spanish\", \"piece\", \"football\", \"interesting\", \"love\", \"large\", \"apartment\", \"center\", \"look\", \"august\", \"tell\", \"friend\", \"south\", \"lease\", \"near\", \"rent\", \"great\", \"parking\", \"student\", \"late\", \"campus\", \"stop\", \"fall\", \"yeah\", \"live\", \"help\", \"post\", \"like\", \"come\", \"thank\", \"spring\", \"get\", \"know\", \"actually\", \"today\", \"wonder\", \"protest\", \"food\", \"suny\", \"city\", \"complain\", \"quiet\", \"lock\", \"name\", \"prof\", \"teach\", \"subreddit\", \"order\", \"respect\", \"administration\", \"drop\", \"chestnut\", \"debate\", \"decision\", \"villas\", \"delivery\", \"keep\", \"adult\", \"defend\", \"general\", \"extremely\", \"rest\", \"guarantee\", \"asshole\", \"easy\", \"chair\", \"bathroom\", \"rate\", \"pay\", \"housing\", \"matter\", \"bedroom\", \"campus\", \"class\", \"like\", \"fully\", \"plan\", \"minute\", \"know\", \"away\", \"room\", \"north\", \"talk\", \"major\", \"college\", \"feel\", \"floor\", \"online\", \"house\", \"look\", \"pretty\", \"buffalo\", \"think\", \"free\", \"delete\", \"outside\", \"real\", \"america\", \"meme\", \"capen\", \"lmao\", \"personal\", \"welcome\", \"seriously\", \"figure\", \"likely\", \"fire\", \"shut\", \"grow\", \"feeling\", \"trump\", \"alarm\", \"leadership\", \"section\", \"didn\\\\'t\", \"commuter\", \"content\", \"tough\", \"mandate\", \"deposit\", \"regardless\", \"absolute\", \"budget\", \"bad\", \"check\", \"choose\", \"phone\", \"miss\", \"go\", \"office\", \"try\", \"think\", \"bring\", \"hate\", \"pass\", \"want\", \"place\", \"need\", \"thing\", \"information\", \"person\", \"student\", \"hope\", \"find\", \"guy\", \"live\", \"take\", \"well\", \"class\", \"know\", \"college\", \"event\", \"allow\", \"mask\", \"ticket\", \"wear\", \"entire\", \"rule\", \"voice\", \"hong\", \"consider\", \"31st\", \"kong\", \"code\", \"alumnus\", \"family\", \"religious\", \"machine\", \"president\", \"indoor\", \"catch\", \"position\", \"delegate\", \"mood\", \"hole\", \"flag\", \"medical\", \"mild\", \"control\", \"shot\", \"election\", \"incredibly\", \"april\", \"hang\", \"follow\", \"account\", \"virus\", \"spread\", \"buffalo\", \"care\", \"chinese\", \"room\", \"wake\", \"university\", \"maybe\", \"dude\", \"west\", \"july\", \"leave\", \"need\", \"look\", \"come\", \"find\", \"want\", \"college\", \"student\", \"home\", \"know\"], \"Freq\": [52.0, 79.0, 159.0, 74.0, 116.0, 188.0, 105.0, 38.0, 208.0, 41.0, 35.0, 27.0, 141.0, 44.0, 30.0, 53.0, 50.0, 31.0, 37.0, 99.0, 44.0, 29.0, 21.0, 38.0, 53.0, 29.0, 27.0, 32.0, 26.0, 21.0, 28.525905903623716, 15.285818968170467, 12.40015072841291, 12.393569469314137, 13.304974215373866, 35.855252979754695, 70.50938365282995, 75.29915929122123, 10.433175487317813, 9.79094360375384, 9.801159469492793, 27.328073591849577, 9.489940167478046, 10.074449902772816, 9.16536541546575, 9.447567520902473, 10.049571854877742, 9.138931854933155, 8.848903318714747, 8.834948764706663, 8.536506751933537, 8.525781266999182, 8.523082125731381, 8.529450779063705, 8.514610896565477, 8.213098475738361, 8.50532097653772, 8.210359351893588, 8.493290028732952, 8.193670116549283, 10.848736622353712, 8.771389160199222, 14.694155524817706, 16.106274140563173, 42.29358007764202, 11.421397552694373, 26.668132599906418, 71.35133295088873, 15.926691444117317, 28.9839056882194, 16.021697662737026, 51.51426297496181, 26.409243510066062, 36.70572173992939, 20.13682887516389, 23.69722150603981, 16.045782405533405, 80.09133642280727, 32.32768540993054, 23.187919632677637, 27.087200778122625, 19.14761041858337, 17.950684378553976, 15.946864240811012, 39.91664507015189, 43.32226197234018, 33.7155301589441, 23.890945341852962, 27.953045695042263, 23.414863278159665, 32.325395614093665, 27.238631932514153, 26.879380228027703, 18.289411693526993, 21.36372407788974, 18.365231352351707, 18.726656078164503, 35.3531755929991, 40.441637072549746, 30.838591007506942, 17.791960862433413, 14.941377896065342, 14.622603326179076, 17.064515512385572, 13.647780934843514, 12.955194404174742, 15.918126634763945, 10.006011850891111, 8.687913364789784, 8.694118457887777, 8.687812239842154, 7.384471917545983, 7.377530214856787, 7.36322131106487, 8.541200406616227, 6.714936348983336, 7.2992141925734195, 7.298894239870264, 6.712947005751278, 24.97183656489707, 5.751831189284593, 5.736308786121121, 5.742457514494205, 5.739733219456972, 5.727430789352723, 8.940851173006449, 5.718853957045844, 39.0816955145388, 10.035391134856546, 21.481111681410688, 14.21222171083793, 115.28581776046485, 17.981056778165954, 26.55326938798393, 22.436226312460665, 31.054319808353995, 26.97987962333593, 17.9513370954697, 20.957083307984835, 23.976134911150382, 18.436342291017375, 75.23426437114516, 14.69821494685753, 64.80299724868122, 23.882770612507183, 22.91726055787902, 15.373196895113276, 28.19070664381595, 22.626588776717618, 31.8807703502986, 33.24332236870628, 22.737812956821955, 20.223409103239284, 16.68101102930021, 17.782283812800138, 19.518889828750222, 17.384546684080085, 29.887383073623816, 17.191843397863973, 17.12905988419492, 15.868915157644906, 13.317761798152777, 12.034785494036047, 12.34062265415517, 19.90624473633497, 11.389135404913738, 10.42001426821789, 9.778624832375986, 9.775199942296084, 9.472769258869336, 9.149935519097404, 8.484680287089388, 8.47493807063898, 7.550086297937417, 6.562210614562983, 6.582765581355259, 6.572356902572996, 6.551027550538638, 6.569209236271961, 6.56853049834842, 6.568256854950459, 6.561466406817126, 6.249225479702722, 6.240263274807251, 18.693759994499025, 6.2135623284450645, 8.781503071048384, 22.370796865392695, 12.07754649470213, 21.0807242463165, 13.969623336667311, 15.746139804448987, 16.494884404399457, 12.528365553373968, 23.585077935478434, 77.65025361346262, 67.2896828750097, 85.3973713416599, 10.715616653770278, 14.720753493268417, 20.17321839614776, 44.02214994521923, 14.15757492094474, 23.611257680677028, 18.32180138273871, 17.73468642959673, 16.379369040718792, 19.990111578721713, 20.852651936551077, 16.243343209265706, 16.407671440312786, 16.761240192764138, 31.32759231679413, 18.458297778539688, 17.03436085511281, 18.58210939626695, 14.83063026850212, 38.22061992663989, 20.412073116126987, 13.623410576909695, 12.438262633767335, 12.40960341347464, 12.11452810965345, 12.105410634192959, 12.124462220713168, 10.272099989182749, 9.976509753705274, 9.052494093659575, 8.429590470580813, 8.133177406168041, 8.134140912308407, 8.129187128212989, 8.112709315211903, 7.518374666671642, 7.217342258311346, 7.208927284113896, 7.202683074209731, 7.195952687423904, 6.907939998630697, 8.030636110346158, 6.284528964375167, 6.280984606617309, 6.280319265370702, 5.984100406281906, 5.980946228696593, 5.675889479032848, 12.6111522645081, 15.43054995320362, 13.820778041332163, 11.156895021408157, 16.144937112928602, 61.37463687054417, 10.720646160871647, 24.46123731055318, 45.701136499427115, 13.486557314485843, 14.296663367968094, 9.856105991889034, 38.40697563952609, 24.466733453936058, 31.08360346765965, 22.598577330659378, 10.277456340122857, 16.746485228468316, 29.971846556972185, 13.61750036477228, 16.534869552030738, 13.969098707874736, 17.944156097148554, 16.081768624041924, 13.907682933096476, 18.22162993985271, 14.959810404081345, 13.119675587481929, 12.791456203289517, 12.521308192396408, 50.37882259266776, 14.310423717530695, 26.151247667171045, 12.205029124158036, 10.474599348440325, 10.414127723483038, 11.207317207544099, 8.687919757209402, 8.095118704273863, 10.592442624132486, 7.5204264742432905, 7.212424752605984, 6.897446157191879, 7.131159486824387, 5.7353839756761635, 5.165206482633457, 5.154691999478893, 5.1571053150105275, 5.145192928229721, 4.575138366410428, 4.272068996688527, 4.276724226503151, 4.276755837389172, 4.27421888816999, 4.2729899271679255, 4.2695580386422955, 4.263856137268324, 4.258314046484791, 4.234107132434397, 3.9644023504430383, 7.461925261181283, 10.700670570761336, 10.698256903997633, 13.551654273561194, 13.516788168744675, 26.76235493543314, 11.266414812655695, 9.074632585037845, 21.747637695413523, 6.174795311589445, 18.06630134601859, 10.495611455610243, 9.6459129467706, 7.4487498438879225, 8.394484331850359, 9.442760319278614, 18.30759075133402, 15.604737767818799, 11.926823823683689, 10.366086903837292, 11.485617340676509, 9.577327158603909, 11.389055215917505, 8.567878471242611, 8.424213316456473], \"Total\": [52.0, 79.0, 159.0, 74.0, 116.0, 188.0, 105.0, 38.0, 208.0, 41.0, 35.0, 27.0, 141.0, 44.0, 30.0, 53.0, 50.0, 31.0, 37.0, 99.0, 44.0, 29.0, 21.0, 38.0, 53.0, 29.0, 27.0, 32.0, 26.0, 21.0, 29.151947462203054, 15.917745786413526, 13.031085737036245, 13.030278557831304, 13.990454115676027, 37.82836047107084, 74.76235452141505, 79.9544559341211, 11.093375683987965, 10.423100781731792, 10.445633105997457, 29.151857132876668, 10.128530372729918, 10.765020414399235, 9.803144751884746, 10.113242905805276, 10.764005272397233, 9.789262341817869, 9.479707664067371, 9.478511728413833, 9.162671143597462, 9.154882820205765, 9.154066659570239, 9.161695392113876, 9.154139674950844, 8.837813298348877, 9.152854659620147, 8.837309097646054, 9.153062195471453, 8.83667404150697, 11.712499994641806, 9.463822045325733, 16.555954462392087, 18.412102956957302, 53.69664533477551, 12.71615882203656, 33.46042828286187, 105.77282921535249, 19.01673066102618, 39.54765302595327, 19.525802114706917, 81.27733378413157, 36.26561608935649, 57.09580942238846, 27.51521000269241, 34.99635179852232, 21.09547284601309, 208.51662673676955, 57.84397949468308, 36.58385624500511, 47.86781477562164, 28.69369459369694, 26.07212434272006, 21.892480174967886, 116.94109985020204, 141.29771045404303, 120.64059365345136, 56.90125589194058, 91.79153030695487, 58.37185468949703, 163.71669249916803, 99.74491613083279, 102.80803027958, 32.67884719998236, 188.5534817667451, 34.216443834550034, 56.946720592408596, 35.98370530315991, 41.16620985794219, 31.896289405338678, 18.499391125654185, 15.577445539869863, 15.247765442984178, 17.810777393066207, 14.26911454724302, 13.588465940099203, 16.89004243229017, 10.628561852003834, 9.323623827282427, 9.331154372895256, 9.330089002613347, 8.013606728256315, 8.01271045204668, 8.005699080560191, 9.324343209726024, 7.335671723611569, 7.986390655767955, 7.986368645642568, 7.356292793650631, 27.597016006992643, 6.372646577928951, 6.356743875295396, 6.371687996705341, 6.370848683258882, 6.369338459767547, 9.94508001754559, 6.367779040146106, 44.51517801424183, 11.822286792529704, 27.78869476913424, 17.476007880561944, 188.5534817667451, 22.966581020090647, 36.088036097087915, 30.247842036217328, 44.78383200172315, 38.21842085235587, 23.563108934195608, 28.806725571732915, 34.8914820316516, 25.96722233529158, 163.71669249916803, 19.41466491333736, 159.70616618099578, 39.461204957773774, 37.21428576346265, 21.040106332549655, 69.95711652083888, 47.89870479547, 105.77282921535249, 208.51662673676955, 68.87201723819133, 57.06695066175651, 27.057285604316156, 42.27616759142115, 120.64059365345136, 44.47775856552341, 30.648876938132307, 17.822410025798234, 17.81576046559929, 16.518113761349202, 13.961210137059311, 12.666941410346851, 12.99632078881931, 21.009186525849643, 12.032078644066734, 11.06664519628743, 10.405721190623346, 10.405666809377214, 10.104037060454614, 9.780288209357263, 9.13632769448079, 9.13050173662776, 8.17547162811371, 7.187796805240126, 7.210562641749935, 7.209361380120849, 7.187904677721076, 7.208592247097302, 7.208530775085215, 7.208710390907976, 7.2080286239272136, 6.885188162141719, 6.8846706139875575, 20.688074284261212, 6.881181020784559, 9.749637422124446, 26.490195558823476, 13.935517095477795, 25.8794779414589, 16.693685622182677, 19.761127284268248, 21.099611107455168, 15.291904465136113, 32.987099321139226, 159.70616618099578, 141.29771045404303, 208.51662673676955, 13.66051020183265, 22.098004269372023, 35.71040843922913, 120.64059365345136, 20.88664769036459, 50.01883058570374, 32.53071021396431, 33.51431088589253, 28.643285899910857, 43.04106560971678, 51.07531920250921, 28.652450206223968, 29.40430475070139, 33.07606561053091, 188.5534817667451, 58.37185468949703, 53.49970613010174, 99.74491613083279, 40.8074991068435, 38.85157208543958, 21.371752951354438, 14.282510076244899, 13.073540077250415, 13.051047764267933, 12.748713054770075, 12.741324955274278, 12.763336685331016, 10.911252869309289, 10.616044508909159, 9.686997707571287, 9.073930494287278, 8.76503533687912, 8.771972490880106, 8.771710845170308, 8.7701699262002, 8.159328649951052, 7.8500135660704435, 7.849731743909266, 7.8491816488955175, 7.848180681278945, 7.5401816033585565, 8.768348961402822, 6.927036371612556, 6.926674184439899, 6.926833960056049, 6.617956714685207, 6.617380221432489, 6.308176182117844, 14.02402469637612, 18.58958845759204, 17.238545519092416, 13.793532500683076, 21.565593635486827, 116.94109985020204, 13.515757580168023, 41.999727194876634, 99.74491613083279, 18.970408742797474, 20.96183366419691, 12.533621435934439, 102.80803027958, 56.22670989686649, 91.79153030695487, 56.90125589194058, 13.5123597447899, 38.409517939620045, 163.71669249916803, 28.896227133155794, 50.20016226568466, 32.93820792203999, 69.95711652083888, 56.946720592408596, 37.348679344135476, 141.29771045404303, 120.64059365345136, 43.04106560971678, 29.23554062670814, 30.62815508742175, 52.59221932671498, 14.951070373314312, 27.39579779517776, 12.893729423652786, 11.121343259331638, 11.121869270904483, 12.018677777982402, 9.348323777395713, 8.731663374418634, 11.433046360015169, 8.164417110613652, 7.866538668053017, 7.562682418417429, 7.88488472337102, 6.3912937040163476, 5.803121923181074, 5.795760475218517, 5.8025421469034635, 5.80232471464859, 5.214639609926615, 4.909301869443119, 4.916481684335336, 4.916838712775546, 4.916495614003933, 4.916249091047265, 4.9161580160664915, 4.915832890755298, 4.915754204225241, 4.916735429158702, 4.619961045571712, 8.809721607663569, 13.695179766302456, 14.49038174153444, 19.522762466727105, 19.91023787599762, 53.49970613010174, 18.01223183064022, 13.810823990601765, 50.01883058570374, 8.639878288595328, 47.243516404928144, 20.2582558366954, 17.97656159237586, 11.786173543949694, 15.51238260930835, 20.18684125542628, 91.79153030695487, 188.5534817667451, 68.87201723819133, 50.20016226568466, 102.80803027958, 43.04106560971678, 163.71669249916803, 36.70858259774691, 120.64059365345136], \"Category\": [\"Default\", \"Default\", \"Default\", \"Default\", \"Default\", \"Default\", \"Default\", \"Default\", \"Default\", \"Default\", \"Default\", \"Default\", \"Default\", \"Default\", \"Default\", \"Default\", \"Default\", \"Default\", \"Default\", \"Default\", \"Default\", \"Default\", \"Default\", \"Default\", \"Default\", \"Default\", \"Default\", \"Default\", \"Default\", \"Default\", \"Topic1\", \"Topic1\", \"Topic1\", \"Topic1\", \"Topic1\", \"Topic1\", \"Topic1\", \"Topic1\", \"Topic1\", \"Topic1\", \"Topic1\", \"Topic1\", \"Topic1\", \"Topic1\", \"Topic1\", \"Topic1\", \"Topic1\", \"Topic1\", \"Topic1\", \"Topic1\", \"Topic1\", \"Topic1\", \"Topic1\", \"Topic1\", \"Topic1\", \"Topic1\", \"Topic1\", \"Topic1\", \"Topic1\", \"Topic1\", \"Topic1\", \"Topic1\", \"Topic1\", \"Topic1\", \"Topic1\", \"Topic1\", \"Topic1\", \"Topic1\", \"Topic1\", \"Topic1\", \"Topic1\", \"Topic1\", \"Topic1\", \"Topic1\", \"Topic1\", \"Topic1\", \"Topic1\", \"Topic1\", \"Topic1\", \"Topic1\", \"Topic1\", \"Topic1\", \"Topic1\", \"Topic1\", \"Topic1\", \"Topic1\", \"Topic1\", \"Topic1\", \"Topic1\", \"Topic1\", \"Topic1\", \"Topic1\", \"Topic1\", \"Topic1\", \"Topic1\", \"Topic1\", \"Topic1\", \"Topic2\", \"Topic2\", \"Topic2\", \"Topic2\", \"Topic2\", \"Topic2\", \"Topic2\", \"Topic2\", \"Topic2\", \"Topic2\", \"Topic2\", \"Topic2\", \"Topic2\", \"Topic2\", \"Topic2\", \"Topic2\", \"Topic2\", \"Topic2\", \"Topic2\", \"Topic2\", \"Topic2\", \"Topic2\", \"Topic2\", \"Topic2\", \"Topic2\", \"Topic2\", \"Topic2\", \"Topic2\", \"Topic2\", \"Topic2\", \"Topic2\", \"Topic2\", \"Topic2\", \"Topic2\", \"Topic2\", \"Topic2\", \"Topic2\", \"Topic2\", \"Topic2\", \"Topic2\", \"Topic2\", \"Topic2\", \"Topic2\", \"Topic2\", \"Topic2\", \"Topic2\", \"Topic2\", \"Topic2\", \"Topic2\", \"Topic2\", \"Topic2\", \"Topic2\", \"Topic2\", \"Topic2\", \"Topic2\", \"Topic2\", \"Topic2\", \"Topic2\", \"Topic2\", \"Topic2\", \"Topic3\", \"Topic3\", \"Topic3\", \"Topic3\", \"Topic3\", \"Topic3\", \"Topic3\", \"Topic3\", \"Topic3\", \"Topic3\", \"Topic3\", \"Topic3\", \"Topic3\", \"Topic3\", \"Topic3\", \"Topic3\", \"Topic3\", \"Topic3\", \"Topic3\", \"Topic3\", \"Topic3\", \"Topic3\", \"Topic3\", \"Topic3\", \"Topic3\", \"Topic3\", \"Topic3\", \"Topic3\", \"Topic3\", \"Topic3\", \"Topic3\", \"Topic3\", \"Topic3\", \"Topic3\", \"Topic3\", \"Topic3\", \"Topic3\", \"Topic3\", \"Topic3\", \"Topic3\", \"Topic3\", \"Topic3\", \"Topic3\", \"Topic3\", \"Topic3\", \"Topic3\", \"Topic3\", \"Topic3\", \"Topic3\", \"Topic3\", \"Topic3\", \"Topic3\", \"Topic3\", \"Topic3\", \"Topic3\", \"Topic3\", \"Topic3\", \"Topic3\", \"Topic3\", \"Topic3\", \"Topic4\", \"Topic4\", \"Topic4\", \"Topic4\", \"Topic4\", \"Topic4\", \"Topic4\", \"Topic4\", \"Topic4\", \"Topic4\", \"Topic4\", \"Topic4\", \"Topic4\", \"Topic4\", \"Topic4\", \"Topic4\", \"Topic4\", \"Topic4\", \"Topic4\", \"Topic4\", \"Topic4\", \"Topic4\", \"Topic4\", \"Topic4\", \"Topic4\", \"Topic4\", \"Topic4\", \"Topic4\", \"Topic4\", \"Topic4\", \"Topic4\", \"Topic4\", \"Topic4\", \"Topic4\", \"Topic4\", \"Topic4\", \"Topic4\", \"Topic4\", \"Topic4\", \"Topic4\", \"Topic4\", \"Topic4\", \"Topic4\", \"Topic4\", \"Topic4\", \"Topic4\", \"Topic4\", \"Topic4\", \"Topic4\", \"Topic4\", \"Topic4\", \"Topic4\", \"Topic4\", \"Topic4\", \"Topic4\", \"Topic4\", \"Topic4\", \"Topic4\", \"Topic4\", \"Topic5\", \"Topic5\", \"Topic5\", \"Topic5\", \"Topic5\", \"Topic5\", \"Topic5\", \"Topic5\", \"Topic5\", \"Topic5\", \"Topic5\", \"Topic5\", \"Topic5\", \"Topic5\", \"Topic5\", \"Topic5\", \"Topic5\", \"Topic5\", \"Topic5\", \"Topic5\", \"Topic5\", \"Topic5\", \"Topic5\", \"Topic5\", \"Topic5\", \"Topic5\", \"Topic5\", \"Topic5\", \"Topic5\", \"Topic5\", \"Topic5\", \"Topic5\", \"Topic5\", \"Topic5\", \"Topic5\", \"Topic5\", \"Topic5\", \"Topic5\", \"Topic5\", \"Topic5\", \"Topic5\", \"Topic5\", \"Topic5\", \"Topic5\", \"Topic5\", \"Topic5\", \"Topic5\", \"Topic5\", \"Topic5\", \"Topic5\", \"Topic5\", \"Topic5\", \"Topic5\", \"Topic5\", \"Topic5\"], \"logprob\": [30.0, 29.0, 28.0, 27.0, 26.0, 25.0, 24.0, 23.0, 22.0, 21.0, 20.0, 19.0, 18.0, 17.0, 16.0, 15.0, 14.0, 13.0, 12.0, 11.0, 10.0, 9.0, 8.0, 7.0, 6.0, 5.0, 4.0, 3.0, 2.0, 1.0, -5.2528, -5.8767, -6.0859, -6.0865, -6.0155, -5.0242, -4.3479, -4.2822, -6.2587, -6.3222, -6.3212, -5.2957, -6.3534, -6.2937, -6.3882, -6.3579, -6.2961, -6.3911, -6.4234, -6.4249, -6.4593, -6.4606, -6.4609, -6.4601, -6.4619, -6.4979, -6.463, -6.4983, -6.4644, -6.5003, -6.2196, -6.4322, -5.9162, -5.8244, -4.859, -6.1682, -5.3202, -4.336, -5.8357, -5.2369, -5.8297, -4.6618, -5.3299, -5.0007, -5.6011, -5.4383, -5.8282, -4.2205, -5.1277, -5.46, -5.3046, -5.6515, -5.716, -5.8344, -4.9169, -4.835, -5.0857, -5.4302, -5.2731, -5.4503, -5.1278, -5.299, -5.3123, -5.6973, -5.542, -5.6932, -5.6737, -4.8998, -4.7654, -5.0365, -5.5865, -5.7611, -5.7826, -5.6282, -5.8516, -5.9037, -5.6978, -6.162, -6.3033, -6.3026, -6.3033, -6.4658, -6.4668, -6.4687, -6.3203, -6.5609, -6.4775, -6.4775, -6.5612, -5.2475, -6.7157, -6.7184, -6.7173, -6.7178, -6.72, -6.2746, -6.7214, -4.7996, -6.1591, -5.398, -5.8111, -3.7178, -5.5759, -5.1861, -5.3545, -5.0295, -5.1701, -5.5776, -5.4227, -5.2882, -5.5509, -4.1446, -5.7775, -4.2939, -5.2921, -5.3333, -5.7326, -5.1262, -5.3461, -5.0032, -4.9614, -5.3412, -5.4584, -5.6509, -5.587, -5.4938, -5.6096, -4.9905, -5.5435, -5.5471, -5.6235, -5.7988, -5.9001, -5.875, -5.3969, -5.9552, -6.0442, -6.1077, -6.1081, -6.1395, -6.1742, -6.2496, -6.2508, -6.3663, -6.5066, -6.5035, -6.505, -6.5083, -6.5055, -6.5056, -6.5057, -6.5067, -6.5554, -6.5569, -5.4597, -6.5612, -6.2153, -5.2801, -5.8966, -5.3395, -5.751, -5.6313, -5.5849, -5.8599, -5.2273, -4.0357, -4.1789, -3.9406, -6.0162, -5.6986, -5.3835, -4.6032, -5.7377, -5.2262, -5.4798, -5.5124, -5.5919, -5.3927, -5.3504, -5.6002, -5.5902, -5.5688, -4.9434, -5.4724, -5.5527, -5.4657, -5.6912, -4.5994, -5.2266, -5.631, -5.722, -5.7243, -5.7484, -5.7491, -5.7475, -5.9133, -5.9425, -6.0397, -6.111, -6.1468, -6.1467, -6.1473, -6.1493, -6.2254, -6.2663, -6.2674, -6.2683, -6.2692, -6.3101, -6.1595, -6.4047, -6.4052, -6.4053, -6.4537, -6.4542, -6.5065, -5.7082, -5.5064, -5.6166, -5.8307, -5.4612, -4.1258, -5.8706, -5.0457, -4.4206, -5.6411, -5.5827, -5.9547, -4.5945, -5.0454, -4.8061, -5.1249, -5.9128, -5.4246, -4.8425, -5.6314, -5.4373, -5.6059, -5.3555, -5.4651, -5.6103, -5.3402, -5.5374, -5.6686, -5.694, -5.7153, -4.0925, -5.3511, -4.7481, -5.5102, -5.6631, -5.6689, -5.5955, -5.8501, -5.9208, -5.6519, -5.9944, -6.0362, -6.0809, -6.0476, -6.2654, -6.3701, -6.3721, -6.3717, -6.374, -6.4914, -6.5599, -6.5589, -6.5588, -6.5594, -6.5597, -6.5605, -6.5619, -6.5632, -6.5689, -6.6347, -6.0022, -5.6417, -5.642, -5.4055, -5.4081, -4.725, -5.5902, -5.8066, -4.9325, -6.1916, -5.118, -5.6611, -5.7455, -6.004, -5.8845, -5.7668, -5.1047, -5.2645, -5.5332, -5.6735, -5.5709, -5.7526, -5.5794, -5.864, -5.8809], \"loglift\": [30.0, 29.0, 28.0, 27.0, 26.0, 25.0, 24.0, 23.0, 22.0, 21.0, 20.0, 19.0, 18.0, 17.0, 16.0, 15.0, 14.0, 13.0, 12.0, 11.0, 10.0, 9.0, 8.0, 7.0, 6.0, 5.0, 4.0, 3.0, 2.0, 1.0, 1.3462, 1.3274, 1.3183, 1.3178, 1.3177, 1.3143, 1.3093, 1.3079, 1.3066, 1.3053, 1.3042, 1.3033, 1.3028, 1.3016, 1.3006, 1.2998, 1.2992, 1.2992, 1.2991, 1.2976, 1.2971, 1.2967, 1.2965, 1.2964, 1.2955, 1.2946, 1.2945, 1.2943, 1.2931, 1.2924, 1.2913, 1.2919, 1.2486, 1.2341, 1.1292, 1.2605, 1.141, 0.9742, 1.1906, 1.0571, 1.1701, 0.9119, 1.0508, 0.9261, 1.0557, 0.978, 1.0943, 0.4111, 0.7861, 0.9119, 0.7985, 0.9634, 0.9947, 1.051, 0.293, 0.1857, 0.0931, 0.5001, 0.1789, 0.4544, -0.2544, 0.0699, 0.0264, 0.7875, -0.8098, 0.7457, 0.2557, 1.4887, 1.4886, 1.4726, 1.4674, 1.4647, 1.4645, 1.4635, 1.4618, 1.4586, 1.4471, 1.446, 1.4357, 1.4356, 1.435, 1.4246, 1.4238, 1.4227, 1.4186, 1.4179, 1.4164, 1.4163, 1.4148, 1.4064, 1.4039, 1.4036, 1.4024, 1.402, 1.4001, 1.3999, 1.3989, 1.3762, 1.3425, 1.2489, 1.2996, 1.0144, 1.2616, 1.1995, 1.2076, 1.1402, 1.1581, 1.2343, 1.1882, 1.1312, 1.1638, 0.7288, 1.228, 0.6044, 1.0042, 1.0215, 1.1925, 0.5975, 0.7564, 0.3071, -0.3298, 0.3981, 0.469, 1.0227, 0.6403, -0.3151, 0.5669, 1.5585, 1.5476, 1.5444, 1.5436, 1.5365, 1.5325, 1.5319, 1.5297, 1.5287, 1.5235, 1.5215, 1.5212, 1.5191, 1.517, 1.5097, 1.5092, 1.5041, 1.4926, 1.4926, 1.4912, 1.4909, 1.4908, 1.4907, 1.4906, 1.4897, 1.4867, 1.4854, 1.4823, 1.4816, 1.4791, 1.4146, 1.4406, 1.3786, 1.4055, 1.3565, 1.3375, 1.3843, 1.2482, 0.8625, 0.8418, 0.691, 1.3409, 1.1774, 1.0126, 0.5755, 1.1948, 0.833, 1.0096, 0.9472, 1.0248, 0.8167, 0.6878, 1.0161, 1.0003, 0.9039, -0.2112, 0.4323, 0.4392, -0.0968, 0.5715, 1.7124, 1.6829, 1.6816, 1.679, 1.6784, 1.6778, 1.6776, 1.6775, 1.6684, 1.6667, 1.6611, 1.6551, 1.654, 1.6533, 1.6527, 1.6509, 1.647, 1.6448, 1.6436, 1.6428, 1.642, 1.6412, 1.6409, 1.6315, 1.631, 1.6308, 1.6281, 1.6277, 1.6232, 1.6226, 1.5426, 1.5078, 1.5167, 1.4393, 1.0841, 1.4971, 1.1882, 0.9483, 1.3876, 1.3461, 1.4885, 0.7442, 0.8967, 0.646, 0.8054, 1.4552, 0.8987, 0.0309, 0.9764, 0.6183, 0.871, 0.3682, 0.4644, 0.7409, -0.3195, -0.3586, 0.5408, 0.9022, 0.8343, 1.9165, 1.9157, 1.913, 1.9046, 1.8996, 1.8938, 1.8896, 1.8863, 1.8838, 1.8832, 1.8774, 1.8727, 1.8675, 1.8591, 1.8512, 1.8431, 1.8423, 1.8416, 1.8393, 1.8287, 1.8205, 1.8201, 1.8201, 1.8195, 1.8193, 1.8185, 1.8172, 1.816, 1.8101, 1.8065, 1.7935, 1.7128, 1.6561, 1.5945, 1.5722, 1.2668, 1.4903, 1.5396, 1.1266, 1.6236, 0.9983, 1.3019, 1.337, 1.5006, 1.3455, 1.1997, 0.3473, -0.5323, 0.2061, 0.382, -0.2322, 0.4568, -0.706, 0.5045, -0.7022]}, \"token.table\": {\"Topic\": [5, 4, 4, 5, 1, 2, 3, 5, 2, 3, 3, 4, 1, 2, 3, 4, 5, 1, 4, 2, 3, 5, 5, 1, 3, 2, 3, 1, 2, 3, 4, 5, 1, 4, 1, 2, 3, 2, 3, 3, 4, 5, 4, 1, 2, 3, 5, 1, 2, 3, 4, 4, 2, 4, 5, 5, 2, 3, 1, 3, 3, 4, 5, 3, 1, 5, 2, 4, 3, 1, 2, 3, 4, 1, 4, 5, 5, 3, 4, 5, 2, 1, 2, 3, 4, 5, 1, 2, 1, 4, 1, 3, 5, 4, 5, 2, 1, 3, 4, 5, 3, 2, 3, 3, 2, 5, 4, 3, 4, 2, 1, 4, 1, 2, 1, 3, 2, 2, 4, 5, 1, 3, 5, 2, 5, 1, 2, 4, 1, 3, 2, 2, 3, 1, 1, 2, 3, 5, 5, 1, 2, 3, 4, 4, 2, 4, 1, 2, 2, 3, 4, 5, 4, 5, 1, 2, 3, 4, 5, 2, 5, 3, 2, 5, 2, 1, 1, 2, 3, 5, 1, 2, 4, 5, 2, 3, 3, 1, 2, 3, 4, 5, 1, 2, 4, 2, 3, 4, 5, 4, 3, 1, 3, 4, 5, 3, 5, 1, 2, 3, 5, 3, 4, 5, 1, 1, 2, 3, 4, 5, 1, 2, 3, 4, 5, 1, 4, 5, 5, 1, 2, 4, 2, 3, 5, 2, 3, 1, 1, 1, 2, 3, 4, 5, 5, 2, 4, 2, 1, 2, 3, 5, 3, 1, 2, 3, 4, 5, 5, 2, 5, 2, 3, 2, 4, 2, 3, 2, 4, 5, 1, 2, 3, 1, 2, 3, 4, 5, 4, 1, 1, 1, 1, 4, 1, 2, 3, 4, 5, 4, 3, 1, 1, 2, 3, 4, 5, 2, 3, 4, 5, 1, 3, 5, 4, 3, 5, 2, 3, 2, 3, 5, 5, 4, 5, 1, 2, 3, 4, 1, 2, 3, 4, 5, 1, 3, 1, 2, 3, 4, 1, 2, 3, 4, 5, 2, 2, 3, 2, 4, 1, 3, 1, 2, 3, 4, 2, 2, 4, 5, 1, 2, 3, 5, 1, 4, 3, 5, 1, 2, 3, 4, 4, 2, 4, 2, 1, 2, 3, 4, 1, 2, 3, 4, 5, 1, 2, 3, 5, 5, 1, 2, 3, 1, 2, 5, 3, 1, 2, 3, 4, 3, 1, 3, 3, 5, 4, 1, 4, 5, 1, 2, 5, 1, 2, 3, 1, 3, 1, 2, 3, 4, 1, 3, 4, 5, 2, 5, 1, 3, 4, 5, 1, 2, 3, 1, 2, 3, 4, 5, 4, 1, 2, 4, 4, 5, 4, 2, 1, 1, 4, 2, 1, 2, 2, 3, 2, 1, 2, 4, 5, 1, 2, 5, 1, 2, 5, 2, 3, 5, 1, 2, 3, 4, 5, 1, 3, 3, 1, 3, 4, 1, 2, 3, 4, 1, 3, 5, 3, 2, 4, 5, 1, 2, 3, 4, 5, 1, 1, 3, 4, 5, 1, 2, 3, 4, 5, 1, 5, 3, 4, 1, 4, 1, 2, 3, 4, 5, 1, 2, 3, 4, 5, 2, 2, 3, 1, 3, 5, 5, 2, 2, 5, 1, 2, 3, 4, 5, 2, 3, 5, 1, 3, 4, 1, 2, 3, 4, 2, 5, 3, 1, 3, 4, 2, 1, 1, 2, 3, 1, 4, 1], \"Freq\": [0.9162057281591723, 0.9067032268399953, 0.20703388313097118, 0.7591242381468943, 0.20234832622559987, 0.3822135050927998, 0.29228091565919984, 0.11241573679199993, 0.9646210231734242, 0.8761840510809324, 0.9710474717958967, 0.8917182041895575, 0.26119758036896606, 0.29384727791508686, 0.03264969754612076, 0.4244460680995699, 0.8898449871514473, 0.9594073979910713, 0.9178845155247194, 0.7557029998877582, 0.1799292856875615, 0.035985857137512296, 0.8658081660307608, 0.9180727437763955, 0.923111251252962, 0.783747480056087, 0.17416610667913043, 0.09575495453598512, 0.09575495453598512, 0.6702846817518958, 0.04787747726799256, 0.04787747726799256, 0.0713062064314822, 0.9269806836092686, 0.9573378557838115, 0.1545626232897072, 0.8114537722709629, 0.272833931604059, 0.7275571509441573, 0.15814103115406067, 0.6852778016675962, 0.10542735410270711, 0.9511465480321477, 0.05607507436965233, 0.11215014873930466, 0.3177587547613632, 0.504675669326871, 0.08139948701333821, 0.40699743506669106, 0.48839692208002927, 0.025045996004104065, 0.9412714795953513, 0.16655348588711613, 0.16655348588711613, 0.6106961149194258, 0.8616912852013076, 0.8010982883323023, 0.1716639189283505, 0.07175908817366448, 0.8611090580839739, 0.05379355235761538, 0.8069032853642307, 0.05379355235761538, 0.9738728277483838, 0.2896279036444162, 0.6516627831999365, 0.17402860332255837, 0.812133482171939, 0.9473478728020273, 0.30432198697222146, 0.08492706613178273, 0.4741761192357869, 0.1273905991976741, 0.6286926081812453, 0.1640067673516292, 0.19134122857690075, 0.9798617453780122, 0.464672510233689, 0.3020371316518978, 0.2323362551168445, 0.8736119995715054, 0.2468346460828369, 0.33395275646501466, 0.10163779544587402, 0.1451968506369629, 0.17423622076435547, 0.6903925343170595, 0.30684112636313754, 0.8740244334795475, 0.9283596030209739, 0.9832997829306196, 0.9233382427989588, 0.9627394401723696, 0.91237244722068, 0.813643497000626, 0.9730049966368001, 0.5640533232310971, 0.20890863823373967, 0.1880177744103657, 0.02089086382337397, 0.9707980289179162, 0.9652154363657798, 0.9709597883804044, 0.9711393177273662, 0.956693717841787, 0.9588390328033358, 0.9780813995488558, 0.9710633865882349, 0.866196596395888, 0.9416656940990311, 0.8899222617142674, 0.8919264584081001, 0.8194285646246887, 0.15364285586712914, 0.9292050059642994, 0.9785368189022514, 0.8764934741422512, 0.3337679438399774, 0.11125598127999246, 0.5562799063999623, 0.1509992627694159, 0.8304959452317874, 0.8137103349394235, 0.9438794637169775, 0.9306849558969887, 0.44466425868396103, 0.10261482892706793, 0.44466425868396103, 0.9516669385534413, 0.026435192737595592, 0.9652899094517894, 0.9415240476037732, 0.8715013885791172, 0.9831617519041546, 0.08061420334836654, 0.6180422256708101, 0.295585412277344, 0.02687140111612218, 0.9255975079626342, 0.3524207049716432, 0.19578928053980174, 0.4111574891335837, 0.019578928053980177, 0.9121830098297893, 0.9811400667958744, 0.9290804304584139, 0.9261845609674774, 0.03430313188768435, 0.2988038150277764, 0.15936203468148075, 0.33864432369814657, 0.19920254335185095, 0.9127173699277386, 0.8135308546132902, 0.10470308746399397, 0.20940617492798794, 0.5584164664746345, 0.10470308746399397, 0.034901029154664656, 0.1460367833156218, 0.80320230823592, 0.9686336001292388, 0.9049700941693546, 0.10055223268548384, 0.8735142910517064, 0.9831695938756173, 0.19604239845853194, 0.22054769826584844, 0.3675794971097474, 0.19604239845853194, 0.13224083870877765, 0.727324612898277, 0.03306020967719441, 0.09918062903158323, 0.14640741600790916, 0.8052407880435004, 0.8714358792677686, 0.11826994462512776, 0.42577180065045994, 0.16557792247517886, 0.21288590032522997, 0.07096196677507666, 0.3420525379976653, 0.12826970174912447, 0.5216301204464395, 0.6878469644318502, 0.08598087055398128, 0.14330145092330215, 0.08598087055398128, 0.9120227674176913, 0.8719433454630887, 0.21251915151449632, 0.12143951515114075, 0.42503830302899265, 0.21251915151449632, 0.1135109648788562, 0.7945767541519935, 0.5260628511553416, 0.0876771418592236, 0.23380571162459626, 0.14612856976537267, 0.09541150035056459, 0.6678805024539521, 0.19082300070112918, 0.9193746868498671, 0.10438695620999072, 0.48017999856595733, 0.29228347738797406, 0.14614173869398703, 0.8135899321550638, 0.16344951440234215, 0.354140614538408, 0.10896634293489477, 0.13620792866861844, 0.2451742716035132, 0.730844558137117, 0.045677784883569814, 0.22838892441784908, 0.9152421092569295, 0.31145934583526713, 0.2076395638901781, 0.48449231574374885, 0.45350012835940895, 0.5139668121406634, 0.030233341890627263, 0.18957695379450248, 0.7583078151780099, 0.9495161537882162, 0.9290222131016216, 0.036235801716628206, 0.9058950429157051, 0.036235801716628206, 0.036235801716628206, 0.813547944084605, 0.8626995579577477, 0.2220189557310107, 0.7400631857700356, 0.9422437496924096, 0.9423444877982119, 0.2578585186262594, 0.19339388896969456, 0.5157170372525188, 0.9710716675017941, 0.28182885188436163, 0.16578167757903625, 0.3647196906738797, 0.12433625818427718, 0.06631267103161449, 0.9621232743768394, 0.8458600417576424, 0.08458600417576424, 0.7726118409437701, 0.20602982425167204, 0.9542411743247545, 0.8917502187805861, 0.7064656099817808, 0.28781932258516996, 0.34676054125696265, 0.14861166053869826, 0.4458349816160948, 0.716932532896654, 0.11029731275333139, 0.13787164094166424, 0.3836624505775822, 0.15826076086325266, 0.40764135373868104, 0.014387341896659332, 0.028774683793318663, 0.8816466034246793, 0.9509899865926982, 0.9053179920887647, 0.8885790602190051, 0.868993619979414, 0.10862420249742676, 0.18582812795217982, 0.4002451986662334, 0.04288341414281073, 0.25730048485686435, 0.11435577104749527, 0.941817278981853, 0.9142227478229065, 0.9391675564595297, 0.11137423612245244, 0.6099065311467633, 0.1644095866569536, 0.02651767526725058, 0.08485656085520185, 0.8761056731598973, 0.04492849605948191, 0.06739274408922287, 0.9387770736039787, 0.24438536920869772, 0.5585951296198804, 0.17456097800621265, 0.8662165767055158, 0.038028438913664, 0.9507109728416, 0.13078815686821635, 0.8501230196434063, 0.3455381379536307, 0.1480877734086989, 0.4936259113623296, 0.8135876270501642, 0.9194664073527058, 0.8136284240121598, 0.05600608022738072, 0.22402432090952287, 0.5600608022738072, 0.1400152005684518, 0.04637015873073256, 0.09274031746146512, 0.13911047619219769, 0.741922539691721, 0.8147798009523776, 0.9823509312203221, 0.9036162109321747, 0.04243922153026102, 0.7639059875446983, 0.12731766459078306, 0.08487844306052204, 0.30503903689552603, 0.08715401054157886, 0.06536550790618414, 0.3377217908486181, 0.19609652371855243, 0.97167070123855, 0.4303625684135935, 0.5533233022460488, 0.14797542706260472, 0.8138648488443259, 0.4081035107525799, 0.5441380143367732, 0.8069233236273057, 0.17931629413940126, 0.9202182806217587, 0.9358146730183168, 0.9837507047238728, 0.6931815720442508, 0.03851008733579171, 0.23106052401475027, 0.5508150238546272, 0.18360500795154241, 0.1224033386343616, 0.15300417329295202, 0.15957080004554094, 0.7978540002277047, 0.8096704084658942, 0.20241760211647356, 0.026035213500258062, 0.2082817080020645, 0.31242256200309676, 0.44259862950438705, 0.9401930150280903, 0.14499548972686707, 0.7974751934977689, 0.9420130580121462, 0.1244959915463613, 0.2667771247422028, 0.16006627484532168, 0.4268433995875245, 0.04525295532619688, 0.04525295532619688, 0.6787943298929532, 0.22626477663098438, 0.8617235756173668, 0.6712498902288476, 0.30253516179328344, 0.018908447612080215, 0.009454223806040107, 0.8616051956494428, 0.39402551319203566, 0.2741047048292422, 0.30836779293289746, 0.7268707016244095, 0.10903060524366141, 0.14537414032488188, 0.9610097961312913, 0.6480335487719967, 0.12260094165956693, 0.1751442023708099, 0.07005768094832396, 0.9542113025613218, 0.04759822560333799, 0.9519645120667598, 0.8386404486614214, 0.11980577838020305, 0.9802198580825945, 0.9822463186719158, 0.906624243504953, 0.8877745516369825, 0.9947877423146408, 0.728996426466693, 0.24299880882223102, 0.865041098805519, 0.07864009989141083, 0.8756253352025409, 0.09667405349184832, 0.918403508172559, 0.5532122837942258, 0.1728788386856956, 0.22474249029140425, 0.034575767737139114, 0.019992470601378227, 0.4798192944330774, 0.07996988240551291, 0.43983435323032094, 0.9718998848440139, 0.8991719585320103, 0.7821717676802349, 0.07449254930287952, 0.05586941197715964, 0.0931156866285994, 0.6857857681329336, 0.1142976280221556, 0.2000208490387723, 0.6397847662930152, 0.11073197878148339, 0.1353390851773686, 0.09842842558354079, 0.012303553197942598, 0.8918127154039035, 0.9496758155157171, 0.026751431422977947, 0.026751431422977947, 0.941970428967949, 0.8136973100778891, 0.9119955640897532, 0.8743771068035424, 0.9289346062571374, 0.8413643903991964, 0.15775582319984932, 0.9408610627894752, 0.9830819440021752, 0.9515662571291134, 0.6922141008122576, 0.2902833325986887, 0.9417897517746125, 0.05920648239984363, 0.947303718397498, 0.3013525020327948, 0.7031558380765212, 0.2956689786622146, 0.628296579657206, 0.07391724466555365, 0.7584565710753384, 0.1896141427688346, 0.04740353569220865, 0.6081922745562804, 0.2787547925049618, 0.12670672386589174, 0.1954596047080698, 0.4581084485345386, 0.09162168970690772, 0.18324337941381544, 0.067189239118399, 0.9209319621788056, 0.8907330749235257, 0.9311513738692444, 0.7332925668425548, 0.1517157034846665, 0.101143802323111, 0.33364520032665124, 0.24584383181963773, 0.14048218961122155, 0.2809643792224431, 0.3282179973042598, 0.5370839955887888, 0.11935199901973086, 0.9610148184822099, 0.7481703888613306, 0.11084005760908601, 0.13855007201135752, 0.12266294096367514, 0.35046554561050036, 0.24532588192735028, 0.14018621824420016, 0.12266294096367514, 0.9014388662987292, 0.4217833090639978, 0.0878715227216662, 0.40420900451966457, 0.0878715227216662, 0.2706904877696705, 0.020051147242197812, 0.1904858988008792, 0.46117638657054966, 0.06015344172659343, 0.9208749172675805, 0.9363878070554836, 0.9788286879339126, 0.8661712856869626, 0.9493963652607461, 0.9804728235880035, 0.2142871061576293, 0.07142903538587644, 0.09523871384783525, 0.5714322830870115, 0.047619356923917625, 0.27517003367352905, 0.1481684796703618, 0.16933540533755634, 0.021166925667194542, 0.3810046620095018, 0.9544782703655683, 0.9629306654681017, 0.9738582123517181, 0.2048890369289311, 0.10244451846446555, 0.7171116292512588, 0.8991294319706342, 0.9726624788950369, 0.231484742399671, 0.6944542271990131, 0.26262539926672257, 0.1361761329531154, 0.11672239967409892, 0.36962093230131327, 0.10699553303459068, 0.8764910585665427, 0.03650194849138583, 0.9490506607760315, 0.9060184379024152, 0.06040122919349435, 0.9164850379489946, 0.13387354219219813, 0.2945217928228359, 0.1874229590690774, 0.3748459181381548, 0.33938071462161334, 0.5939162505878233, 0.953855285306096, 0.9380340235420607, 0.03752136094168242, 0.012507120313894142, 0.9645108890431414, 0.9052529352097594, 0.09505655382102048, 0.7129241536576536, 0.19011310764204095, 0.6621663842541098, 0.31365776096247305, 0.9052012901759985], \"Term\": [\"31st\", \"absolute\", \"account\", \"account\", \"actually\", \"actually\", \"actually\", \"actually\", \"address\", \"administration\", \"adult\", \"alarm\", \"allow\", \"allow\", \"allow\", \"allow\", \"alumnus\", \"amazing\", \"america\", \"apartment\", \"apartment\", \"apartment\", \"april\", \"article\", \"asshole\", \"august\", \"august\", \"away\", \"away\", \"away\", \"away\", \"away\", \"bad\", \"bad\", \"basically\", \"bathroom\", \"bathroom\", \"bedroom\", \"bedroom\", \"bring\", \"bring\", \"bring\", \"budget\", \"buffalo\", \"buffalo\", \"buffalo\", \"buffalo\", \"campus\", \"campus\", \"campus\", \"campus\", \"capen\", \"care\", \"care\", \"care\", \"catch\", \"center\", \"center\", \"chair\", \"chair\", \"check\", \"check\", \"check\", \"chestnut\", \"chinese\", \"chinese\", \"choose\", \"choose\", \"city\", \"class\", \"class\", \"class\", \"class\", \"club\", \"club\", \"club\", \"code\", \"college\", \"college\", \"college\", \"color\", \"come\", \"come\", \"come\", \"come\", \"come\", \"community\", \"community\", \"commute\", \"commuter\", \"compare\", \"complain\", \"consider\", \"content\", \"control\", \"cool\", \"course\", \"course\", \"course\", \"course\", \"debate\", \"decide\", \"decision\", \"defend\", \"definitely\", \"delegate\", \"delete\", \"delivery\", \"deposit\", \"depressing\", \"deserve\", \"didn\\\\'t\", \"different\", \"different\", \"downtown\", \"drop\", \"dryer\", \"dude\", \"dude\", \"dude\", \"easy\", \"easy\", \"election\", \"electricity\", \"entire\", \"event\", \"event\", \"event\", \"exam\", \"exam\", \"explain\", \"expose\", \"extremely\", \"fail\", \"fall\", \"fall\", \"fall\", \"fall\", \"family\", \"feel\", \"feel\", \"feel\", \"feel\", \"feeling\", \"fest\", \"figure\", \"final\", \"final\", \"find\", \"find\", \"find\", \"find\", \"fire\", \"flag\", \"floor\", \"floor\", \"floor\", \"floor\", \"floor\", \"follow\", \"follow\", \"food\", \"football\", \"football\", \"forward\", \"frat\", \"free\", \"free\", \"free\", \"free\", \"friend\", \"friend\", \"friend\", \"friend\", \"fully\", \"fully\", \"general\", \"get\", \"get\", \"get\", \"get\", \"get\", \"go\", \"go\", \"go\", \"great\", \"great\", \"great\", \"great\", \"grow\", \"guarantee\", \"guy\", \"guy\", \"guy\", \"guy\", \"hang\", \"hang\", \"happen\", \"happen\", \"happen\", \"happen\", \"hate\", \"hate\", \"hate\", \"heart\", \"help\", \"help\", \"help\", \"help\", \"hole\", \"home\", \"home\", \"home\", \"home\", \"home\", \"honestly\", \"honestly\", \"honestly\", \"hong\", \"hope\", \"hope\", \"hope\", \"house\", \"house\", \"house\", \"housing\", \"housing\", \"hurt\", \"imagine\", \"include\", \"include\", \"include\", \"include\", \"incredibly\", \"indoor\", \"information\", \"information\", \"interesting\", \"join\", \"july\", \"july\", \"july\", \"keep\", \"know\", \"know\", \"know\", \"know\", \"know\", \"kong\", \"large\", \"large\", \"late\", \"late\", \"laundry\", \"leadership\", \"lease\", \"lease\", \"leave\", \"leave\", \"leave\", \"life\", \"life\", \"life\", \"like\", \"like\", \"like\", \"like\", \"like\", \"likely\", \"link\", \"list\", \"listen\", \"little\", \"little\", \"live\", \"live\", \"live\", \"live\", \"live\", \"lmao\", \"lock\", \"lockwood\", \"look\", \"look\", \"look\", \"look\", \"look\", \"love\", \"love\", \"love\", \"machine\", \"major\", \"major\", \"major\", \"mandate\", \"mask\", \"mask\", \"matter\", \"matter\", \"maybe\", \"maybe\", \"maybe\", \"medical\", \"meme\", \"mild\", \"minute\", \"minute\", \"minute\", \"minute\", \"miss\", \"miss\", \"miss\", \"miss\", \"mood\", \"multiple\", \"name\", \"near\", \"near\", \"near\", \"near\", \"need\", \"need\", \"need\", \"need\", \"need\", \"nice\", \"north\", \"north\", \"office\", \"office\", \"online\", \"online\", \"opinion\", \"opinion\", \"order\", \"outside\", \"park\", \"parking\", \"parking\", \"parking\", \"party\", \"party\", \"party\", \"party\", \"pass\", \"pass\", \"pay\", \"pay\", \"person\", \"person\", \"person\", \"person\", \"personal\", \"phone\", \"phone\", \"piece\", \"place\", \"place\", \"place\", \"place\", \"plan\", \"plan\", \"plan\", \"plan\", \"position\", \"post\", \"post\", \"post\", \"post\", \"president\", \"pretty\", \"pretty\", \"pretty\", \"problem\", \"problem\", \"problem\", \"prof\", \"professor\", \"professor\", \"professor\", \"professor\", \"protest\", \"quiet\", \"quiet\", \"rate\", \"rate\", \"real\", \"receive\", \"regardless\", \"religious\", \"remove\", \"rent\", \"rent\", \"require\", \"require\", \"respect\", \"rest\", \"rest\", \"right\", \"right\", \"right\", \"right\", \"room\", \"room\", \"room\", \"room\", \"roommate\", \"rule\", \"say\", \"say\", \"say\", \"say\", \"schedule\", \"schedule\", \"schedule\", \"school\", \"school\", \"school\", \"school\", \"school\", \"section\", \"semester\", \"semester\", \"semester\", \"seriously\", \"shot\", \"shut\", \"single\", \"situation\", \"snow\", \"snow\", \"sophomore\", \"sort\", \"sound\", \"south\", \"south\", \"spanish\", \"speech\", \"speech\", \"spread\", \"spread\", \"spring\", \"spring\", \"spring\", \"state\", \"state\", \"state\", \"stop\", \"stop\", \"stop\", \"student\", \"student\", \"student\", \"student\", \"student\", \"submit\", \"subreddit\", \"suny\", \"sure\", \"sure\", \"sure\", \"take\", \"take\", \"take\", \"take\", \"talk\", \"talk\", \"talk\", \"teach\", \"tell\", \"tell\", \"tell\", \"thank\", \"thank\", \"thank\", \"thank\", \"thank\", \"that\\\\\", \"thing\", \"thing\", \"thing\", \"thing\", \"think\", \"think\", \"think\", \"think\", \"think\", \"thought\", \"ticket\", \"today\", \"tough\", \"true\", \"trump\", \"try\", \"try\", \"try\", \"try\", \"try\", \"university\", \"university\", \"university\", \"university\", \"university\", \"utility\", \"view\", \"villas\", \"virus\", \"virus\", \"virus\", \"voice\", \"vote\", \"wake\", \"wake\", \"want\", \"want\", \"want\", \"want\", \"want\", \"washer\", \"wear\", \"wear\", \"week\", \"week\", \"welcome\", \"well\", \"well\", \"well\", \"well\", \"west\", \"west\", \"wonder\", \"work\", \"work\", \"work\", \"workload\", \"worth\", \"yeah\", \"yeah\", \"yeah\", \"year\", \"year\", \"zoom\"]}, \"R\": 30, \"lambda.step\": 0.01, \"plot.opts\": {\"xlab\": \"PC1\", \"ylab\": \"PC2\"}, \"topic.order\": [2, 5, 3, 1, 4]};\n",
       "\n",
       "function LDAvis_load_lib(url, callback){\n",
       "  var s = document.createElement('script');\n",
       "  s.src = url;\n",
       "  s.async = true;\n",
       "  s.onreadystatechange = s.onload = callback;\n",
       "  s.onerror = function(){console.warn(\"failed to load library \" + url);};\n",
       "  document.getElementsByTagName(\"head\")[0].appendChild(s);\n",
       "}\n",
       "\n",
       "if(typeof(LDAvis) !== \"undefined\"){\n",
       "   // already loaded: just create the visualization\n",
       "   !function(LDAvis){\n",
       "       new LDAvis(\"#\" + \"ldavis_el20841406511013831368073552941\", ldavis_el20841406511013831368073552941_data);\n",
       "   }(LDAvis);\n",
       "}else if(typeof define === \"function\" && define.amd){\n",
       "   // require.js is available: use it to load d3/LDAvis\n",
       "   require.config({paths: {d3: \"https://d3js.org/d3.v5\"}});\n",
       "   require([\"d3\"], function(d3){\n",
       "      window.d3 = d3;\n",
       "      LDAvis_load_lib(\"https://cdn.jsdelivr.net/gh/bmabey/pyLDAvis@3.3.1/pyLDAvis/js/ldavis.v3.0.0.js\", function(){\n",
       "        new LDAvis(\"#\" + \"ldavis_el20841406511013831368073552941\", ldavis_el20841406511013831368073552941_data);\n",
       "      });\n",
       "    });\n",
       "}else{\n",
       "    // require.js not available: dynamically load d3 & LDAvis\n",
       "    LDAvis_load_lib(\"https://d3js.org/d3.v5.js\", function(){\n",
       "         LDAvis_load_lib(\"https://cdn.jsdelivr.net/gh/bmabey/pyLDAvis@3.3.1/pyLDAvis/js/ldavis.v3.0.0.js\", function(){\n",
       "                 new LDAvis(\"#\" + \"ldavis_el20841406511013831368073552941\", ldavis_el20841406511013831368073552941_data);\n",
       "            })\n",
       "         });\n",
       "}\n",
       "</script>"
      ],
      "text/plain": [
       "<IPython.core.display.HTML object>"
      ]
     },
     "execution_count": 28,
     "metadata": {},
     "output_type": "execute_result"
    }
   ],
   "source": [
    "lda_display = gensim_models.prepare(ldamodel, corpus, dictionary, sort_topics=True)\n",
    "pyLDAvis.display(lda_display)"
   ]
  },
  {
   "cell_type": "markdown",
   "id": "81147ae8",
   "metadata": {},
   "source": [
    "### II. Using Part of Speech - Nouns"
   ]
  },
  {
   "cell_type": "code",
   "execution_count": 29,
   "id": "48f6480f",
   "metadata": {},
   "outputs": [
    {
     "data": {
      "text/html": [
       "<div>\n",
       "<style scoped>\n",
       "    .dataframe tbody tr th:only-of-type {\n",
       "        vertical-align: middle;\n",
       "    }\n",
       "\n",
       "    .dataframe tbody tr th {\n",
       "        vertical-align: top;\n",
       "    }\n",
       "\n",
       "    .dataframe thead th {\n",
       "        text-align: right;\n",
       "    }\n",
       "</style>\n",
       "<table border=\"1\" class=\"dataframe\">\n",
       "  <thead>\n",
       "    <tr style=\"text-align: right;\">\n",
       "      <th></th>\n",
       "      <th>0</th>\n",
       "      <th>cleaned</th>\n",
       "      <th>cleaned_sentences</th>\n",
       "    </tr>\n",
       "  </thead>\n",
       "  <tbody>\n",
       "    <tr>\n",
       "      <th>0</th>\n",
       "      <td>'This made my day</td>\n",
       "      <td>[]</td>\n",
       "      <td></td>\n",
       "    </tr>\n",
       "    <tr>\n",
       "      <th>1</th>\n",
       "      <td>thank you'</td>\n",
       "      <td>[thank]</td>\n",
       "      <td>thank</td>\n",
       "    </tr>\n",
       "    <tr>\n",
       "      <th>2</th>\n",
       "      <td>'COVID-19: *”goddamn it I just verified an hou...</td>\n",
       "      <td>[covid-19, goddamn, verify, hour]</td>\n",
       "      <td>covid-19 goddamn verify hour</td>\n",
       "    </tr>\n",
       "    <tr>\n",
       "      <th>3</th>\n",
       "      <td>'*Set to remind me in seven days.*'</td>\n",
       "      <td>[remind, seven, day]</td>\n",
       "      <td>remind seven day</td>\n",
       "    </tr>\n",
       "    <tr>\n",
       "      <th>4</th>\n",
       "      <td>'Alright this is some actual hilarious content</td>\n",
       "      <td>[alright, actual, hilarious, content]</td>\n",
       "      <td>alright actual hilarious content</td>\n",
       "    </tr>\n",
       "  </tbody>\n",
       "</table>\n",
       "</div>"
      ],
      "text/plain": [
       "                                                   0  \\\n",
       "0                                  'This made my day   \n",
       "1                                         thank you'   \n",
       "2  'COVID-19: *”goddamn it I just verified an hou...   \n",
       "3                '*Set to remind me in seven days.*'   \n",
       "4     'Alright this is some actual hilarious content   \n",
       "\n",
       "                                 cleaned                 cleaned_sentences  \n",
       "0                                     []                                    \n",
       "1                                [thank]                             thank  \n",
       "2      [covid-19, goddamn, verify, hour]      covid-19 goddamn verify hour  \n",
       "3                   [remind, seven, day]                  remind seven day  \n",
       "4  [alright, actual, hilarious, content]  alright actual hilarious content  "
      ]
     },
     "execution_count": 29,
     "metadata": {},
     "output_type": "execute_result"
    }
   ],
   "source": [
    "total_words.head()"
   ]
  },
  {
   "cell_type": "markdown",
   "id": "b0316568",
   "metadata": {},
   "source": [
    "#### Example of how Part of Speech works (notice the last columns)"
   ]
  },
  {
   "cell_type": "code",
   "execution_count": 30,
   "id": "7a251aeb",
   "metadata": {
    "scrolled": false
   },
   "outputs": [
    {
     "name": "stdout",
     "output_type": "stream",
     "text": [
      "Sentence: 'What happened to CyanideSandwhich 😔'\n"
     ]
    },
    {
     "data": {
      "text/html": [
       "<div>\n",
       "<style scoped>\n",
       "    .dataframe tbody tr th:only-of-type {\n",
       "        vertical-align: middle;\n",
       "    }\n",
       "\n",
       "    .dataframe tbody tr th {\n",
       "        vertical-align: top;\n",
       "    }\n",
       "\n",
       "    .dataframe thead th {\n",
       "        text-align: right;\n",
       "    }\n",
       "</style>\n",
       "<table border=\"1\" class=\"dataframe\">\n",
       "  <thead>\n",
       "    <tr style=\"text-align: right;\">\n",
       "      <th></th>\n",
       "      <th>Word</th>\n",
       "      <th>Is Stopword</th>\n",
       "      <th>Is Alphabet</th>\n",
       "      <th>Part-of-Speech</th>\n",
       "    </tr>\n",
       "  </thead>\n",
       "  <tbody>\n",
       "    <tr>\n",
       "      <th>0</th>\n",
       "      <td>'</td>\n",
       "      <td>False</td>\n",
       "      <td>False</td>\n",
       "      <td>PUNCT</td>\n",
       "    </tr>\n",
       "    <tr>\n",
       "      <th>1</th>\n",
       "      <td>What</td>\n",
       "      <td>True</td>\n",
       "      <td>True</td>\n",
       "      <td>PRON</td>\n",
       "    </tr>\n",
       "    <tr>\n",
       "      <th>2</th>\n",
       "      <td>happened</td>\n",
       "      <td>False</td>\n",
       "      <td>True</td>\n",
       "      <td>VERB</td>\n",
       "    </tr>\n",
       "    <tr>\n",
       "      <th>3</th>\n",
       "      <td>to</td>\n",
       "      <td>True</td>\n",
       "      <td>True</td>\n",
       "      <td>ADP</td>\n",
       "    </tr>\n",
       "    <tr>\n",
       "      <th>4</th>\n",
       "      <td>CyanideSandwhich</td>\n",
       "      <td>False</td>\n",
       "      <td>True</td>\n",
       "      <td>PROPN</td>\n",
       "    </tr>\n",
       "    <tr>\n",
       "      <th>5</th>\n",
       "      <td>😔</td>\n",
       "      <td>False</td>\n",
       "      <td>False</td>\n",
       "      <td>PROPN</td>\n",
       "    </tr>\n",
       "    <tr>\n",
       "      <th>6</th>\n",
       "      <td>'</td>\n",
       "      <td>False</td>\n",
       "      <td>False</td>\n",
       "      <td>PUNCT</td>\n",
       "    </tr>\n",
       "  </tbody>\n",
       "</table>\n",
       "</div>"
      ],
      "text/plain": [
       "               Word  Is Stopword  Is Alphabet Part-of-Speech\n",
       "0                 '        False        False          PUNCT\n",
       "1              What         True         True           PRON\n",
       "2          happened        False         True           VERB\n",
       "3                to         True         True            ADP\n",
       "4  CyanideSandwhich        False         True          PROPN\n",
       "5                 😔        False        False          PROPN\n",
       "6                 '        False        False          PUNCT"
      ]
     },
     "execution_count": 30,
     "metadata": {},
     "output_type": "execute_result"
    }
   ],
   "source": [
    "doc = nlp(total_words[0][20])\n",
    "\n",
    "print(f'Sentence: {total_words[0][20]}')\n",
    "result = {'Word':[], 'Is Stopword':[], 'Is Alphabet':[], 'Part-of-Speech':[]}\n",
    "\n",
    "for token in nlp(doc):\n",
    "    result['Word'].append(token), \n",
    "    result['Is Stopword'].append(token.is_stop),\n",
    "    result['Is Alphabet'].append(token.is_alpha),\n",
    "    result['Part-of-Speech'].append(token.pos_)\n",
    "result_df = pd.DataFrame(result)\n",
    "result_df"
   ]
  },
  {
   "cell_type": "markdown",
   "id": "c7baf940",
   "metadata": {},
   "source": [
    "### --------------------------------------------------------------------------------------------------------------------------------\n",
    "#### CHANGE THIS SECTION ONLY"
   ]
  },
  {
   "cell_type": "code",
   "execution_count": 31,
   "id": "62f57ad9",
   "metadata": {},
   "outputs": [],
   "source": [
    "pos = ['NOUN', 'PROPN']\n",
    "min_length_word = 3"
   ]
  },
  {
   "cell_type": "markdown",
   "id": "e044004b",
   "metadata": {},
   "source": [
    "### --------------------------------------------------------------------------------------------------------------------------------"
   ]
  },
  {
   "cell_type": "markdown",
   "id": "906e9fb1",
   "metadata": {},
   "source": [
    "#### Extracting Part of Speech decided above from the text"
   ]
  },
  {
   "cell_type": "code",
   "execution_count": 32,
   "id": "11dfd0a1",
   "metadata": {},
   "outputs": [],
   "source": [
    "def pos_extracter(df, part:list, column_name):\n",
    "    def extracter(row, part):\n",
    "        words = row.split(' ')\n",
    "        cleaning = [word.strip('@#\"*%^();><?][{}]:.&,\\'') for word in words if word.startswith(('\\nhttps', 'htt'))==False]\n",
    "        row = ' '.join(cleaning)\n",
    "        doc = nlp(row)\n",
    "        output = [(token.lemma_).lower() for token in doc if token.is_stop == False and token.is_punct == False and token.pos_ in part and token.is_digit==False and len(token)>min_length_word]\n",
    "        return output\n",
    "    df[column_name] = df[0].apply(lambda x: extracter(x, part))\n",
    "    return df"
   ]
  },
  {
   "cell_type": "code",
   "execution_count": 33,
   "id": "6d931b35",
   "metadata": {},
   "outputs": [
    {
     "data": {
      "text/html": [
       "<div>\n",
       "<style scoped>\n",
       "    .dataframe tbody tr th:only-of-type {\n",
       "        vertical-align: middle;\n",
       "    }\n",
       "\n",
       "    .dataframe tbody tr th {\n",
       "        vertical-align: top;\n",
       "    }\n",
       "\n",
       "    .dataframe thead th {\n",
       "        text-align: right;\n",
       "    }\n",
       "</style>\n",
       "<table border=\"1\" class=\"dataframe\">\n",
       "  <thead>\n",
       "    <tr style=\"text-align: right;\">\n",
       "      <th></th>\n",
       "      <th>0</th>\n",
       "      <th>cleaned</th>\n",
       "      <th>cleaned_sentences</th>\n",
       "      <th>pos</th>\n",
       "    </tr>\n",
       "  </thead>\n",
       "  <tbody>\n",
       "    <tr>\n",
       "      <th>0</th>\n",
       "      <td>'This made my day</td>\n",
       "      <td>[]</td>\n",
       "      <td></td>\n",
       "      <td>[]</td>\n",
       "    </tr>\n",
       "    <tr>\n",
       "      <th>1</th>\n",
       "      <td>thank you'</td>\n",
       "      <td>[thank]</td>\n",
       "      <td>thank</td>\n",
       "      <td>[]</td>\n",
       "    </tr>\n",
       "    <tr>\n",
       "      <th>2</th>\n",
       "      <td>'COVID-19: *”goddamn it I just verified an hou...</td>\n",
       "      <td>[covid-19, goddamn, verify, hour]</td>\n",
       "      <td>covid-19 goddamn verify hour</td>\n",
       "      <td>[covid-19, hour]</td>\n",
       "    </tr>\n",
       "    <tr>\n",
       "      <th>3</th>\n",
       "      <td>'*Set to remind me in seven days.*'</td>\n",
       "      <td>[remind, seven, day]</td>\n",
       "      <td>remind seven day</td>\n",
       "      <td>[day]</td>\n",
       "    </tr>\n",
       "    <tr>\n",
       "      <th>4</th>\n",
       "      <td>'Alright this is some actual hilarious content</td>\n",
       "      <td>[alright, actual, hilarious, content]</td>\n",
       "      <td>alright actual hilarious content</td>\n",
       "      <td>[content]</td>\n",
       "    </tr>\n",
       "  </tbody>\n",
       "</table>\n",
       "</div>"
      ],
      "text/plain": [
       "                                                   0  \\\n",
       "0                                  'This made my day   \n",
       "1                                         thank you'   \n",
       "2  'COVID-19: *”goddamn it I just verified an hou...   \n",
       "3                '*Set to remind me in seven days.*'   \n",
       "4     'Alright this is some actual hilarious content   \n",
       "\n",
       "                                 cleaned                 cleaned_sentences  \\\n",
       "0                                     []                                     \n",
       "1                                [thank]                             thank   \n",
       "2      [covid-19, goddamn, verify, hour]      covid-19 goddamn verify hour   \n",
       "3                   [remind, seven, day]                  remind seven day   \n",
       "4  [alright, actual, hilarious, content]  alright actual hilarious content   \n",
       "\n",
       "                pos  \n",
       "0                []  \n",
       "1                []  \n",
       "2  [covid-19, hour]  \n",
       "3             [day]  \n",
       "4         [content]  "
      ]
     },
     "execution_count": 33,
     "metadata": {},
     "output_type": "execute_result"
    }
   ],
   "source": [
    "df = pos_extracter(total_words, pos, 'pos')\n",
    "df.head()"
   ]
  },
  {
   "cell_type": "markdown",
   "id": "c47cdc9c",
   "metadata": {},
   "source": [
    "#### Building and Saving POS Text Corpus"
   ]
  },
  {
   "cell_type": "code",
   "execution_count": 34,
   "id": "6b947318",
   "metadata": {},
   "outputs": [],
   "source": [
    "dictionary_nouns = corpora.Dictionary(df['pos'])\n",
    "corpus_nouns = [dictionary_nouns.doc2bow(text) for text in df['pos']]\n",
    "pickle.dump(corpus_nouns, open('../topic_modeling/corpus_nouns.pkl', 'wb'))\n",
    "dictionary_nouns.save('../topic_modeling/dictionary_nouns')"
   ]
  },
  {
   "cell_type": "markdown",
   "id": "7c98236b",
   "metadata": {},
   "source": [
    "### --------------------------------------------------------------------------------------------------------------------------------\n",
    "#### CHANGE THIS SECTION ONLY"
   ]
  },
  {
   "cell_type": "code",
   "execution_count": 35,
   "id": "f79f9035",
   "metadata": {},
   "outputs": [],
   "source": [
    "num_topics = 5\n",
    "passes = 10\n",
    "random_state = 100\n",
    "num_words = 5\n",
    "corpus = corpus_nouns\n",
    "dictionary = dictionary_nouns"
   ]
  },
  {
   "cell_type": "markdown",
   "id": "1aac0268",
   "metadata": {},
   "source": [
    "### --------------------------------------------------------------------------------------------------------------------------------"
   ]
  },
  {
   "cell_type": "markdown",
   "id": "dde99dd5",
   "metadata": {},
   "source": [
    "#### Modeling using new POS data"
   ]
  },
  {
   "cell_type": "code",
   "execution_count": 36,
   "id": "601aad67",
   "metadata": {},
   "outputs": [],
   "source": [
    "ldamodel_nouns = gensim.models.ldamodel.LdaModel(corpus = corpus,\n",
    "                                          num_topics = num_topics,\n",
    "                                          id2word = dictionary,\n",
    "                                          passes = passes,\n",
    "                                        random_state=random_state)\n",
    "ldamodel_nouns.save('../topic_modeling/model5_nouns.gensim')"
   ]
  },
  {
   "cell_type": "markdown",
   "id": "2ab2e6e7",
   "metadata": {},
   "source": [
    "#### Checking top topics"
   ]
  },
  {
   "cell_type": "code",
   "execution_count": 37,
   "id": "6fb7cbdb",
   "metadata": {},
   "outputs": [
    {
     "name": "stdout",
     "output_type": "stream",
     "text": [
      "(0, '0.020*\"semester\" + 0.019*\"buffalo\" + 0.019*\"campus\" + 0.012*\"thing\" + 0.012*\"university\"')\n",
      "(1, '0.048*\"class\" + 0.024*\"school\" + 0.019*\"campus\" + 0.014*\"student\" + 0.013*\"room\"')\n",
      "(2, '0.045*\"student\" + 0.026*\"post\" + 0.012*\"course\" + 0.011*\"person\" + 0.010*\"semester\"')\n",
      "(3, '0.016*\"exam\" + 0.012*\"opinion\" + 0.009*\"life\" + 0.009*\"case\" + 0.008*\"building\"')\n",
      "(4, '0.022*\"campus\" + 0.016*\"place\" + 0.011*\"reddit\" + 0.010*\"professor\" + 0.010*\"dorm\"')\n"
     ]
    }
   ],
   "source": [
    "topics_nouns = ldamodel_nouns.print_topics(num_words=num_words)\n",
    "for topic in topics_nouns:\n",
    "    print(topic)"
   ]
  },
  {
   "cell_type": "markdown",
   "id": "0b1dbf78",
   "metadata": {},
   "source": [
    "#### Visualizing topics"
   ]
  },
  {
   "cell_type": "code",
   "execution_count": 38,
   "id": "fe28285e",
   "metadata": {},
   "outputs": [
    {
     "data": {
      "text/html": [
       "\n",
       "<link rel=\"stylesheet\" type=\"text/css\" href=\"https://cdn.jsdelivr.net/gh/bmabey/pyLDAvis@3.3.1/pyLDAvis/js/ldavis.v1.0.0.css\">\n",
       "\n",
       "\n",
       "<div id=\"ldavis_el20841406513564259044752535732\"></div>\n",
       "<script type=\"text/javascript\">\n",
       "\n",
       "var ldavis_el20841406513564259044752535732_data = {\"mdsDat\": {\"x\": [0.12565225923651457, -0.13057052784237222, 0.14970131510207865, -0.12251348992736286, -0.022269556568858446], \"y\": [0.006428303658370402, -0.12748675432120704, -0.08193086926833314, 0.006664769028633549, 0.19632455090253614], \"topics\": [1, 2, 3, 4, 5], \"cluster\": [1, 1, 1, 1, 1], \"Freq\": [23.579246772559028, 20.842901392713426, 20.19905258779516, 17.95866274471283, 17.420136502219556]}, \"tinfo\": {\"Term\": [\"class\", \"student\", \"post\", \"school\", \"semester\", \"exam\", \"buffalo\", \"house\", \"campus\", \"place\", \"room\", \"parking\", \"opinion\", \"community\", \"dorm\", \"reddit\", \"university\", \"hour\", \"work\", \"case\", \"lease\", \"club\", \"course\", \"fact\", \"mask\", \"bathroom\", \"problem\", \"north\", \"apartment\", \"roommate\", \"house\", \"hour\", \"suny\", \"hong\", \"study\", \"computer\", \"kong\", \"lounge\", \"china\", \"kid\", \"calc\", \"frat\", \"answer\", \"color\", \"mistake\", \"meeting\", \"curve\", \"machine\", \"class\", \"product\", \"lock\", \"zoom\", \"trouble\", \"super\", \"position\", \"country\", \"june\", \"bull\", \"cost\", \"textbook\", \"bath\", \"school\", \"work\", \"office\", \"north\", \"august\", \"home\", \"roommate\", \"minute\", \"room\", \"today\", \"club\", \"bedroom\", \"mask\", \"break\", \"question\", \"july\", \"south\", \"campus\", \"freshman\", \"student\", \"issue\", \"floor\", \"college\", \"professor\", \"lease\", \"post\", \"fest\", \"vote\", \"meme\", \"capen\", \"credit\", \"thought\", \"ubreddit\", \"capstone\", \"workload\", \"content\", \"system\", \"dining\", \"code\", \"fire\", \"greiner\", \"krabs\", \"decision\", \"evaluation\", \"way\", \"mod\", \"president\", \"trail\", \"chair\", \"viewform?usp\", \"culture\", \"pyramid\", \"falls\", \"stem\", \"pathway\", \"experience\", \"problem\", \"luck\", \"student\", \"course\", \"person\", \"group\", \"america\", \"fall\", \"lecture\", \"thank\", \"hall\", \"semester\", \"form\", \"college\", \"reason\", \"spring\", \"picture\", \"thing\", \"place\", \"parking\", \"snow\", \"fact\", \"rate\", \"rule\", \"shuttle\", \"boombox\", \"living\", \"one\", \"speaker\", \"31st\", \"book\", \"complex\", \"leadership\", \"commuter\", \"facebook\", \"don\\\\'t\", \"delivery\", \"community\", \"need\", \"electricity\", \"piece\", \"term\", \"apple\", \"station\", \"love\", \"joke\", \"villas\", \"debate\", \"flint\", \"housing\", \"buffalo\", \"bathroom\", \"virus\", \"design\", \"party\", \"semester\", \"rest\", \"university\", \"lease\", \"guy\", \"thing\", \"speech\", \"event\", \"campus\", \"schedule\", \"summer\", \"room\", \"day\", \"point\", \"rent\", \"school\", \"exam\", \"case\", \"covid\", \"police\", \"mind\", \"fee\", \"final\", \"window\", \"subreddit\", \"game\", \"football\", \"chance\", \"feeling\", \"math\", \"davis\", \"policy\", \"test\", \"bread\", \"alarm\", \"section\", \"risk\", \"voice\", \"return\", \"meal\", \"driver\", \"graduate\", \"field\", \"file\", \"society\", \"paltz\", \"opinion\", \"building\", \"dude\", \"life\", \"goose\", \"money\", \"desk\", \"stuff\", \"forum\", \"health\", \"university\", \"college\", \"survey\", \"campus\", \"professor\", \"mask\", \"class\", \"state\", \"dorm\", \"ticket\", \"account\", \"knox\", \"vegan\", \"choice\", \"morning\", \"prof\", \"sea\", \"sophomore\", \"hate\", \"road\", \"right\", \"name\", \"friday\", \"sort\", \"request\", \"didn\\\\'t\", \"adult\", \"library\", \"security\", \"board\", \"member\", \"action\", \"website\", \"internet\", \"face\", \"min\", \"option\", \"shirt\", \"reddit\", \"graduation\", \"date\", \"phone\", \"poster\", \"spot\", \"place\", \"lmao\", \"week\", \"apartment\", \"friend\", \"campus\", \"professor\", \"space\", \"club\", \"information\", \"message\"], \"Freq\": [141.0, 157.0, 63.0, 81.0, 71.0, 33.0, 54.0, 33.0, 151.0, 52.0, 51.0, 25.0, 29.0, 25.0, 19.0, 26.0, 46.0, 23.0, 33.0, 19.0, 35.0, 36.0, 41.0, 20.0, 53.0, 25.0, 26.0, 30.0, 26.0, 31.0, 32.51921925271949, 23.095409707331292, 13.458535893100274, 12.449712083197916, 11.49031246107526, 11.152191128085887, 11.771322748883176, 10.2021881375968, 10.193183781095067, 9.10939575970304, 7.600519070564104, 7.601003062472421, 7.89554653247475, 7.291826428665868, 6.64709343307164, 6.64428553635386, 6.637450777382242, 6.307682487840003, 128.44768960077533, 5.657317586403535, 5.668674354280392, 5.6666739370204064, 5.662537386459563, 5.659930275117321, 5.645210971908159, 5.645118015715781, 11.109987777330147, 5.349656138532752, 5.347306205989423, 5.3431436276947135, 6.45267927495969, 63.3962818473757, 27.183744510896005, 12.013158818390995, 24.6701470981863, 17.91752049990734, 17.95540324684133, 24.339304854768113, 25.7141318977098, 34.36466738526688, 21.397806539638076, 24.653025806966074, 21.89398934273196, 32.281127458640675, 19.435786384184453, 24.188398532644946, 12.425905382621831, 17.132398865503603, 51.540817631983295, 16.40829491519301, 36.22747973455056, 12.524167514461302, 14.490380613899143, 15.367869718129658, 14.698151337439985, 12.999699169856378, 62.08271728994476, 12.740554040956804, 12.738641152932347, 12.406320134213797, 12.096760949170003, 12.104397163104977, 9.969134262429904, 9.968944726560355, 9.032926764920461, 8.132722865752212, 8.116757481596197, 7.511032614428992, 7.77602183717785, 7.211602094783886, 7.199495354168613, 7.183430819745579, 6.887291431615632, 6.282051359952909, 6.266988736239134, 5.671267638001666, 5.631439906986147, 5.340596567372939, 5.058770424143063, 11.903124312224607, 5.009757872535884, 4.744665117187765, 4.750883098850313, 4.448688970933904, 4.448218965800747, 4.440016609319013, 18.9790636433175, 21.63504402587589, 10.151328629886507, 106.65249552692775, 28.69119055338926, 25.929212509681815, 12.72170562997584, 10.30242048982517, 20.6009823361096, 11.639164389761534, 17.56235313576078, 11.8107458441065, 24.556900505670992, 9.759757383647521, 15.525722291315844, 8.635749967950012, 9.5416344652894, 8.800906923225437, 10.014283240372565, 9.924923103587435, 24.81450059033109, 17.040044014179124, 19.9396514108574, 14.815039601051337, 11.105696276134172, 12.549995914875867, 10.785554093615113, 10.1471394525259, 9.513588641879565, 8.913562268306782, 8.57648586538853, 8.815277006552275, 7.3417906690636805, 7.335143646473057, 7.032204835415685, 6.7217876594326595, 6.703001233792774, 6.412615373472397, 23.03458921885144, 6.393787009106797, 5.453808510119681, 5.466971430424332, 5.158023702451118, 5.151009848727986, 12.938647925632702, 4.836808631771717, 4.8370565480363785, 6.177059884627942, 4.536758284089124, 4.533004502702789, 18.024763170453408, 43.33171146333263, 20.88636027901662, 16.22895755279827, 7.428109060501291, 22.402813637303666, 44.489186317349976, 11.140577616789034, 27.28470427573766, 22.17990984100611, 20.575767385081555, 27.360009239280927, 11.420827046365432, 16.475703780098947, 42.5474466750904, 13.828860552426265, 11.898658837567423, 16.36710371529869, 11.998853107646813, 11.813683547092538, 10.768120324596977, 12.313083522450098, 31.9887052117697, 18.596104445957316, 13.851418599583964, 10.754031014812204, 9.934336673074599, 8.812006334370299, 8.243361568134942, 8.240608932997512, 8.250584875429738, 7.963054388569069, 7.975141062197211, 7.406361779327051, 7.405076083491256, 7.39628766335083, 7.1364633553657315, 7.131873742183911, 7.125859668637762, 6.860420589117191, 6.57258661384888, 6.5612853285727075, 6.278179259026559, 6.0109621999856335, 5.173218557786695, 4.893907273306551, 4.614280228725766, 4.612962437692895, 4.6103509270249585, 4.588396396260626, 4.339841750342816, 4.333917354553202, 23.919774431906315, 15.393657953440286, 12.672512924222724, 18.99111891589524, 9.9262505713643, 13.434872972290192, 6.250194607117539, 9.393693078334993, 7.585109843593478, 8.067609212924976, 11.92853398431577, 11.050630282799519, 8.610382418388191, 15.190210275083173, 10.819979092991623, 10.473550143591568, 11.17250518585967, 7.87538116588677, 18.979905049711796, 14.509938637912619, 13.913905634939685, 10.908829834753977, 10.320065415272252, 9.713801638383057, 9.419631863936972, 9.107085520823079, 8.819829965820448, 8.499083803461936, 7.932183737293778, 7.624880517015694, 7.032444263344028, 7.029417976062793, 7.014136369879271, 6.4301787567766215, 6.427497219014716, 6.135739775534568, 6.128846158652032, 14.312308801242013, 5.830140615961592, 5.829342610102107, 5.824014787849197, 5.823335361173651, 5.5318626908688335, 5.523153759452243, 5.527298994708567, 5.521595748012296, 14.15806795786077, 5.758610813634233, 21.9375354412811, 12.922368474902665, 9.011605012513378, 10.744598122832475, 11.544433489726487, 10.279482032944978, 32.3098223966248, 9.331370492972283, 11.539646370238954, 16.891241231438542, 17.54847574403424, 42.332519604327416, 19.70090860885509, 8.150258639748175, 11.340634788482905, 8.18280702331816, 7.985038920572072], \"Total\": [141.0, 157.0, 63.0, 81.0, 71.0, 33.0, 54.0, 33.0, 151.0, 52.0, 51.0, 25.0, 29.0, 25.0, 19.0, 26.0, 46.0, 23.0, 33.0, 19.0, 35.0, 36.0, 41.0, 20.0, 53.0, 25.0, 26.0, 30.0, 26.0, 31.0, 33.12222828550944, 23.767471711376725, 14.064020957948008, 13.081347417437174, 12.092846137490838, 11.764349518278141, 12.432912139333572, 10.800079158728158, 10.799513502566196, 9.829390236246068, 8.211220860987263, 8.212662866104436, 8.544878850176069, 7.893157842791041, 7.246981553843596, 7.246560081701364, 7.245798244139949, 6.91826401489544, 141.24375306997877, 6.257342210545335, 6.272582033229741, 6.272274128086632, 6.271108926746251, 6.271011656320419, 6.268713585867002, 6.269337350202759, 12.343847391297547, 5.9461815274222225, 5.945888450016092, 5.945549367790987, 7.21005544635593, 81.34542695348321, 33.27294297386457, 13.977808329808274, 30.95858823407751, 21.977551043014454, 22.168540069301443, 31.23940175079706, 35.52729263295653, 51.29289485192567, 29.87604774452327, 36.74896719215053, 32.714289832690156, 53.570912277780906, 28.623280866713458, 39.4295017510943, 16.158842189673994, 25.44537692390006, 151.7672243480974, 29.425659223327788, 157.98803977732572, 17.78063956160552, 27.65154876574353, 42.252093407363034, 53.70710334639966, 35.82488731729068, 63.03430350474547, 13.345871729725994, 13.345639934189782, 13.01373176822573, 12.711052418380289, 12.719115335876316, 10.58148079502817, 10.581442183080759, 9.638223665770026, 8.739091501676192, 8.73144194629136, 8.119712839793616, 8.428898793858556, 7.817857272494064, 7.809706060931645, 7.802291760486294, 7.4932818205457306, 6.896010081045217, 6.881627640163074, 6.277352955467659, 6.283117800812804, 5.974831185096791, 5.665673057210721, 13.358688117346034, 5.652675097515309, 5.355297276678349, 5.362780308835779, 5.053975672197118, 5.053890108371566, 5.0464035711819895, 21.99337992388058, 26.16138134761719, 12.13329621895612, 157.98803977732572, 41.666096613670724, 37.603733067798856, 16.583926582487496, 13.155237258942066, 30.69945553907867, 15.340221835489961, 30.440012632497684, 17.164356061209762, 71.93577627864825, 15.034681370201422, 42.252093407363034, 12.331159763098642, 26.15580451940409, 20.550201003327686, 55.60530210927377, 52.89850550472633, 25.42866875193713, 17.64425336126334, 20.753913539904087, 15.459971866600611, 11.714066322850032, 13.252597662013335, 11.39118650097923, 10.752509693682912, 10.141351566600944, 9.519878865854905, 9.181714558974667, 9.507395203884784, 7.949067405477059, 7.955644362925664, 7.64091610621758, 7.325341677881576, 7.325514372248405, 7.017163187257535, 25.22818919774483, 7.015582812488371, 6.062371159378773, 6.077204948273361, 5.762053725035189, 5.754591414557838, 14.473078105948845, 5.44554169336454, 5.4460543689477605, 6.985198190901719, 5.138617275625737, 5.138162018875889, 20.43280667763408, 54.127180046603534, 25.23795672598617, 20.090022179088436, 8.791331140631886, 32.07920900800676, 71.93577627864825, 14.396014254314673, 46.20952696359331, 35.82488731729068, 33.059294349866384, 55.60530210927377, 16.24283441890212, 29.129795806303974, 151.7672243480974, 24.592428370720686, 19.11017547346844, 51.29289485192567, 23.895592143081338, 28.950621097799914, 21.06033795119157, 81.34542695348321, 33.00762374666541, 19.23380870338839, 14.47262556436136, 11.387267039347424, 10.559692958707942, 9.436999451944555, 8.865276131087322, 8.865444391165212, 8.879146538131897, 8.582808046917915, 8.5963440831338, 8.038924499856037, 8.039025828552763, 8.032676708719647, 7.755993980407621, 7.756371686520813, 7.756777253115336, 7.480460872320158, 7.19793535701674, 7.198935229387117, 6.916315674793707, 6.640974175074744, 5.792832598790102, 5.517253678604918, 5.234771021332504, 5.234880950390177, 5.235142658625511, 5.236614360655433, 4.959035367688104, 4.952399571466491, 29.520053939203628, 19.7348425092071, 16.19315679844075, 32.94635700342558, 14.20096398991858, 22.519038735152517, 8.152585578526944, 16.432953240676852, 11.923832034133886, 14.40909320548919, 46.20952696359331, 42.252093407363034, 18.539781957797697, 151.7672243480974, 53.70710334639966, 53.570912277780906, 141.24375306997877, 14.526138392496668, 19.606033882281736, 15.12054436340464, 14.530831056958704, 11.52577794417059, 10.92943661522169, 10.325363929651832, 10.030617338987579, 9.721832674417708, 9.433660961247718, 9.125445632012685, 8.54272588292523, 8.240512248851347, 7.643717100007248, 7.643703097284006, 7.6442221161330295, 7.040131146955861, 7.039901808603766, 6.745508062283484, 6.745283962028761, 15.783085022494982, 6.443414237971245, 6.443448325939588, 6.44327840239999, 6.442528213249737, 6.1415519812187025, 6.13403827251333, 6.141586214971317, 6.141319112014093, 15.803781422821368, 6.43776261148839, 26.95625685725086, 15.564914040494784, 10.71749047643883, 13.357631879028844, 14.583349376826613, 12.794174340563972, 52.89850550472633, 11.691833820278218, 15.686895098358303, 26.200676810152412, 28.48442103843303, 151.7672243480974, 53.70710334639966, 12.187297505918158, 36.74896719215053, 13.139430218712016, 12.08269275575046], \"Category\": [\"Default\", \"Default\", \"Default\", \"Default\", \"Default\", \"Default\", \"Default\", \"Default\", \"Default\", \"Default\", \"Default\", \"Default\", \"Default\", \"Default\", \"Default\", \"Default\", \"Default\", \"Default\", \"Default\", \"Default\", \"Default\", \"Default\", \"Default\", \"Default\", \"Default\", \"Default\", \"Default\", \"Default\", \"Default\", \"Default\", \"Topic1\", \"Topic1\", \"Topic1\", \"Topic1\", \"Topic1\", \"Topic1\", \"Topic1\", \"Topic1\", \"Topic1\", \"Topic1\", \"Topic1\", \"Topic1\", \"Topic1\", \"Topic1\", \"Topic1\", \"Topic1\", \"Topic1\", \"Topic1\", \"Topic1\", \"Topic1\", \"Topic1\", \"Topic1\", \"Topic1\", \"Topic1\", \"Topic1\", \"Topic1\", \"Topic1\", \"Topic1\", \"Topic1\", \"Topic1\", \"Topic1\", \"Topic1\", \"Topic1\", \"Topic1\", \"Topic1\", \"Topic1\", \"Topic1\", \"Topic1\", \"Topic1\", \"Topic1\", \"Topic1\", \"Topic1\", \"Topic1\", \"Topic1\", \"Topic1\", \"Topic1\", \"Topic1\", \"Topic1\", \"Topic1\", \"Topic1\", \"Topic1\", \"Topic1\", \"Topic1\", \"Topic1\", \"Topic1\", \"Topic1\", \"Topic2\", \"Topic2\", \"Topic2\", \"Topic2\", \"Topic2\", \"Topic2\", \"Topic2\", \"Topic2\", \"Topic2\", \"Topic2\", \"Topic2\", \"Topic2\", \"Topic2\", \"Topic2\", \"Topic2\", \"Topic2\", \"Topic2\", \"Topic2\", \"Topic2\", \"Topic2\", \"Topic2\", \"Topic2\", \"Topic2\", \"Topic2\", \"Topic2\", \"Topic2\", \"Topic2\", \"Topic2\", \"Topic2\", \"Topic2\", \"Topic2\", \"Topic2\", \"Topic2\", \"Topic2\", \"Topic2\", \"Topic2\", \"Topic2\", \"Topic2\", \"Topic2\", \"Topic2\", \"Topic2\", \"Topic2\", \"Topic2\", \"Topic2\", \"Topic2\", \"Topic2\", \"Topic2\", \"Topic2\", \"Topic2\", \"Topic2\", \"Topic3\", \"Topic3\", \"Topic3\", \"Topic3\", \"Topic3\", \"Topic3\", \"Topic3\", \"Topic3\", \"Topic3\", \"Topic3\", \"Topic3\", \"Topic3\", \"Topic3\", \"Topic3\", \"Topic3\", \"Topic3\", \"Topic3\", \"Topic3\", \"Topic3\", \"Topic3\", \"Topic3\", \"Topic3\", \"Topic3\", \"Topic3\", \"Topic3\", \"Topic3\", \"Topic3\", \"Topic3\", \"Topic3\", \"Topic3\", \"Topic3\", \"Topic3\", \"Topic3\", \"Topic3\", \"Topic3\", \"Topic3\", \"Topic3\", \"Topic3\", \"Topic3\", \"Topic3\", \"Topic3\", \"Topic3\", \"Topic3\", \"Topic3\", \"Topic3\", \"Topic3\", \"Topic3\", \"Topic3\", \"Topic3\", \"Topic3\", \"Topic3\", \"Topic3\", \"Topic4\", \"Topic4\", \"Topic4\", \"Topic4\", \"Topic4\", \"Topic4\", \"Topic4\", \"Topic4\", \"Topic4\", \"Topic4\", \"Topic4\", \"Topic4\", \"Topic4\", \"Topic4\", \"Topic4\", \"Topic4\", \"Topic4\", \"Topic4\", \"Topic4\", \"Topic4\", \"Topic4\", \"Topic4\", \"Topic4\", \"Topic4\", \"Topic4\", \"Topic4\", \"Topic4\", \"Topic4\", \"Topic4\", \"Topic4\", \"Topic4\", \"Topic4\", \"Topic4\", \"Topic4\", \"Topic4\", \"Topic4\", \"Topic4\", \"Topic4\", \"Topic4\", \"Topic4\", \"Topic4\", \"Topic4\", \"Topic4\", \"Topic4\", \"Topic4\", \"Topic4\", \"Topic4\", \"Topic4\", \"Topic5\", \"Topic5\", \"Topic5\", \"Topic5\", \"Topic5\", \"Topic5\", \"Topic5\", \"Topic5\", \"Topic5\", \"Topic5\", \"Topic5\", \"Topic5\", \"Topic5\", \"Topic5\", \"Topic5\", \"Topic5\", \"Topic5\", \"Topic5\", \"Topic5\", \"Topic5\", \"Topic5\", \"Topic5\", \"Topic5\", \"Topic5\", \"Topic5\", \"Topic5\", \"Topic5\", \"Topic5\", \"Topic5\", \"Topic5\", \"Topic5\", \"Topic5\", \"Topic5\", \"Topic5\", \"Topic5\", \"Topic5\", \"Topic5\", \"Topic5\", \"Topic5\", \"Topic5\", \"Topic5\", \"Topic5\", \"Topic5\", \"Topic5\", \"Topic5\", \"Topic5\", \"Topic5\"], \"logprob\": [30.0, 29.0, 28.0, 27.0, 26.0, 25.0, 24.0, 23.0, 22.0, 21.0, 20.0, 19.0, 18.0, 17.0, 16.0, 15.0, 14.0, 13.0, 12.0, 11.0, 10.0, 9.0, 8.0, 7.0, 6.0, 5.0, 4.0, 3.0, 2.0, 1.0, -4.4049, -4.7471, -5.2871, -5.365, -5.4452, -5.4751, -5.421, -5.5641, -5.565, -5.6774, -5.8585, -5.8584, -5.8204, -5.8999, -5.9925, -5.9929, -5.994, -6.0449, -3.0312, -6.1537, -6.1517, -6.1521, -6.1528, -6.1533, -6.1559, -6.1559, -5.4788, -6.2097, -6.2101, -6.2109, -6.0222, -3.7373, -4.5841, -5.4007, -4.6811, -5.0009, -4.9988, -4.6946, -4.6397, -4.3497, -4.8234, -4.6818, -4.8005, -4.4122, -4.9196, -4.7008, -5.3669, -5.0457, -3.9443, -5.0889, -4.2969, -5.359, -5.2132, -5.1544, -5.199, -5.3218, -3.6349, -5.2185, -5.2187, -5.2451, -5.2704, -5.2698, -5.4638, -5.4639, -5.5625, -5.6674, -5.6694, -5.747, -5.7123, -5.7876, -5.7893, -5.7916, -5.8337, -5.9256, -5.928, -6.0279, -6.035, -6.088, -6.1422, -5.2865, -6.152, -6.2063, -6.205, -6.2707, -6.2708, -6.2727, -4.82, -4.689, -5.4457, -3.0938, -4.4067, -4.508, -5.22, -5.431, -4.738, -5.309, -4.8976, -5.2943, -4.5623, -5.4851, -5.0208, -5.6074, -5.5077, -5.5885, -5.4593, -5.4683, -4.5205, -4.8964, -4.7393, -5.0363, -5.3245, -5.2022, -5.3538, -5.4148, -5.4792, -5.5444, -5.5829, -5.5555, -5.7384, -5.7393, -5.7815, -5.8266, -5.8294, -5.8737, -4.595, -5.8766, -6.0356, -6.0332, -6.0914, -6.0928, -5.1717, -6.1557, -6.1557, -5.9111, -6.2197, -6.2206, -4.8402, -3.9631, -4.6929, -4.9452, -5.7267, -4.6228, -3.9367, -5.3214, -4.4256, -4.6328, -4.7078, -4.4229, -5.2965, -4.9301, -3.9813, -5.1052, -5.2555, -4.9367, -5.2471, -5.2627, -5.3554, -5.2213, -4.149, -4.6914, -4.986, -5.2391, -5.3184, -5.4383, -5.505, -5.5053, -5.5041, -5.5396, -5.5381, -5.6121, -5.6122, -5.6134, -5.6492, -5.6498, -5.6507, -5.6886, -5.7315, -5.7332, -5.7773, -5.8208, -5.9709, -6.0264, -6.0852, -6.0855, -6.0861, -6.0909, -6.1466, -6.1479, -4.4397, -4.8804, -5.075, -4.6704, -5.3192, -5.0165, -5.7818, -5.3744, -5.5882, -5.5265, -5.1355, -5.2119, -5.4614, -4.8937, -5.233, -5.2655, -5.2009, -5.5507, -4.6406, -4.9091, -4.9511, -5.1944, -5.2499, -5.3104, -5.3412, -5.3749, -5.4069, -5.444, -5.513, -5.5525, -5.6334, -5.6338, -5.636, -5.7229, -5.7234, -5.7698, -5.7709, -4.9228, -5.8209, -5.821, -5.822, -5.8221, -5.8734, -5.875, -5.8743, -5.8753, -4.9337, -5.8333, -4.4958, -5.025, -5.3854, -5.2095, -5.1377, -5.2538, -4.1086, -5.3506, -5.1382, -4.7572, -4.719, -3.8384, -4.6033, -5.4859, -5.1556, -5.4819, -5.5064], \"loglift\": [30.0, 29.0, 28.0, 27.0, 26.0, 25.0, 24.0, 23.0, 22.0, 21.0, 20.0, 19.0, 18.0, 17.0, 16.0, 15.0, 14.0, 13.0, 12.0, 11.0, 10.0, 9.0, 8.0, 7.0, 6.0, 5.0, 4.0, 3.0, 2.0, 1.0, 1.4264, 1.4161, 1.4008, 1.3953, 1.3937, 1.3914, 1.3901, 1.3879, 1.387, 1.3687, 1.3675, 1.3674, 1.3658, 1.3656, 1.3584, 1.358, 1.3571, 1.3524, 1.3498, 1.344, 1.3436, 1.3433, 1.3427, 1.3423, 1.34, 1.3399, 1.3395, 1.3391, 1.3387, 1.338, 1.3338, 1.1955, 1.2427, 1.2933, 1.2177, 1.2406, 1.234, 1.1952, 1.1215, 1.0443, 1.111, 1.0456, 1.0432, 0.9383, 1.0577, 0.9562, 1.1821, 1.0492, 0.3648, 0.8607, -0.0279, 1.0944, 0.7986, 0.4334, 0.149, 0.4311, 1.5529, 1.5217, 1.5216, 1.5204, 1.5186, 1.5186, 1.5085, 1.5085, 1.5033, 1.4962, 1.4952, 1.4902, 1.4875, 1.4874, 1.4868, 1.4855, 1.4838, 1.4749, 1.4746, 1.4666, 1.4587, 1.4559, 1.4549, 1.4528, 1.4474, 1.4471, 1.447, 1.4406, 1.4405, 1.4401, 1.4208, 1.3782, 1.3898, 1.1752, 1.1951, 1.1964, 1.303, 1.3237, 1.1693, 1.2921, 1.0182, 1.1943, 0.4934, 1.1361, 0.567, 1.2119, 0.5598, 0.7201, -0.1461, -0.1052, 1.5751, 1.5647, 1.5595, 1.5569, 1.5462, 1.5451, 1.5449, 1.5416, 1.5356, 1.5337, 1.5313, 1.524, 1.5201, 1.5183, 1.5165, 1.5135, 1.5107, 1.5094, 1.5086, 1.5067, 1.4937, 1.4937, 1.4888, 1.4887, 1.4875, 1.481, 1.4809, 1.4766, 1.475, 1.4742, 1.4741, 1.3771, 1.4103, 1.3861, 1.431, 1.2405, 1.119, 1.3432, 1.0727, 1.1201, 1.1253, 0.8903, 1.2473, 1.0297, 0.3278, 1.0239, 1.1257, 0.4573, 0.9107, 0.7032, 0.9287, -0.2885, 1.6857, 1.6834, 1.6732, 1.6599, 1.6561, 1.6486, 1.6444, 1.644, 1.6437, 1.6421, 1.6421, 1.6351, 1.635, 1.6346, 1.6338, 1.6332, 1.6323, 1.6306, 1.6262, 1.6244, 1.6203, 1.6174, 1.604, 1.5972, 1.5909, 1.5906, 1.59, 1.585, 1.5837, 1.5837, 1.5067, 1.4687, 1.4719, 1.1662, 1.359, 1.2006, 1.4514, 1.1578, 1.2647, 1.1371, 0.3628, 0.3759, 0.9501, -0.5846, 0.1149, 0.0849, -0.8199, 1.1049, 1.7151, 1.7063, 1.7042, 1.6925, 1.6902, 1.6865, 1.6847, 1.6822, 1.6803, 1.6764, 1.6734, 1.6699, 1.6642, 1.6638, 1.6615, 1.6569, 1.6565, 1.6528, 1.6517, 1.6497, 1.6475, 1.6474, 1.6465, 1.6465, 1.643, 1.6426, 1.6422, 1.6412, 1.6376, 1.6361, 1.5415, 1.5615, 1.5742, 1.5299, 1.5139, 1.5287, 1.2545, 1.522, 1.4405, 1.3086, 1.2632, 0.4708, 0.7447, 1.3452, 0.5718, 1.274, 1.3333]}, \"token.table\": {\"Topic\": [3, 5, 5, 5, 4, 1, 2, 1, 1, 5, 3, 1, 3, 1, 1, 3, 1, 3, 5, 3, 3, 4, 1, 3, 5, 1, 2, 3, 4, 1, 4, 1, 1, 1, 3, 4, 5, 2, 2, 4, 1, 2, 4, 1, 5, 1, 2, 4, 1, 5, 2, 1, 2, 4, 1, 1, 3, 3, 3, 1, 2, 1, 1, 2, 4, 5, 4, 2, 2, 1, 1, 5, 4, 1, 2, 3, 4, 3, 2, 3, 3, 4, 3, 4, 5, 2, 3, 5, 4, 1, 3, 4, 3, 2, 1, 3, 5, 1, 4, 1, 2, 3, 5, 3, 3, 1, 2, 3, 5, 2, 4, 4, 2, 4, 4, 4, 2, 3, 1, 3, 4, 5, 4, 2, 5, 4, 5, 1, 1, 2, 5, 5, 1, 2, 4, 5, 4, 2, 4, 4, 1, 5, 2, 1, 2, 1, 2, 3, 5, 2, 4, 5, 1, 4, 1, 5, 1, 1, 1, 1, 3, 5, 1, 4, 5, 5, 1, 3, 3, 1, 3, 1, 5, 1, 5, 1, 2, 3, 1, 3, 1, 2, 1, 5, 1, 2, 3, 4, 3, 4, 5, 1, 1, 3, 2, 3, 1, 1, 3, 4, 4, 4, 1, 5, 2, 1, 5, 5, 4, 1, 2, 3, 5, 1, 2, 2, 3, 4, 5, 5, 3, 1, 4, 1, 2, 3, 2, 3, 4, 1, 5, 4, 3, 1, 3, 4, 5, 2, 1, 2, 3, 5, 2, 5, 1, 2, 5, 3, 2, 3, 5, 1, 2, 3, 4, 4, 4, 1, 2, 2, 5, 2, 2, 4, 1, 5, 1, 2, 4, 5, 2, 1, 3, 5, 3, 2, 5, 2, 3, 5, 1, 3, 5, 3, 5, 4, 5, 4, 5, 1, 3, 1, 3, 3, 1, 3, 1, 2, 3, 5, 4, 5, 2, 3, 4, 5, 3, 3, 4, 5, 5, 1, 3, 5, 4, 5, 3, 1, 3, 3, 5, 1, 2, 3, 1, 2, 4, 1, 3, 5, 2, 1, 2, 4, 5, 1, 1, 4, 5, 4, 1, 3, 1, 1, 2, 4, 5, 2, 3, 4, 1, 1, 2, 3, 1, 2, 3, 4, 5, 2, 5, 1, 4, 5, 2, 1, 2, 1, 3, 4, 5, 2, 3, 2, 3, 4, 2, 2, 5, 1, 5, 4, 1, 4, 2, 1], \"Freq\": [0.9802090821047088, 0.963468637486877, 0.9313114046843238, 0.8895103651344867, 0.9725010927162901, 0.15203070538621655, 0.7601535269310827, 0.9362332854883201, 0.34350257686903035, 0.6488382007526129, 0.8688714175868525, 0.8190175495336313, 0.1820038998963625, 0.8321711316426131, 0.1584914358729134, 0.8320800383327953, 0.6724889983097304, 0.3056768174135138, 0.9311784151113023, 0.9466315228299904, 0.9656588450250022, 0.9357712204473924, 0.663795324109594, 0.2794927680461448, 0.0349365960057681, 0.0554250193233233, 0.12932504508775436, 0.7944252769676339, 0.018475006441107764, 0.20268720148812128, 0.7600770055804548, 0.8408757749727817, 0.9742765583141473, 0.3426299731273427, 0.2833286316245334, 0.09883556917134886, 0.2767395936797768, 0.9440603031931407, 0.9337820237522952, 0.9878438687316672, 0.07485765003387695, 0.8982918004065235, 0.8707632470146172, 0.9259676371184485, 0.9684888656837103, 0.9062347694526555, 0.007079959136348871, 0.07787955049983758, 0.6802912274862496, 0.2993281400939498, 0.8953860061667319, 0.3550119956277962, 0.3786794620029826, 0.2603421301270505, 0.8868440413101865, 0.07927639928191048, 0.9116785917419705, 0.9161205152225068, 0.8806064463834923, 0.9350283228927719, 0.9162289630062722, 0.840917222385238, 0.9570389444437778, 0.6960095222955214, 0.16800229848512585, 0.12000164177508989, 0.9673434815086218, 0.9434618433054117, 0.9336549852749306, 0.9660771338287346, 0.0933054246419332, 0.8397488217773988, 0.9025277762827906, 0.20924361154396778, 0.08369744461758712, 0.5021846677055227, 0.16739488923517423, 0.9730244016647732, 0.8700683336429504, 0.8550463826885769, 0.7962389185463975, 0.11374841693519964, 0.12266047260318189, 0.7359628356190914, 0.8894808136911313, 0.9491156787680189, 0.9555642981902314, 0.9690894198224651, 0.9551516159205865, 0.06175448138044897, 0.1852634441413469, 0.8028082579458367, 0.824759795886922, 0.8718867561189083, 0.3089620009643978, 0.5492657794922627, 0.10298733365479927, 0.03029603123433037, 0.9694729994985718, 0.045468227414840974, 0.8638963208819785, 0.09093645482968195, 0.9769463115854056, 0.9555868255450902, 0.9636736686575031, 0.06514773519204968, 0.6840512195165217, 0.19544320557614905, 0.03257386759602484, 0.7914561247306277, 0.9536929662685836, 0.8707522713930855, 0.9740839911599318, 0.9550838107079879, 0.9548153932370499, 0.9023971596267474, 0.8963205459188496, 0.9731106145800137, 0.506300754384654, 0.14465735839561544, 0.1808216979945193, 0.14465735839561544, 0.9306281743300807, 0.6651288280588302, 0.3325644140294151, 0.6709252509678696, 0.3354626254839348, 0.9741054917787816, 0.5437431283549861, 0.2378876186553064, 0.16991972761093313, 0.9157243070196237, 0.24574836857505883, 0.10532072938931092, 0.03510690979643698, 0.6319243763358655, 0.9320958777439743, 0.28167101915332254, 0.7041775478833063, 0.9551315583647284, 0.12849412433609708, 0.835211808184631, 0.8971722943572301, 0.1808980511990434, 0.7838915551958547, 0.06049735904323933, 0.24198943617295732, 0.635222269954013, 0.090746038564859, 0.6991232270646701, 0.29130134461027923, 0.9364692382310893, 0.41640371912607804, 0.5552049588347707, 0.8119614527492518, 0.18043587838872263, 0.9173366945368518, 0.9677091564177875, 0.9963097807171712, 0.04894090252880474, 0.8809362455184853, 0.04894090252880474, 0.22832040279247914, 0.15221360186165275, 0.608854407446611, 0.9781484453538616, 0.7311323057282735, 0.2812047329724129, 0.9180958656066551, 0.7426274642169831, 0.18565686605424578, 0.8911322095374442, 0.08101201904885856, 0.9156213949887069, 0.9543824332971369, 0.9651801497121513, 0.9341701230036207, 0.8798784461282494, 0.36287622860786006, 0.6140982330286863, 0.19556431661629756, 0.7822572664651902, 0.06335896933804393, 0.8870255707326151, 0.06070473891216716, 0.06070473891216716, 0.2731713251047522, 0.576695019665588, 0.9300154368495933, 0.17105956437143477, 0.7697680396714565, 0.9565438870650547, 0.9259191393906063, 0.9181823005951018, 0.8241783452362085, 0.1648356690472417, 0.8672695906200801, 0.5973390901777182, 0.18666846568053694, 0.18666846568053694, 0.8714405239789305, 0.9062479797492817, 0.9659755692464396, 0.9312029723510197, 0.9221029151145674, 0.331052032925053, 0.662104065850106, 0.9769888016830726, 0.9469972317475011, 0.7318317291614099, 0.14073687099257884, 0.0844421225955473, 0.05629474839703154, 0.9659193897475007, 0.9549399183990822, 0.3108480820308243, 0.04440686886154633, 0.5772892952001023, 0.8972528505317697, 0.9157864860668476, 0.8552389958706579, 0.8075303631733883, 0.19380728716161322, 0.8585036879071726, 0.14308394798452875, 0.986061861116573, 0.10162583056855119, 0.10162583056855119, 0.8130066445484095, 0.06327599536120863, 0.8858639350569208, 0.8076892710851138, 0.9831423046122115, 0.2182098691477351, 0.6858024458928818, 0.031172838449676447, 0.031172838449676447, 0.7926437003259934, 0.1861517309299884, 0.6914207148828141, 0.053186208837139544, 0.053186208837139544, 0.1497271386210269, 0.8234992624156481, 0.291967947127545, 0.4379519206913175, 0.2433066226062875, 0.8227466479340286, 0.1890412574908478, 0.1890412574908478, 0.604932023970713, 0.1727078663738918, 0.2417910129234485, 0.4144988792973403, 0.1727078663738918, 0.9659912217734715, 0.9024838265763808, 0.957134173991802, 0.983591418525508, 0.20571405940305398, 0.8228562376122159, 0.8368437274799758, 0.840934188744731, 0.15289712522631474, 0.9588735597500736, 0.9257513785114654, 0.2792926645708877, 0.14895608777114008, 0.20481462068531764, 0.3723902194278502, 0.932352196445926, 0.6086812902558151, 0.20289376341860504, 0.17753204299127942, 0.9702475612135929, 0.729858356626987, 0.24328611887566232, 0.07419427743960036, 0.11129141615940054, 0.8161370518356039, 0.4748261886003691, 0.522308807460406, 0.8522846146329971, 0.7641003826252225, 0.2083910134432425, 0.8631355929471026, 0.9157848084138752, 0.8675139022162927, 0.9708134347006313, 0.6628598385439645, 0.311934041667748, 0.7682605509366917, 0.1920651377341729, 0.9390419771264963, 0.4066292213706648, 0.5692809099189308, 0.7744750056573689, 0.061466270290267376, 0.1475190486966417, 0.9540304699279376, 0.9723660203838154, 0.9311833413785209, 0.3475322196171312, 0.6116567065261509, 0.027802577569370497, 0.9320008148937973, 0.980939762267335, 0.9634865047518673, 0.8066084839932882, 0.8766695153971938, 0.8522568507256272, 0.6680977865190286, 0.07859973959047396, 0.23579921877142188, 0.3282105813907963, 0.6564211627815926, 0.9453901805705153, 0.24626243775194295, 0.6772217038178432, 0.1563211463876175, 0.7816057319380875, 0.26762701926476556, 0.38232431323537935, 0.3440918819118414, 0.13768284081838847, 0.27536568163677694, 0.5507313632735539, 0.06909380248483366, 0.8982194323028376, 0.06909380248483366, 0.7914695243124026, 0.22786535012865375, 0.677266457326832, 0.04430715141390489, 0.050636744473034165, 0.9096287073311268, 0.12170666895402318, 0.5476800102931043, 0.30426667238505795, 0.9009874953232991, 0.36629700285685135, 0.6279377191831738, 0.9243444701106835, 0.9567834232858948, 0.3236284015452751, 0.4854426023179127, 0.16181420077263756, 0.9852565180375691, 0.8677461611084623, 0.9024366398027746, 0.8409651809615203, 0.29566347782627467, 0.5913269556525493, 0.09855449260875823, 0.07193558614499256, 0.1798389653624814, 0.4855652064786998, 0.12588727575373698, 0.12588727575373698, 0.9450473136707496, 0.9920277762157567, 0.7029042187767162, 0.16735814732778956, 0.10041488839667373, 0.8825076825844166, 0.9567685827318398, 0.9450507621720546, 0.15148391381532703, 0.5842950961448329, 0.2596867093977035, 0.9149602447094811, 0.8845369517518884, 0.8589591642245816, 0.14932785903654597, 0.7964152481949118, 0.9034819051878741, 0.9741009096683106, 0.9558168932932023, 0.976951757202157, 0.2549899119564213, 0.7649697358692639, 0.9023800327451533, 0.8114701492202875, 0.18032669982673055, 0.9154269638286278, 0.9565908436834074], \"Term\": [\"31st\", \"account\", \"action\", \"adult\", \"alarm\", \"america\", \"america\", \"answer\", \"apartment\", \"apartment\", \"apple\", \"august\", \"august\", \"bath\", \"bathroom\", \"bathroom\", \"bedroom\", \"bedroom\", \"board\", \"book\", \"boombox\", \"bread\", \"break\", \"break\", \"break\", \"buffalo\", \"buffalo\", \"buffalo\", \"buffalo\", \"building\", \"building\", \"bull\", \"calc\", \"campus\", \"campus\", \"campus\", \"campus\", \"capen\", \"capstone\", \"case\", \"chair\", \"chair\", \"chance\", \"china\", \"choice\", \"class\", \"class\", \"class\", \"club\", \"club\", \"code\", \"college\", \"college\", \"college\", \"color\", \"community\", \"community\", \"commuter\", \"complex\", \"computer\", \"content\", \"cost\", \"country\", \"course\", \"course\", \"course\", \"covid\", \"credit\", \"culture\", \"curve\", \"date\", \"date\", \"davis\", \"day\", \"day\", \"day\", \"day\", \"debate\", \"decision\", \"delivery\", \"design\", \"design\", \"desk\", \"desk\", \"didn\\\\'t\", \"dining\", \"don\\\\'t\", \"dorm\", \"driver\", \"dude\", \"dude\", \"dude\", \"electricity\", \"evaluation\", \"event\", \"event\", \"event\", \"exam\", \"exam\", \"experience\", \"experience\", \"experience\", \"face\", \"facebook\", \"fact\", \"fall\", \"fall\", \"fall\", \"fall\", \"falls\", \"fee\", \"feeling\", \"fest\", \"field\", \"file\", \"final\", \"fire\", \"flint\", \"floor\", \"floor\", \"floor\", \"floor\", \"football\", \"form\", \"form\", \"forum\", \"forum\", \"frat\", \"freshman\", \"freshman\", \"freshman\", \"friday\", \"friend\", \"friend\", \"friend\", \"friend\", \"game\", \"goose\", \"goose\", \"graduate\", \"graduation\", \"graduation\", \"greiner\", \"group\", \"group\", \"guy\", \"guy\", \"guy\", \"guy\", \"hall\", \"hall\", \"hate\", \"health\", \"health\", \"home\", \"home\", \"hong\", \"hour\", \"house\", \"housing\", \"housing\", \"housing\", \"information\", \"information\", \"information\", \"internet\", \"issue\", \"issue\", \"joke\", \"july\", \"july\", \"june\", \"june\", \"kid\", \"knox\", \"kong\", \"krabs\", \"leadership\", \"lease\", \"lease\", \"lecture\", \"lecture\", \"library\", \"library\", \"life\", \"life\", \"life\", \"life\", \"living\", \"lmao\", \"lmao\", \"lock\", \"lounge\", \"love\", \"luck\", \"luck\", \"machine\", \"mask\", \"mask\", \"mask\", \"math\", \"meal\", \"meeting\", \"member\", \"meme\", \"message\", \"message\", \"min\", \"mind\", \"minute\", \"minute\", \"minute\", \"minute\", \"mistake\", \"mod\", \"money\", \"money\", \"money\", \"morning\", \"name\", \"need\", \"north\", \"north\", \"office\", \"office\", \"one\", \"opinion\", \"opinion\", \"opinion\", \"option\", \"option\", \"paltz\", \"parking\", \"party\", \"party\", \"party\", \"party\", \"pathway\", \"person\", \"person\", \"person\", \"person\", \"phone\", \"phone\", \"picture\", \"picture\", \"picture\", \"piece\", \"place\", \"place\", \"place\", \"point\", \"point\", \"point\", \"point\", \"police\", \"policy\", \"position\", \"post\", \"poster\", \"poster\", \"president\", \"problem\", \"problem\", \"product\", \"prof\", \"professor\", \"professor\", \"professor\", \"professor\", \"pyramid\", \"question\", \"question\", \"question\", \"rate\", \"reason\", \"reason\", \"reddit\", \"reddit\", \"reddit\", \"rent\", \"rent\", \"request\", \"rest\", \"rest\", \"return\", \"right\", \"risk\", \"road\", \"room\", \"room\", \"roommate\", \"roommate\", \"rule\", \"schedule\", \"schedule\", \"school\", \"school\", \"school\", \"sea\", \"section\", \"security\", \"semester\", \"semester\", \"semester\", \"shirt\", \"shuttle\", \"snow\", \"society\", \"sophomore\", \"sort\", \"south\", \"south\", \"south\", \"space\", \"space\", \"speaker\", \"speech\", \"speech\", \"spot\", \"spot\", \"spring\", \"spring\", \"spring\", \"state\", \"state\", \"state\", \"station\", \"station\", \"station\", \"stem\", \"student\", \"student\", \"student\", \"student\", \"study\", \"stuff\", \"stuff\", \"stuff\", \"subreddit\", \"summer\", \"summer\", \"suny\", \"super\", \"survey\", \"survey\", \"survey\", \"system\", \"term\", \"test\", \"textbook\", \"thank\", \"thank\", \"thank\", \"thing\", \"thing\", \"thing\", \"thing\", \"thing\", \"thought\", \"ticket\", \"today\", \"today\", \"today\", \"trail\", \"trouble\", \"ubreddit\", \"university\", \"university\", \"university\", \"vegan\", \"viewform?usp\", \"villas\", \"virus\", \"virus\", \"voice\", \"vote\", \"way\", \"website\", \"week\", \"week\", \"window\", \"work\", \"work\", \"workload\", \"zoom\"]}, \"R\": 30, \"lambda.step\": 0.01, \"plot.opts\": {\"xlab\": \"PC1\", \"ylab\": \"PC2\"}, \"topic.order\": [2, 3, 1, 4, 5]};\n",
       "\n",
       "function LDAvis_load_lib(url, callback){\n",
       "  var s = document.createElement('script');\n",
       "  s.src = url;\n",
       "  s.async = true;\n",
       "  s.onreadystatechange = s.onload = callback;\n",
       "  s.onerror = function(){console.warn(\"failed to load library \" + url);};\n",
       "  document.getElementsByTagName(\"head\")[0].appendChild(s);\n",
       "}\n",
       "\n",
       "if(typeof(LDAvis) !== \"undefined\"){\n",
       "   // already loaded: just create the visualization\n",
       "   !function(LDAvis){\n",
       "       new LDAvis(\"#\" + \"ldavis_el20841406513564259044752535732\", ldavis_el20841406513564259044752535732_data);\n",
       "   }(LDAvis);\n",
       "}else if(typeof define === \"function\" && define.amd){\n",
       "   // require.js is available: use it to load d3/LDAvis\n",
       "   require.config({paths: {d3: \"https://d3js.org/d3.v5\"}});\n",
       "   require([\"d3\"], function(d3){\n",
       "      window.d3 = d3;\n",
       "      LDAvis_load_lib(\"https://cdn.jsdelivr.net/gh/bmabey/pyLDAvis@3.3.1/pyLDAvis/js/ldavis.v3.0.0.js\", function(){\n",
       "        new LDAvis(\"#\" + \"ldavis_el20841406513564259044752535732\", ldavis_el20841406513564259044752535732_data);\n",
       "      });\n",
       "    });\n",
       "}else{\n",
       "    // require.js not available: dynamically load d3 & LDAvis\n",
       "    LDAvis_load_lib(\"https://d3js.org/d3.v5.js\", function(){\n",
       "         LDAvis_load_lib(\"https://cdn.jsdelivr.net/gh/bmabey/pyLDAvis@3.3.1/pyLDAvis/js/ldavis.v3.0.0.js\", function(){\n",
       "                 new LDAvis(\"#\" + \"ldavis_el20841406513564259044752535732\", ldavis_el20841406513564259044752535732_data);\n",
       "            })\n",
       "         });\n",
       "}\n",
       "</script>"
      ],
      "text/plain": [
       "<IPython.core.display.HTML object>"
      ]
     },
     "execution_count": 38,
     "metadata": {},
     "output_type": "execute_result"
    }
   ],
   "source": [
    "lda_nouns_display = gensim_models.prepare(ldamodel_nouns, corpus, dictionary, sort_topics=True)\n",
    "pyLDAvis.display(lda_nouns_display)"
   ]
  },
  {
   "cell_type": "markdown",
   "id": "72d955ea",
   "metadata": {},
   "source": [
    "### III. Testing for optimal number of topics based on Coherence and Perplexity scores"
   ]
  },
  {
   "cell_type": "markdown",
   "id": "13243526",
   "metadata": {},
   "source": [
    "### --------------------------------------------------------------------------------------------------------------------------------\n",
    "#### CHANGE THIS SECTION ONLY"
   ]
  },
  {
   "cell_type": "code",
   "execution_count": 39,
   "id": "c28efea6",
   "metadata": {},
   "outputs": [],
   "source": [
    "max_topics = 7\n",
    "\n",
    "passes = 10\n",
    "random_state = 100\n",
    "num_words = 5\n",
    "corpus = corpus_nouns\n",
    "dictionary = dictionary_nouns"
   ]
  },
  {
   "cell_type": "markdown",
   "id": "079b12b4",
   "metadata": {},
   "source": [
    "### --------------------------------------------------------------------------------------------------------------------------------"
   ]
  },
  {
   "cell_type": "code",
   "execution_count": 40,
   "id": "11052352",
   "metadata": {},
   "outputs": [
    {
     "name": "stdout",
     "output_type": "stream",
     "text": [
      "Calculating Coherence and Perplexity Scores\n",
      "\n",
      "Topic number: 2\n",
      "\n",
      "Perplexity:  -7.673320635676418\n",
      "\n",
      "Coherence Score:  0.46307033296505407\n",
      "--------------------------------------------------\n",
      "Topic number: 3\n",
      "\n",
      "Perplexity:  -7.776570928209765\n",
      "\n",
      "Coherence Score:  0.48066707998571845\n",
      "--------------------------------------------------\n",
      "Topic number: 4\n",
      "\n",
      "Perplexity:  -7.847535300977112\n",
      "\n",
      "Coherence Score:  0.5107026356571038\n",
      "--------------------------------------------------\n",
      "Topic number: 5\n",
      "\n",
      "Perplexity:  -7.922060471411436\n",
      "\n",
      "Coherence Score:  0.5256607958315689\n",
      "--------------------------------------------------\n",
      "Topic number: 6\n",
      "\n",
      "Perplexity:  -7.957917468544753\n",
      "\n",
      "Coherence Score:  0.5260929931418173\n",
      "--------------------------------------------------\n",
      "Topic number: 7\n",
      "\n",
      "Perplexity:  -8.05589901548066\n",
      "\n",
      "Coherence Score:  0.55516336766688\n",
      "--------------------------------------------------\n",
      "\n",
      "\n",
      "**************************************************\n",
      "Best Perplexity topic:7\n",
      "Best Coherence topic:7\n",
      "**************************************************\n"
     ]
    },
    {
     "data": {
      "text/html": [
       "<div>\n",
       "<style scoped>\n",
       "    .dataframe tbody tr th:only-of-type {\n",
       "        vertical-align: middle;\n",
       "    }\n",
       "\n",
       "    .dataframe tbody tr th {\n",
       "        vertical-align: top;\n",
       "    }\n",
       "\n",
       "    .dataframe thead th {\n",
       "        text-align: right;\n",
       "    }\n",
       "</style>\n",
       "<table border=\"1\" class=\"dataframe\">\n",
       "  <thead>\n",
       "    <tr style=\"text-align: right;\">\n",
       "      <th></th>\n",
       "      <th>number_topics</th>\n",
       "      <th>coherence_scores</th>\n",
       "      <th>perplexity_scores</th>\n",
       "    </tr>\n",
       "  </thead>\n",
       "  <tbody>\n",
       "    <tr>\n",
       "      <th>0</th>\n",
       "      <td>2</td>\n",
       "      <td>0.463070</td>\n",
       "      <td>-7.673321</td>\n",
       "    </tr>\n",
       "    <tr>\n",
       "      <th>1</th>\n",
       "      <td>3</td>\n",
       "      <td>0.480667</td>\n",
       "      <td>-7.776569</td>\n",
       "    </tr>\n",
       "    <tr>\n",
       "      <th>2</th>\n",
       "      <td>4</td>\n",
       "      <td>0.510703</td>\n",
       "      <td>-7.847574</td>\n",
       "    </tr>\n",
       "    <tr>\n",
       "      <th>3</th>\n",
       "      <td>5</td>\n",
       "      <td>0.525661</td>\n",
       "      <td>-7.922088</td>\n",
       "    </tr>\n",
       "    <tr>\n",
       "      <th>4</th>\n",
       "      <td>6</td>\n",
       "      <td>0.526093</td>\n",
       "      <td>-7.957882</td>\n",
       "    </tr>\n",
       "    <tr>\n",
       "      <th>5</th>\n",
       "      <td>7</td>\n",
       "      <td>0.555163</td>\n",
       "      <td>-8.055803</td>\n",
       "    </tr>\n",
       "  </tbody>\n",
       "</table>\n",
       "</div>"
      ],
      "text/plain": [
       "   number_topics  coherence_scores  perplexity_scores\n",
       "0              2          0.463070          -7.673321\n",
       "1              3          0.480667          -7.776569\n",
       "2              4          0.510703          -7.847574\n",
       "3              5          0.525661          -7.922088\n",
       "4              6          0.526093          -7.957882\n",
       "5              7          0.555163          -8.055803"
      ]
     },
     "execution_count": 40,
     "metadata": {},
     "output_type": "execute_result"
    }
   ],
   "source": [
    "# THIS SECTION IS TAKEN FROM JASMINE'S CODE\n",
    "\n",
    "from gensim.models import CoherenceModel\n",
    "\n",
    "result={'number_topics': [], 'coherence_scores': [], 'perplexity_scores':[]}\n",
    "\n",
    "print('Calculating Coherence and Perplexity Scores')\n",
    "print('')\n",
    "\n",
    "for t in range(2,max_topics+1):\n",
    "    print(f'Topic number: {t}')\n",
    "\n",
    "\n",
    "    # Build LDA model elbow chart\n",
    "    lda_model_f = gensim.models.ldamodel.LdaModel(corpus=corpus,\n",
    "                                           id2word=dictionary,\n",
    "                                           num_topics=t, \n",
    "                                           random_state=random_state,\n",
    "                                           passes=passes)\n",
    "\n",
    "\n",
    "    # Compute Perplexity\n",
    "    perp_score = lda_model_f.log_perplexity(corpus)\n",
    "    print('\\nPerplexity: ', lda_model_f.log_perplexity(corpus))  # a measure of how good the model is. The lower the better.\n",
    "\n",
    "    # Compute Coherence Score\n",
    "    coherence_model_lda = CoherenceModel(model=lda_model_f, texts=df['pos'], dictionary=dictionary, coherence='c_v')\n",
    "    coherence_lda = coherence_model_lda.get_coherence()\n",
    "\n",
    "    print('\\nCoherence Score: ', coherence_lda)\n",
    "    print('-'*50)\n",
    "\n",
    "    result[\"number_topics\"].append(t)\n",
    "    result[\"coherence_scores\"].append(coherence_lda)\n",
    "    result[\"perplexity_scores\"].append(perp_score)\n",
    "\n",
    "topics = pd.DataFrame(result)\n",
    "\n",
    "opt=max(topics.coherence_scores)\n",
    "perp=min(topics.perplexity_scores)\n",
    "topicindex_c=topics.number_topics[topics.coherence_scores==opt].values[0]\n",
    "topicindex_p=topics.number_topics[topics.perplexity_scores==perp].values[0]\n",
    "print('')\n",
    "print('')\n",
    "print('*'*50)\n",
    "print(f'Best Perplexity topic:{topicindex_p}')\n",
    "print(f'Best Coherence topic:{topicindex_c}')\n",
    "print('*'*50)\n",
    "topics"
   ]
  },
  {
   "cell_type": "markdown",
   "id": "00de9226",
   "metadata": {},
   "source": [
    "### --------------------------------------------------------------------------------------------------------------------------------\n",
    "#### CHANGE THIS SECTION ONLY"
   ]
  },
  {
   "cell_type": "markdown",
   "id": "4584f736",
   "metadata": {},
   "source": [
    "#### Choose num_topics with lowest Perplexity score and highest Coherence score"
   ]
  },
  {
   "cell_type": "code",
   "execution_count": 41,
   "id": "c921dc45",
   "metadata": {},
   "outputs": [],
   "source": [
    "num_topics_opt = 7"
   ]
  },
  {
   "cell_type": "markdown",
   "id": "6b396c0b",
   "metadata": {},
   "source": [
    "### --------------------------------------------------------------------------------------------------------------------------------"
   ]
  },
  {
   "cell_type": "markdown",
   "id": "6ba9c00e",
   "metadata": {},
   "source": [
    "#### Modeling using Optimal Topics"
   ]
  },
  {
   "cell_type": "code",
   "execution_count": 42,
   "id": "268ec93c",
   "metadata": {
    "scrolled": false
   },
   "outputs": [
    {
     "name": "stdout",
     "output_type": "stream",
     "text": [
      "(0, '0.022*\"university\" + 0.021*\"life\" + 0.019*\"semester\" + 0.019*\"buffalo\" + 0.016*\"room\"')\n",
      "(1, '0.065*\"class\" + 0.031*\"school\" + 0.029*\"mask\" + 0.016*\"work\" + 0.015*\"question\"')\n",
      "(2, '0.063*\"student\" + 0.035*\"post\" + 0.016*\"college\" + 0.015*\"problem\" + 0.014*\"thank\"')\n",
      "(3, '0.018*\"opinion\" + 0.017*\"break\" + 0.012*\"case\" + 0.012*\"campus\" + 0.010*\"semester\"')\n",
      "(4, '0.032*\"professor\" + 0.017*\"reddit\" + 0.015*\"place\" + 0.013*\"exam\" + 0.010*\"friend\"')\n",
      "(5, '0.042*\"campus\" + 0.016*\"house\" + 0.014*\"north\" + 0.013*\"community\" + 0.012*\"bedroom\"')\n",
      "(6, '0.017*\"person\" + 0.012*\"snow\" + 0.011*\"thing\" + 0.011*\"housing\" + 0.011*\"money\"')\n"
     ]
    },
    {
     "data": {
      "text/html": [
       "\n",
       "<link rel=\"stylesheet\" type=\"text/css\" href=\"https://cdn.jsdelivr.net/gh/bmabey/pyLDAvis@3.3.1/pyLDAvis/js/ldavis.v1.0.0.css\">\n",
       "\n",
       "\n",
       "<div id=\"ldavis_el20841406513564235527852837958\"></div>\n",
       "<script type=\"text/javascript\">\n",
       "\n",
       "var ldavis_el20841406513564235527852837958_data = {\"mdsDat\": {\"x\": [0.15472558577633966, -0.015046763018485133, -0.1688802020851303, 0.18324180618056807, -0.09130857226781754, -0.05348985052252279, -0.00924200406295192], \"y\": [0.06760248536443277, 0.06547347860060636, 0.1707037306766741, -0.008817509500599799, -0.15295471660714305, -0.1286172487022629, -0.01339021983170749], \"topics\": [1, 2, 3, 4, 5, 6, 7], \"cluster\": [1, 1, 1, 1, 1, 1, 1], \"Freq\": [17.677135487150956, 15.642782670387978, 15.198095959914268, 14.219497053770183, 12.867711446072006, 12.38181075180946, 12.012966630895148]}, \"tinfo\": {\"Term\": [\"class\", \"student\", \"post\", \"mask\", \"professor\", \"school\", \"university\", \"campus\", \"life\", \"buffalo\", \"reddit\", \"house\", \"opinion\", \"work\", \"break\", \"semester\", \"lease\", \"person\", \"problem\", \"college\", \"room\", \"community\", \"north\", \"party\", \"bathroom\", \"fact\", \"club\", \"thank\", \"schedule\", \"experience\", \"lecture\", \"community\", \"suny\", \"application\", \"kitchen\", \"living\", \"ubreddit\", \"asshole\", \"house\", \"right\", \"risk\", \"meeting\", \"dude\", \"didn\\\\'t\", \"bath\", \"stop\", \"zoom\", \"flame\", \"product\", \"country\", \"joke\", \"pain\", \"flint\", \"deadline\", \"assignment\", \"concert\", \"look\", \"war\", \"north\", \"boom\", \"july\", \"utility\", \"food\", \"photo\", \"capen\", \"apartment\", \"bedroom\", \"campus\", \"floor\", \"roommate\", \"comment\", \"spring\", \"world\", \"state\", \"fall\", \"buffalo\", \"south\", \"place\", \"school\", \"group\", \"room\", \"student\", \"minute\", \"college\", \"mask\", \"speech\", \"fest\", \"lounge\", \"one\", \"night\", \"answer\", \"curve\", \"mistake\", \"decision\", \"delivery\", \"homework\", \"work\", \"super\", \"piece\", \"lock\", \"trouble\", \"position\", \"department\", \"cost\", \"bull\", \"textbook\", \"yesterday\", \"train\", \"language\", \"quiz\", \"order\", \"value\", \"purpose\", \"april\", \"class\", \"office\", \"hour\", \"degree\", \"lockwood\", \"school\", \"today\", \"club\", \"question\", \"downtown\", \"project\", \"week\", \"book\", \"home\", \"month\", \"study\", \"covid\", \"semester\", \"exam\", \"room\", \"couple\", \"grade\", \"student\", \"fall\", \"year\", \"event\", \"thing\", \"experience\", \"post\", \"problem\", \"vote\", \"meme\", \"hong\", \"credit\", \"kong\", \"thought\", \"capstone\", \"hell\", \"dining\", \"test\", \"fire\", \"section\", \"code\", \"krabs\", \"chair\", \"way\", \"president\", \"file\", \"delegate\", \"goose\", \"election\", \"flag\", \"falls\", \"pathway\", \"shot\", \"platform\", \"senior\", \"boombox\", \"thank\", \"freshman\", \"student\", \"america\", \"college\", \"music\", \"content\", \"help\", \"course\", \"picture\", \"year\", \"ellicott\", \"library\", \"semester\", \"money\", \"guy\", \"person\", \"virus\", \"fact\", \"summer\", \"rule\", \"31st\", \"workload\", \"life\", \"need\", \"villas\", \"sweethome\", \"news\", \"midterm\", \"electricity\", \"dryer\", \"washer\", \"girl\", \"apple\", \"rest\", \"love\", \"teacher\", \"stampede\", \"story\", \"schedule\", \"gender\", \"bathroom\", \"plane\", \"venu\", \"sleep\", \"eye\", \"hole\", \"party\", \"university\", \"lease\", \"peace\", \"store\", \"parking\", \"city\", \"line\", \"buffalo\", \"issue\", \"room\", \"semester\", \"shuttle\", \"guy\", \"rent\", \"august\", \"campus\", \"time\", \"space\", \"bedroom\", \"thing\", \"day\", \"roommate\", \"ticket\", \"account\", \"form\", \"weekend\", \"morning\", \"prof\", \"reddit\", \"sea\", \"subreddit\", \"hate\", \"activity\", \"system\", \"name\", \"friday\", \"alumnus\", \"syllabus\", \"request\", \"adult\", \"action\", \"member\", \"shirt\", \"website\", \"buff\", \"falcon\", \"date\", \"uubnf\", \"officer\", \"coffee\", \"deal\", \"organization\", \"professor\", \"viewform?usp\", \"poster\", \"freedom\", \"message\", \"graduation\", \"camera\", \"knox\", \"exam\", \"friend\", \"place\", \"event\", \"phone\", \"spot\", \"forum\", \"vegan\", \"campus\", \"course\", \"fee\", \"material\", \"final\", \"speaker\", \"game\", \"feeling\", \"davis\", \"alarm\", \"bruh\", \"break\", \"min\", \"meal\", \"robotics\", \"northeastern\", \"paltz\", \"accident\", \"fargo\", \"debate\", \"sciences\", \"perspective\", \"mood\", \"restaurant\", \"deposit\", \"science\", \"fridge\", \"window\", \"fitness\", \"knowledge\", \"chem\", \"stat\", \"case\", \"opinion\", \"center\", \"stuff\", \"sophomore\", \"survey\", \"police\", \"engineering\", \"math\", \"computer\", \"desk\", \"lmao\", \"idea\", \"spring\", \"situation\", \"point\", \"building\", \"semester\", \"university\", \"campus\", \"class\", \"guy\", \"snow\", \"luck\", \"mind\", \"view\", \"choice\", \"football\", \"population\", \"chance\", \"policy\", \"minecraft\", \"leadership\", \"greiner\", \"commuter\", \"return\", \"difference\", \"term\", \"pyramid\", \"culture\", \"stem\", \"check\", \"list\", \"creekside\", \"baby\", \"damn\", \"memory\", \"service\", \"waste\", \"mortality\", \"religion\", \"reality\", \"option\", \"housing\", \"person\", \"money\", \"health\", \"lake\", \"rate\", \"minute\", \"building\", \"thing\", \"vaccine\", \"major\", \"point\", \"place\", \"comment\", \"campus\", \"school\"], \"Freq\": [133.0, 156.0, 62.0, 52.0, 53.0, 78.0, 47.0, 156.0, 35.0, 55.0, 27.0, 33.0, 30.0, 32.0, 26.0, 71.0, 36.0, 36.0, 26.0, 42.0, 51.0, 26.0, 32.0, 32.0, 25.0, 21.0, 35.0, 29.0, 24.0, 21.0, 15.773354200757339, 25.630039670149156, 13.792361086739579, 11.45579562372031, 11.084184729335224, 10.765528631309298, 10.78723702223662, 8.45065390483103, 31.364972290369142, 7.781729207125736, 7.451414245291198, 6.787080152618494, 17.085312974038967, 6.780666499903695, 6.75913418825047, 6.105159503635324, 5.786380754083377, 5.785420912974448, 5.769535681998396, 5.77648686431776, 5.11257740609499, 4.777915748512559, 4.783426704579415, 4.78119853519005, 4.764758584812226, 4.447917636453574, 4.436510579944595, 4.116121564524521, 28.039069884768818, 3.784122699447333, 13.805080607494796, 14.856381658528118, 13.624283895537186, 8.063352906897652, 10.96059101659256, 20.952439396836706, 23.335725799487342, 83.35026037032077, 19.372851277066403, 17.688544771065338, 12.771796322291236, 15.372481625634196, 8.78426048053622, 10.28723320956422, 14.76035759297137, 19.389323748682187, 12.559926961230317, 15.796637548780147, 16.16873626173463, 9.560755212452241, 12.125106859568215, 14.576228847890215, 10.519289896794168, 10.462005129895209, 51.31558217251125, 15.044869998377099, 12.60942360046067, 9.535217136947214, 9.245990877283, 7.986891496774822, 7.378146656060049, 6.204682017865713, 6.203496751958751, 6.202869379161656, 6.202070157197335, 6.398888021726646, 28.758775596797907, 5.290022636635034, 5.289486121890467, 5.289214369977701, 5.2878946670427895, 5.283623516329145, 5.2688272208065685, 4.982587354325905, 4.98010540833897, 4.979228895361639, 4.670915044463132, 4.3749106096313515, 4.3744624862048545, 4.374520043342203, 4.372602979546099, 4.359379227240356, 4.066730784638383, 4.061124308338261, 113.9208488317994, 11.2938508012761, 18.33110133322966, 8.89843128116123, 9.278111048902558, 55.18713834889161, 21.731651009793527, 25.85553438732901, 26.5156604845545, 9.827490635911605, 7.941757656400841, 11.7733149113035, 7.576632444205228, 13.893770008144214, 6.497740760632497, 7.899068349874519, 9.102417064902436, 14.87284815973979, 11.27585844014106, 12.486693694248338, 8.195637255774722, 7.750471443893099, 15.697778430579124, 9.260538032625341, 8.694941311046037, 8.550107819602369, 8.595865743794167, 20.95720274353627, 59.61070403810566, 24.910954430778602, 12.544163011254296, 12.215498951202292, 11.62130875235501, 11.893105224727535, 11.019200150345837, 9.811590942713151, 8.87491303083633, 7.9650755658353285, 7.685798471266686, 7.684002610662577, 7.074998958442525, 7.080236352624258, 7.0755086377420895, 6.761749901156037, 11.830123083194032, 5.560740960565674, 5.261403831433212, 4.953814770757092, 4.653898460602396, 13.038808369222506, 4.352378817604086, 4.351959011221764, 4.351129783772002, 4.344692086851091, 4.349562799530473, 4.608852157304278, 4.3325492571435955, 9.432324036466285, 24.048546698841005, 22.172421990365905, 107.99517028274155, 10.054295751491718, 27.936052859065946, 8.548935571857111, 6.886352110232827, 9.197706192498835, 20.191931258295632, 10.470237198936722, 11.454916835065799, 8.505318847095937, 8.413486300821875, 11.326417736297353, 8.149472423647405, 8.317965370024162, 7.960611478177073, 19.96042304589875, 20.53320817095561, 18.283608416039524, 11.32446773913582, 8.72688856480252, 8.441542406308706, 33.04680870759767, 6.515618589674419, 6.4926829080985415, 6.180149677922496, 6.18749991883422, 5.862244284175877, 5.540257167262801, 6.949080996973777, 6.948983830884848, 5.529567776333472, 5.227120012472492, 13.05834502329702, 4.910994253016173, 4.592341801531984, 4.272838773053942, 4.269078071696677, 21.36882607170152, 3.950458507196432, 22.05557655503132, 3.6351870618912328, 3.634669091894098, 3.6344755071476937, 3.6342434296814448, 3.6325295693590345, 25.506591648525678, 35.88615131238302, 25.69951865525075, 6.717283070088533, 5.752568435013408, 18.441968212912503, 9.623459500564815, 7.654562112523205, 31.011980391060714, 11.893361736046813, 25.781664361693924, 31.20079652479265, 9.296005296286598, 15.96354829802111, 11.20099804250275, 11.117621316455995, 25.277940408058818, 7.325122730305031, 7.810881421528686, 9.721964239226304, 10.455589138718185, 8.686253706412565, 8.301129186060843, 14.572394322882062, 13.972727120683139, 14.086133799386538, 9.451819804278195, 9.445396257580875, 9.134568158054023, 25.28592328704722, 8.845509909427447, 8.85180832649025, 7.948050410112689, 7.943716866499998, 7.336187464995016, 7.042103739695692, 7.038462805519461, 7.30294627030338, 6.440771298793094, 6.434311904146427, 6.136198328239266, 5.832646009677252, 5.830153562632962, 5.82165354037907, 5.528469733883662, 5.228846485845469, 4.92150984130983, 9.436703468052187, 4.629806284571933, 4.6213671361942925, 4.32751371706012, 4.3258237906177435, 4.324894111252105, 46.13425462660906, 4.810852632683782, 11.363024815957795, 8.61725316477709, 9.27204842568561, 11.476514012582335, 6.100681803328636, 8.53532504385965, 19.087221691802306, 15.150113110810372, 21.63458238348227, 12.313140218229941, 8.35149067221549, 8.0504632667651, 7.769422784017226, 7.375133894644206, 14.64637231556108, 7.701574790676716, 9.160839650896689, 8.574793439032232, 8.567150025821826, 8.286770702965088, 8.268809593090465, 7.7034130929375, 7.409272502291182, 6.825970864124637, 6.525582251780439, 23.518113389428024, 5.3603935666098845, 5.070568015948664, 4.489977108029168, 4.489609060501027, 4.483694592044832, 4.48352277144814, 4.486718374212368, 4.1959783995422395, 4.195789657220116, 4.1954349518216425, 4.188776578282043, 4.1939630871268765, 4.191353561814622, 4.186223350248628, 4.184283860179912, 7.985132486281315, 3.9010415115472385, 3.9000951965942474, 3.9000838069713604, 3.6113334367106504, 16.90095206128211, 24.92252027659596, 11.109552710809282, 12.832412152219815, 7.069447157992682, 12.860813315850239, 8.900225554179835, 10.223965925378996, 6.065526746618124, 7.028993820841288, 5.935720841666714, 7.102113898103094, 7.327472230718477, 10.375836458622228, 6.186658965614571, 9.835937744516952, 8.168272415615652, 13.393431132170704, 10.945043601175307, 16.718331498751404, 8.400963712863328, 6.398715520369407, 15.914989592078161, 10.92489941104043, 10.363068163640076, 10.624193899822115, 9.410712385853156, 8.30544585771111, 7.725788840950437, 7.723171490118042, 7.430153854987642, 6.8385908913162785, 6.844274552315649, 6.824395946391732, 6.543942858152286, 5.375385061341329, 5.5780311605415145, 4.790057959707437, 4.502555389033041, 4.495746488182446, 4.206958605657788, 4.199602239627051, 4.204204862116153, 3.9110877739686, 3.9109131786718194, 3.910787836297819, 3.9108901308297486, 7.988224831167994, 3.908212792463197, 3.6228991353377764, 3.6226171939272422, 3.6213568242622336, 12.736863924331471, 14.613703377193145, 22.77650140447167, 14.31038493527653, 9.44361207537534, 6.101728016754895, 8.383499742812004, 12.926187107919423, 8.964814941306301, 14.772060364201927, 5.277840279221486, 7.050065892648804, 8.002848529099825, 9.260406988823595, 6.559641280117105, 9.235139607989264, 6.5123666830679054], \"Total\": [133.0, 156.0, 62.0, 52.0, 53.0, 78.0, 47.0, 156.0, 35.0, 55.0, 27.0, 33.0, 30.0, 32.0, 26.0, 71.0, 36.0, 36.0, 26.0, 42.0, 51.0, 26.0, 32.0, 32.0, 25.0, 21.0, 35.0, 29.0, 24.0, 21.0, 16.422987293476105, 26.735533000543242, 14.438085497663803, 12.10054364034224, 11.73141198256264, 11.411565570375116, 11.434580155593135, 9.096907342961, 33.849610356277005, 8.43083755350877, 8.096662540245203, 7.432103887727973, 18.720109114595374, 7.430068335618038, 7.4076026159802435, 6.751394068661401, 6.431294987103085, 6.431042622652748, 6.415327705284552, 6.428032412356316, 5.758210302050123, 5.4224622164359895, 5.429646256339178, 5.428941053132991, 5.413544356668218, 5.093617541600185, 5.085577750491118, 4.7648063788014925, 32.52527670219955, 4.429295732914971, 16.61551486543364, 17.931979893498806, 16.846512123093103, 9.656650184613719, 13.554940419524886, 28.073913717368256, 33.593980498988195, 156.78240325648474, 28.956148668142465, 31.524906634044886, 19.874575555502528, 26.32009863506052, 12.34675432054894, 16.13595415237159, 31.609232952103195, 55.85205165822133, 25.68505516039737, 53.906226452205864, 78.30894607789996, 17.082276123764267, 51.06829816952831, 156.39318843977034, 34.5746586748019, 42.787570639459005, 52.27419482644642, 15.701635267181734, 13.264740260290198, 10.198245209630578, 9.903882831955721, 8.681851307665182, 8.081363669603025, 6.859827597932752, 6.859550486925909, 6.859274189731003, 6.85909848471654, 7.15333089022454, 32.26311219928652, 5.944994890825551, 5.9447333373228295, 5.94471567557158, 5.94430509480007, 5.943079667982997, 5.92977147167183, 5.637487987164032, 5.636777413940285, 5.637017081892005, 5.328965118427076, 5.029894893420628, 5.029699044898085, 5.03002176645161, 5.029139008042343, 5.026221080244084, 4.722289911132158, 4.7226049442435185, 133.91731679950513, 13.250406952941992, 22.28794178881425, 10.592072315505648, 11.113436720426167, 78.30894607789996, 29.009469560441847, 35.62199852333207, 38.05864372267318, 12.265679503897681, 9.664625632728672, 15.650602764253316, 9.335320498567055, 20.981926354259194, 8.029396929782836, 11.680582504017165, 15.99365810515116, 71.6537423343335, 35.41847556661801, 51.06829816952831, 15.36022003386785, 13.37586125042399, 156.39318843977034, 31.609232952103195, 27.494437860174365, 28.473955447461112, 55.83157886437134, 21.68922959680455, 62.24929511399754, 26.21111675424639, 13.199700559816552, 12.871583656278837, 12.282734529630046, 12.582857679088812, 11.67816222416429, 10.468414486535032, 9.53652532910926, 8.6331286202811, 8.342351584018404, 8.342298519165055, 7.730842917881371, 7.737561303189321, 7.736541403960605, 7.417738312964887, 13.1733816180327, 6.216377818173537, 5.917667670510759, 5.6113266995084805, 5.313444482789534, 14.968208590248306, 5.007726158399527, 5.007638670039563, 5.007409293406367, 5.000404007666056, 5.006877693055317, 5.30958540631853, 5.000585916016696, 11.120593277061964, 29.532053501250346, 28.377225863560692, 156.39318843977034, 12.90470981987001, 42.787570639459005, 10.922245199319601, 8.634343676762208, 13.36576320469429, 42.488749846302724, 20.60690693103382, 27.494437860174365, 15.942258959661283, 16.077591143915182, 71.6537423343335, 23.012349181732084, 33.036186512219786, 36.50239983786673, 20.611263380887927, 21.24523038500491, 19.274512587722292, 11.974900800796782, 9.38351561917114, 9.091250747839148, 35.84172421936721, 7.167461493630323, 7.145297076212964, 6.830198110298303, 6.842974355274877, 6.514306522173794, 6.191726525696009, 7.769195583701628, 7.769191946428893, 6.1909165379683175, 5.876641939003255, 14.77668384518346, 5.561070871872399, 5.244637427284298, 4.922943846921661, 4.92156617266989, 24.653333168364366, 4.599981142903098, 25.80111807879457, 4.28467348631717, 4.28451139712436, 4.284455962471975, 4.284364073220343, 4.2837603642057545, 32.36578597028856, 47.422693770789465, 36.49370699571986, 8.367170839307366, 7.117289600857417, 26.293468625491542, 12.70144489570335, 9.901275295166062, 55.85205165822133, 17.947483763943016, 51.06829816952831, 71.6537423343335, 13.480382745320219, 33.036186512219786, 21.56743525669713, 21.93465675737595, 156.78240325648474, 10.793948909874489, 13.110550896244161, 33.593980498988195, 55.83157886437134, 23.794377301468003, 31.524906634044886, 15.229389289693133, 14.635637252265814, 14.904841101727508, 10.109536004253227, 10.102767070238437, 9.79142746629391, 27.106320789406134, 9.501849294442037, 9.508808493681556, 8.604194107556465, 8.602874607434128, 7.995705603757599, 7.698789745433825, 7.697795591655813, 7.99931792490501, 7.09762329810113, 7.090757093355645, 6.793531132922673, 6.489529048042653, 6.489507968458357, 6.48213973272363, 6.185503494436805, 5.8878961701033505, 5.577474608957269, 10.776004009245666, 5.287319836262714, 5.287205426335074, 4.9837765501629, 4.98324050277484, 4.9830930262161734, 53.66251835328637, 5.5706266091220895, 14.748341698588264, 10.862247335218857, 12.020424279598203, 15.5939340887587, 7.383505101925343, 11.634551064395927, 35.41847556661801, 28.57569809537648, 53.906226452205864, 28.473955447461112, 13.339793859010046, 12.78187518246731, 12.581555293698669, 11.322944392651896, 156.78240325648474, 42.488749846302724, 9.824415444459868, 9.23493729536029, 9.228030525389414, 8.947100403642969, 8.933786259910852, 8.36429610263759, 8.069903895626243, 7.4867681227378435, 7.18537519630368, 26.28058458979932, 6.020203001841704, 5.731820806712214, 5.149661651692959, 5.149488567064658, 5.142884695941219, 5.142721980157977, 5.14919885021001, 4.855125905092231, 4.855089727061278, 4.854927200643122, 4.8478983760165315, 4.854484792380114, 4.853845251418853, 4.847951092580735, 4.846798922763342, 9.283178536111604, 4.560241819727447, 4.559948013488969, 4.559975396888997, 4.271889877910889, 20.13318142301483, 30.463495760469865, 14.035082305561968, 16.655918221191378, 8.970668123273693, 18.71379277918086, 12.166856985616773, 16.512550990951414, 8.427115569690894, 10.812579349530594, 8.398274756104115, 11.677769791483602, 12.547643574399956, 26.32009863506052, 10.107730659046643, 28.356250250680517, 20.296238189179896, 71.6537423343335, 47.422693770789465, 156.78240325648474, 133.91731679950513, 33.036186512219786, 16.578568737331217, 11.602411259721153, 11.024119498356908, 11.316232757746283, 10.132544688198998, 8.969484416598831, 8.38533280972761, 8.3855825636295, 8.089762895247922, 7.498360878056732, 7.505073080304083, 7.491180423574087, 7.210021785953521, 6.034548768309748, 6.342537845740194, 5.450023653598752, 5.161586935829015, 5.154728345261686, 4.866045581702067, 4.859030183585724, 4.865318300976719, 4.570300573938601, 4.570375741220358, 4.570233482717904, 4.570393796068513, 9.34073669409039, 4.57000599591552, 4.281737331787872, 4.281692972925842, 4.28152988673994, 15.49721095376113, 19.74511958351815, 36.50239983786673, 23.012349181732084, 14.454833876617705, 8.92017971272139, 15.045868387545614, 34.5746586748019, 20.296238189179896, 55.83157886437134, 7.864000261132611, 14.78643384111985, 28.356250250680517, 53.906226452205864, 19.874575555502528, 156.78240325648474, 78.30894607789996], \"Category\": [\"Default\", \"Default\", \"Default\", \"Default\", \"Default\", \"Default\", \"Default\", \"Default\", \"Default\", \"Default\", \"Default\", \"Default\", \"Default\", \"Default\", \"Default\", \"Default\", \"Default\", \"Default\", \"Default\", \"Default\", \"Default\", \"Default\", \"Default\", \"Default\", \"Default\", \"Default\", \"Default\", \"Default\", \"Default\", \"Default\", \"Topic1\", \"Topic1\", \"Topic1\", \"Topic1\", \"Topic1\", \"Topic1\", \"Topic1\", \"Topic1\", \"Topic1\", \"Topic1\", \"Topic1\", \"Topic1\", \"Topic1\", \"Topic1\", \"Topic1\", \"Topic1\", \"Topic1\", \"Topic1\", \"Topic1\", \"Topic1\", \"Topic1\", \"Topic1\", \"Topic1\", \"Topic1\", \"Topic1\", \"Topic1\", \"Topic1\", \"Topic1\", \"Topic1\", \"Topic1\", \"Topic1\", \"Topic1\", \"Topic1\", \"Topic1\", \"Topic1\", \"Topic1\", \"Topic1\", \"Topic1\", \"Topic1\", \"Topic1\", \"Topic1\", \"Topic1\", \"Topic1\", \"Topic1\", \"Topic1\", \"Topic1\", \"Topic1\", \"Topic1\", \"Topic1\", \"Topic1\", \"Topic1\", \"Topic1\", \"Topic1\", \"Topic1\", \"Topic2\", \"Topic2\", \"Topic2\", \"Topic2\", \"Topic2\", \"Topic2\", \"Topic2\", \"Topic2\", \"Topic2\", \"Topic2\", \"Topic2\", \"Topic2\", \"Topic2\", \"Topic2\", \"Topic2\", \"Topic2\", \"Topic2\", \"Topic2\", \"Topic2\", \"Topic2\", \"Topic2\", \"Topic2\", \"Topic2\", \"Topic2\", \"Topic2\", \"Topic2\", \"Topic2\", \"Topic2\", \"Topic2\", \"Topic2\", \"Topic2\", \"Topic2\", \"Topic2\", \"Topic2\", \"Topic2\", \"Topic2\", \"Topic2\", \"Topic2\", \"Topic2\", \"Topic2\", \"Topic2\", \"Topic2\", \"Topic2\", \"Topic2\", \"Topic2\", \"Topic2\", \"Topic2\", \"Topic2\", \"Topic2\", \"Topic2\", \"Topic2\", \"Topic2\", \"Topic2\", \"Topic2\", \"Topic2\", \"Topic2\", \"Topic2\", \"Topic3\", \"Topic3\", \"Topic3\", \"Topic3\", \"Topic3\", \"Topic3\", \"Topic3\", \"Topic3\", \"Topic3\", \"Topic3\", \"Topic3\", \"Topic3\", \"Topic3\", \"Topic3\", \"Topic3\", \"Topic3\", \"Topic3\", \"Topic3\", \"Topic3\", \"Topic3\", \"Topic3\", \"Topic3\", \"Topic3\", \"Topic3\", \"Topic3\", \"Topic3\", \"Topic3\", \"Topic3\", \"Topic3\", \"Topic3\", \"Topic3\", \"Topic3\", \"Topic3\", \"Topic3\", \"Topic3\", \"Topic3\", \"Topic3\", \"Topic3\", \"Topic3\", \"Topic3\", \"Topic3\", \"Topic3\", \"Topic3\", \"Topic3\", \"Topic3\", \"Topic3\", \"Topic3\", \"Topic3\", \"Topic4\", \"Topic4\", \"Topic4\", \"Topic4\", \"Topic4\", \"Topic4\", \"Topic4\", \"Topic4\", \"Topic4\", \"Topic4\", \"Topic4\", \"Topic4\", \"Topic4\", \"Topic4\", \"Topic4\", \"Topic4\", \"Topic4\", \"Topic4\", \"Topic4\", \"Topic4\", \"Topic4\", \"Topic4\", \"Topic4\", \"Topic4\", \"Topic4\", \"Topic4\", \"Topic4\", \"Topic4\", \"Topic4\", \"Topic4\", \"Topic4\", \"Topic4\", \"Topic4\", \"Topic4\", \"Topic4\", \"Topic4\", \"Topic4\", \"Topic4\", \"Topic4\", \"Topic4\", \"Topic4\", \"Topic4\", \"Topic4\", \"Topic4\", \"Topic4\", \"Topic4\", \"Topic4\", \"Topic4\", \"Topic4\", \"Topic4\", \"Topic4\", \"Topic4\", \"Topic4\", \"Topic5\", \"Topic5\", \"Topic5\", \"Topic5\", \"Topic5\", \"Topic5\", \"Topic5\", \"Topic5\", \"Topic5\", \"Topic5\", \"Topic5\", \"Topic5\", \"Topic5\", \"Topic5\", \"Topic5\", \"Topic5\", \"Topic5\", \"Topic5\", \"Topic5\", \"Topic5\", \"Topic5\", \"Topic5\", \"Topic5\", \"Topic5\", \"Topic5\", \"Topic5\", \"Topic5\", \"Topic5\", \"Topic5\", \"Topic5\", \"Topic5\", \"Topic5\", \"Topic5\", \"Topic5\", \"Topic5\", \"Topic5\", \"Topic5\", \"Topic5\", \"Topic5\", \"Topic5\", \"Topic5\", \"Topic5\", \"Topic5\", \"Topic5\", \"Topic5\", \"Topic5\", \"Topic5\", \"Topic5\", \"Topic6\", \"Topic6\", \"Topic6\", \"Topic6\", \"Topic6\", \"Topic6\", \"Topic6\", \"Topic6\", \"Topic6\", \"Topic6\", \"Topic6\", \"Topic6\", \"Topic6\", \"Topic6\", \"Topic6\", \"Topic6\", \"Topic6\", \"Topic6\", \"Topic6\", \"Topic6\", \"Topic6\", \"Topic6\", \"Topic6\", \"Topic6\", \"Topic6\", \"Topic6\", \"Topic6\", \"Topic6\", \"Topic6\", \"Topic6\", \"Topic6\", \"Topic6\", \"Topic6\", \"Topic6\", \"Topic6\", \"Topic6\", \"Topic6\", \"Topic6\", \"Topic6\", \"Topic6\", \"Topic6\", \"Topic6\", \"Topic6\", \"Topic6\", \"Topic6\", \"Topic6\", \"Topic6\", \"Topic6\", \"Topic6\", \"Topic6\", \"Topic6\", \"Topic6\", \"Topic7\", \"Topic7\", \"Topic7\", \"Topic7\", \"Topic7\", \"Topic7\", \"Topic7\", \"Topic7\", \"Topic7\", \"Topic7\", \"Topic7\", \"Topic7\", \"Topic7\", \"Topic7\", \"Topic7\", \"Topic7\", \"Topic7\", \"Topic7\", \"Topic7\", \"Topic7\", \"Topic7\", \"Topic7\", \"Topic7\", \"Topic7\", \"Topic7\", \"Topic7\", \"Topic7\", \"Topic7\", \"Topic7\", \"Topic7\", \"Topic7\", \"Topic7\", \"Topic7\", \"Topic7\", \"Topic7\", \"Topic7\", \"Topic7\", \"Topic7\", \"Topic7\", \"Topic7\", \"Topic7\", \"Topic7\", \"Topic7\", \"Topic7\", \"Topic7\", \"Topic7\", \"Topic7\"], \"logprob\": [30.0, 29.0, 28.0, 27.0, 26.0, 25.0, 24.0, 23.0, 22.0, 21.0, 20.0, 19.0, 18.0, 17.0, 16.0, 15.0, 14.0, 13.0, 12.0, 11.0, 10.0, 9.0, 8.0, 7.0, 6.0, 5.0, 4.0, 3.0, 2.0, 1.0, -4.8403, -4.3548, -4.9745, -5.1601, -5.1931, -5.2222, -5.2202, -5.4644, -4.1529, -5.5468, -5.5902, -5.6836, -4.7604, -5.6845, -5.6877, -5.7895, -5.8431, -5.8433, -5.846, -5.8448, -5.9669, -6.0346, -6.0334, -6.0339, -6.0374, -6.1062, -6.1087, -6.1837, -4.265, -6.2678, -4.9736, -4.9002, -4.9867, -5.5113, -5.2043, -4.5563, -4.4486, -3.1755, -4.6347, -4.7257, -5.0514, -4.866, -5.4256, -5.2677, -4.9067, -4.6339, -5.0681, -4.8388, -4.8155, -5.3409, -5.1033, -4.9192, -5.2454, -5.2508, -3.5383, -4.7653, -4.9419, -5.2213, -5.2521, -5.3985, -5.4778, -5.651, -5.6512, -5.6513, -5.6515, -5.6202, -4.1174, -5.8105, -5.8106, -5.8107, -5.8109, -5.8117, -5.8145, -5.8704, -5.8709, -5.8711, -5.935, -6.0004, -6.0006, -6.0005, -6.001, -6.004, -6.0735, -6.0749, -2.7408, -5.0521, -4.5677, -5.2905, -5.2487, -3.4656, -4.3976, -4.2238, -4.1986, -5.1912, -5.4042, -5.0105, -5.4513, -4.8449, -5.6049, -5.4096, -5.2678, -4.7768, -5.0537, -4.9517, -5.3727, -5.4286, -4.7228, -5.2506, -5.3136, -5.3304, -5.3251, -4.405, -3.3597, -4.2322, -4.9182, -4.9448, -4.9947, -4.9715, -5.0479, -5.1639, -5.2643, -5.3724, -5.4081, -5.4084, -5.4909, -5.4902, -5.4909, -5.5362, -4.9768, -5.7318, -5.7871, -5.8473, -5.9098, -4.8796, -5.9768, -5.9769, -5.9771, -5.9785, -5.9774, -5.9195, -5.9813, -5.2034, -4.2674, -4.3486, -2.7654, -5.1395, -4.1176, -5.3017, -5.518, -5.2285, -4.4422, -5.099, -5.0091, -5.3068, -5.3177, -5.0204, -5.3495, -5.3291, -5.373, -4.3872, -4.3589, -4.4749, -4.954, -5.2145, -5.2478, -3.883, -5.5067, -5.5103, -5.5596, -5.5584, -5.6124, -5.6689, -5.4423, -5.4423, -5.6708, -5.7271, -4.8115, -5.7895, -5.8565, -5.9287, -5.9295, -4.319, -6.0071, -4.2874, -6.0903, -6.0904, -6.0905, -6.0905, -6.091, -4.142, -3.8006, -4.1345, -5.4763, -5.6313, -4.4663, -5.1167, -5.3456, -3.9466, -4.905, -4.1313, -3.9405, -5.1514, -4.6106, -4.9649, -4.9724, -4.151, -5.3896, -5.3254, -5.1066, -5.0338, -5.2192, -5.2645, -4.6019, -4.6439, -4.6359, -5.0348, -5.0355, -5.069, -4.0508, -5.1011, -5.1004, -5.2081, -5.2087, -5.2882, -5.3291, -5.3297, -5.2928, -5.4184, -5.4194, -5.4668, -5.5176, -5.518, -5.5195, -5.5711, -5.6269, -5.6874, -5.0364, -5.7485, -5.7504, -5.8161, -5.8164, -5.8167, -3.4495, -5.7102, -4.8507, -5.1273, -5.054, -4.8407, -5.4726, -5.1368, -4.332, -4.563, -4.2068, -4.7704, -5.1586, -5.1953, -5.2309, -5.2829, -4.5969, -5.2396, -5.0276, -5.0937, -5.0946, -5.1279, -5.1301, -5.2009, -5.2398, -5.3218, -5.3668, -4.0848, -5.5635, -5.6191, -5.7407, -5.7408, -5.7421, -5.7421, -5.7414, -5.8084, -5.8085, -5.8086, -5.8101, -5.8089, -5.8095, -5.8108, -5.8112, -5.165, -5.8813, -5.8816, -5.8816, -5.9585, -4.4152, -4.0268, -4.8347, -4.6906, -5.2868, -4.6884, -5.0565, -4.9178, -5.4399, -5.2925, -5.4616, -5.2822, -5.2509, -4.9031, -5.4202, -4.9565, -5.1423, -4.6478, -4.8497, -4.426, -5.1142, -5.3865, -4.4451, -4.8213, -4.8741, -4.8492, -4.9705, -5.0954, -5.1677, -5.1681, -5.2068, -5.2897, -5.2889, -5.2918, -5.3338, -5.5305, -5.4935, -5.6458, -5.7077, -5.7092, -5.7756, -5.7773, -5.7762, -5.8485, -5.8485, -5.8486, -5.8485, -5.1343, -5.8492, -5.925, -5.9251, -5.9255, -4.6678, -4.5304, -4.0866, -4.5513, -4.967, -5.4037, -5.086, -4.6531, -5.019, -4.5196, -5.5488, -5.2593, -5.1325, -4.9866, -5.3314, -4.9893, -5.3386], \"loglift\": [30.0, 29.0, 28.0, 27.0, 26.0, 25.0, 24.0, 23.0, 22.0, 21.0, 20.0, 19.0, 18.0, 17.0, 16.0, 15.0, 14.0, 13.0, 12.0, 11.0, 10.0, 9.0, 8.0, 7.0, 6.0, 5.0, 4.0, 3.0, 2.0, 1.0, 1.6925, 1.6907, 1.6871, 1.6781, 1.6761, 1.6746, 1.6746, 1.6592, 1.6567, 1.6528, 1.6499, 1.6421, 1.6415, 1.6414, 1.6413, 1.6323, 1.6272, 1.6271, 1.6268, 1.626, 1.614, 1.6064, 1.6062, 1.6058, 1.6052, 1.5973, 1.5964, 1.5866, 1.5845, 1.5755, 1.5476, 1.5447, 1.5206, 1.5526, 1.5205, 1.4403, 1.3685, 1.1011, 1.331, 1.155, 1.2907, 1.1951, 1.3925, 1.2828, 0.9714, 0.6749, 1.0175, 0.5054, 0.1553, 1.1525, 0.295, -0.6401, 0.543, 0.3244, 1.8367, 1.8124, 1.8045, 1.7879, 1.7864, 1.7717, 1.7641, 1.7548, 1.7546, 1.7546, 1.7545, 1.7437, 1.7402, 1.7384, 1.7384, 1.7383, 1.7381, 1.7375, 1.737, 1.7317, 1.7313, 1.7311, 1.7234, 1.7156, 1.7156, 1.7155, 1.7153, 1.7128, 1.7057, 1.7043, 1.6934, 1.6954, 1.6597, 1.6809, 1.6747, 1.5052, 1.5663, 1.5347, 1.4938, 1.6335, 1.6588, 1.5705, 1.6464, 1.4429, 1.6435, 1.464, 1.2915, 0.2829, 0.7106, 0.4467, 1.227, 1.3095, -0.4437, 0.6275, 0.7039, 0.6521, -0.0159, 1.8497, 1.8407, 1.8331, 1.8331, 1.8317, 1.8286, 1.8276, 1.8259, 1.8192, 1.8121, 1.8035, 1.802, 1.8018, 1.7953, 1.7952, 1.7947, 1.7914, 1.7765, 1.7725, 1.7665, 1.7594, 1.7515, 1.746, 1.7437, 1.7437, 1.7435, 1.7434, 1.7433, 1.7425, 1.7406, 1.7193, 1.6786, 1.6373, 1.5137, 1.6344, 1.4577, 1.639, 1.6578, 1.5103, 1.14, 1.2069, 1.0084, 1.2557, 1.2364, 0.0393, 0.8459, 0.5048, 0.3611, 1.9185, 1.9165, 1.8978, 1.8947, 1.878, 1.8764, 1.8694, 1.8552, 1.8548, 1.8505, 1.8499, 1.8451, 1.8394, 1.839, 1.839, 1.8376, 1.8334, 1.8269, 1.8262, 1.8177, 1.8089, 1.8083, 1.8076, 1.7983, 1.7937, 1.7862, 1.7861, 1.786, 1.786, 1.7857, 1.7124, 1.6718, 1.5999, 1.7309, 1.7377, 1.5959, 1.673, 1.6932, 1.3622, 1.5391, 1.2671, 1.1192, 1.5789, 1.2233, 1.2954, 1.271, 0.1256, 1.5629, 1.4327, 0.7106, 0.2754, 0.9428, 0.6162, 2.0064, 2.0041, 1.994, 1.9832, 1.9832, 1.981, 1.9809, 1.9789, 1.9789, 1.9711, 1.9707, 1.9644, 1.9613, 1.9609, 1.9594, 1.9533, 1.9533, 1.9487, 1.9437, 1.9433, 1.943, 1.9382, 1.9317, 1.9253, 1.9177, 1.9177, 1.9158, 1.9093, 1.909, 1.9088, 1.8993, 1.9038, 1.7897, 1.8189, 1.7908, 1.7439, 1.8596, 1.7407, 1.4322, 1.4159, 1.1375, 1.2121, 1.5821, 1.5882, 1.5684, 1.6217, -0.3202, 0.3426, 2.019, 2.0148, 2.0146, 2.0123, 2.0116, 2.0066, 2.0035, 1.9965, 1.9926, 1.9779, 1.9729, 1.9664, 1.9519, 1.9518, 1.9518, 1.9518, 1.9512, 1.943, 1.943, 1.9429, 1.9428, 1.9427, 1.9422, 1.9422, 1.942, 1.9383, 1.9328, 1.9326, 1.9326, 1.921, 1.9139, 1.8882, 1.8552, 1.8282, 1.8508, 1.7139, 1.7763, 1.6096, 1.7601, 1.6583, 1.7419, 1.5916, 1.551, 1.1581, 1.598, 1.0301, 1.1788, 0.4119, 0.6227, -0.1494, -0.6799, 0.4474, 2.0783, 2.059, 2.0573, 2.0561, 2.0453, 2.0423, 2.0373, 2.0369, 2.0341, 2.0271, 2.027, 2.026, 2.0223, 2.0035, 1.9907, 1.9901, 1.9826, 1.9824, 1.9736, 1.9733, 1.9731, 1.9634, 1.9634, 1.9634, 1.9633, 1.9628, 1.9627, 1.9521, 1.952, 1.9517, 1.923, 1.8182, 1.6475, 1.6441, 1.6935, 1.7394, 1.5343, 1.1353, 1.3021, 0.7896, 1.7204, 1.3785, 0.8541, 0.3577, 1.0107, -0.7127, -0.3678]}, \"token.table\": {\"Topic\": [4, 6, 5, 5, 5, 5, 6, 5, 2, 3, 2, 1, 4, 4, 1, 2, 1, 1, 1, 2, 4, 7, 1, 1, 4, 1, 4, 2, 4, 1, 3, 4, 2, 6, 6, 5, 1, 3, 4, 6, 4, 6, 7, 2, 3, 5, 1, 2, 4, 5, 6, 7, 1, 3, 3, 4, 6, 7, 1, 5, 6, 2, 3, 7, 7, 6, 7, 1, 4, 2, 3, 5, 6, 7, 1, 2, 5, 3, 5, 1, 3, 7, 1, 7, 1, 2, 7, 4, 5, 6, 1, 3, 5, 2, 1, 1, 2, 3, 5, 1, 3, 5, 6, 1, 2, 6, 3, 7, 7, 2, 7, 1, 5, 6, 1, 2, 4, 6, 7, 1, 5, 6, 2, 1, 2, 3, 2, 2, 6, 5, 6, 1, 7, 3, 2, 6, 4, 1, 4, 3, 4, 2, 3, 5, 1, 6, 7, 1, 2, 4, 5, 2, 5, 6, 3, 4, 4, 5, 1, 2, 3, 4, 3, 6, 6, 6, 2, 3, 6, 3, 6, 3, 1, 1, 1, 2, 4, 1, 2, 7, 5, 3, 4, 5, 6, 7, 1, 5, 2, 3, 5, 6, 1, 2, 4, 5, 7, 6, 4, 4, 3, 5, 1, 2, 1, 5, 7, 7, 1, 3, 1, 3, 4, 6, 5, 2, 4, 7, 3, 3, 6, 4, 2, 3, 7, 2, 3, 2, 5, 6, 1, 2, 1, 7, 5, 6, 7, 1, 4, 1, 1, 4, 1, 6, 2, 5, 3, 3, 1, 7, 2, 7, 1, 2, 4, 1, 1, 2, 3, 5, 2, 4, 4, 7, 7, 1, 5, 6, 2, 2, 3, 1, 2, 4, 7, 2, 7, 2, 6, 2, 6, 6, 1, 5, 3, 7, 4, 5, 4, 6, 7, 7, 1, 2, 3, 4, 5, 7, 2, 3, 7, 2, 6, 6, 5, 7, 1, 3, 5, 4, 4, 2, 1, 4, 6, 2, 3, 5, 2, 3, 6, 2, 7, 2, 5, 1, 6, 1, 4, 2, 4, 5, 6, 3, 4, 5, 1, 3, 7, 6, 3, 5, 7, 1, 2, 1, 3, 5, 2, 1, 3, 4, 5, 7, 4, 3, 1, 2, 6, 7, 1, 6, 7, 7, 2, 3, 6, 7, 1, 5, 7, 3, 3, 7, 1, 5, 1, 2, 5, 1, 2, 2, 7, 2, 4, 5, 6, 2, 4, 7, 7, 1, 5, 7, 1, 4, 5, 4, 5, 6, 7, 1, 1, 6, 1, 2, 4, 1, 2, 4, 4, 2, 4, 1, 2, 7, 6, 6, 5, 3, 2, 3, 4, 6, 3, 1, 7, 5, 3, 1, 3, 4, 7, 4, 6, 4, 7, 5, 6, 1, 2, 4, 7, 1, 4, 7, 6, 2, 4, 5, 6, 1, 6, 4, 6, 1, 2, 4, 7, 1, 2, 4, 4, 1, 2, 3, 4, 5, 6, 7, 1, 2, 3, 6, 5, 4, 1, 2, 3, 5, 6, 4, 5, 5, 4, 7, 3, 2, 2, 3, 6, 1, 2, 3, 4, 5, 7, 3, 5, 1, 4, 2, 4, 6, 2, 2, 1, 4, 6, 1, 4, 5, 2, 5, 7, 2, 1, 5, 4, 7, 5, 4, 4, 3, 1, 4, 7, 3, 5, 2, 5, 5, 4, 6, 2, 4, 4, 1, 7, 1, 2, 3, 7, 2, 1], \"Freq\": [0.9591287919436514, 0.7777982195874267, 0.9565692124429083, 0.924566321466686, 0.9299217255923785, 0.8831931263143731, 0.9349828771563667, 0.8750746083245745, 0.1549821753388443, 0.7749108766942215, 0.8661904458438827, 0.7480253808363065, 0.21372153738180186, 0.8508260417935309, 0.9090500664223783, 0.8469901775027113, 0.8794197520534531, 0.923609315926482, 0.3191296803696787, 0.1367698630155766, 0.5014894977237808, 0.875201564703724, 0.9449750969225952, 0.11627403087099705, 0.8526762263873118, 0.6846464651812466, 0.2976723761657594, 0.8569604012232871, 0.10712005015291089, 0.9030781056851116, 0.8093093395083486, 0.08992325994537206, 0.07610180790180329, 0.9132216948216396, 0.9742010415268167, 0.8491997575276934, 0.34018445940478237, 0.0358088904636613, 0.5550378021867501, 0.05371333569549195, 0.1478106421513779, 0.3941617124036744, 0.44343192645413376, 0.8870316552919982, 0.13543702972985516, 0.812622178379131, 0.5293961457155237, 0.04464786771094779, 0.1594566703962421, 0.09567400223774525, 0.10843053586944462, 0.057404401342647154, 0.8115122353585056, 0.14754767915609193, 0.9437399565781499, 0.04966924893732248, 0.8443772319344822, 0.09933849787464497, 0.07125002748318117, 0.14250005496636234, 0.7837503023149929, 0.07591065293600285, 0.9109278352320342, 0.9540183927945718, 0.8232095395316515, 0.8771977153054301, 0.8882270226236425, 0.23619360038438156, 0.7873120012812719, 0.8512715362321333, 0.029869176709899414, 0.029869176709899414, 0.05973835341979883, 0.02240188253242456, 0.05614508121126385, 0.7298860557464301, 0.1965077842394235, 0.9047970707448753, 0.8026042018013941, 0.23371273130374753, 0.6543956476504931, 0.09348509252149902, 0.6541020191196378, 0.3522087795259588, 0.972488560428988, 0.037403406170345696, 0.9708708527951077, 0.09248487041562502, 0.18496974083125003, 0.6473940929093751, 0.7852964945505861, 0.8107159341872444, 0.1158165620267492, 0.8869198500084566, 0.9334115970645187, 0.26041293621968786, 0.5208258724393757, 0.06510323405492197, 0.13020646810984393, 0.21182077685402081, 0.47071283745337955, 0.18828513498135183, 0.14121385123601388, 0.3126239142494627, 0.5627230456490327, 0.12504956569978506, 0.9536784334724335, 0.8752159590573435, 0.7759865762231424, 0.8746575499664355, 0.8752288072646154, 0.09279877764911867, 0.8351889988420681, 0.8674204910660567, 0.04202673544805498, 0.2941871481363848, 0.3782406190324948, 0.12608020634416492, 0.1681069417922199, 0.9209899225401511, 0.8026905379687499, 0.8238715283994296, 0.874728117587511, 0.09441023155932463, 0.8496920840339216, 0.9410091732764323, 0.8747505249223662, 0.8432028154687566, 0.8240889012336641, 0.23814414961195937, 0.7144324488358781, 0.9421178492321007, 0.9459935669173419, 0.9589622205956587, 0.8152830013879204, 0.1630566002775841, 0.9009941794598064, 0.9081143649288738, 0.05341849205463964, 0.7987657219016949, 0.9690350462184767, 0.31363183929275684, 0.5645373107269622, 0.06272636785855136, 0.3027999733499634, 0.6055999466999268, 0.06055999466999268, 0.0702396266542705, 0.3160783199442172, 0.17559906663567623, 0.42143775992562293, 0.3105723728654071, 0.5364431894947942, 0.14116926039336689, 0.9682224952376319, 0.9336274722781436, 0.9884571557681014, 0.8964630680649158, 0.4745448908149459, 0.2847269344889675, 0.18981795632597834, 0.06327265210865946, 0.7988162671797373, 0.7768198736074953, 0.916085038430987, 0.9564462928897611, 0.980041805938505, 0.8910548730727033, 0.9752893616073305, 0.9054640062352143, 0.877146466815891, 0.7987796771224306, 0.9329746904281989, 0.9208703042417246, 0.656164610071359, 0.24174485634207962, 0.06906995895487988, 0.8310325542584497, 0.1780784044839535, 0.8919130273748272, 0.9392921336395439, 0.07948142949392265, 0.1589628589878453, 0.6358514359513812, 0.07948142949392265, 0.07948142949392265, 0.18412396056526575, 0.8285578225436959, 0.21143715840471297, 0.7752695808172809, 0.9093512443468617, 0.8252869705845874, 0.17497385307304164, 0.10498431184382498, 0.034994770614608324, 0.5249215592191249, 0.1399790824584333, 0.8954769867171448, 0.8695687820745188, 0.9691618297876503, 0.8685074049856185, 0.06680826192197066, 0.3738077052676895, 0.5980923284283033, 0.12825499893844958, 0.7054024941614727, 0.12825499893844958, 0.9344321727950398, 0.5854020815228685, 0.409781457066008, 0.060539675160757984, 0.24215870064303194, 0.4843174012860639, 0.18161902548227393, 0.9297791170208674, 0.20754302855412488, 0.06918100951804163, 0.6226290856623746, 0.9266628996128075, 0.6733622212339542, 0.29927209832620183, 0.9337590481071726, 0.6672409274355351, 0.09532013249079073, 0.19064026498158146, 0.8387700907558133, 0.9769811413779239, 0.8076115852489233, 0.04486731029160685, 0.0897346205832137, 0.9158155640114014, 0.05908487509750977, 0.25322713184141216, 0.7596813955242365, 0.23908871671496007, 0.5578736723349068, 0.15939247780997337, 0.3343087019281312, 0.6686174038562624, 0.8683253541851061, 0.8425859874571285, 0.12036942677958978, 0.9376535421610119, 0.8772029830531918, 0.25785266516905886, 0.7735579955071765, 0.9419290286308024, 0.9436838702930845, 0.22421072942596973, 0.6726321882779092, 0.7952762112193237, 0.9327024434139662, 0.24661786211676326, 0.027401984679640362, 0.7124516016706495, 0.9742441928549666, 0.12439674464274031, 0.12439674464274031, 0.49758697857096124, 0.18659511696411046, 0.055800886914901614, 0.9207146340958767, 0.8079767263824802, 0.20199418159562005, 0.8221455930636634, 0.9639343464455432, 0.3425311571835516, 0.5994295250712153, 0.8410831186672781, 0.8098304985584043, 0.08998116650648937, 0.7865379699708095, 0.9805608508566388, 0.8991074048866621, 0.9480787875695736, 0.4734069130674077, 0.4734069130674077, 0.975624783305093, 0.974559946879301, 0.23732912922106275, 0.7119873876631883, 0.8723231532543342, 0.9418598159746568, 0.9245693246949439, 0.9322862143809575, 0.8751981073142604, 0.16638347811021298, 0.7487256514959584, 0.9210496895681579, 0.8305367773263455, 0.9071019233318771, 0.9335373575423477, 0.3181520923593912, 0.08676875246165214, 0.02892291748721738, 0.17353750492330428, 0.02892291748721738, 0.3759979273338259, 0.8746928842401284, 0.34763943206418263, 0.6083690061123196, 0.7472541278591737, 0.12454235464319562, 0.825099804028227, 0.8908450464539502, 0.934200229963609, 0.18311253441962552, 0.8240064048883148, 0.9092338187507615, 0.9766358711826851, 0.8768117032873177, 0.9214624527071573, 0.8608689253089883, 0.12298127504414119, 0.7767761687215675, 0.8301631820868465, 0.07546938018971332, 0.9456791625866227, 0.9087344986514515, 0.1641308679514094, 0.820654339757047, 0.1290554801097681, 0.8388606207134928, 0.7953647719029846, 0.8027142939045896, 0.9220903346904904, 0.7777736108213379, 0.2662258106643828, 0.6845806559941271, 0.09269047267240682, 0.8033174298275257, 0.030896824224135606, 0.06179364844827121, 0.7999353639961193, 0.8366029730282715, 0.11951471043261021, 0.13697729525205402, 0.2191636724032864, 0.6300955581594485, 0.8239052481508123, 0.1499273542858496, 0.5997094171433984, 0.2248910314287744, 0.828444631115113, 0.10355557888938913, 0.2911645119804008, 0.4852741866340013, 0.19410967465360052, 0.8410806198166184, 0.29681172385876164, 0.11130439644703562, 0.018550732741172603, 0.4081161203057973, 0.16695659467055343, 0.9335600513723492, 0.9416931111137008, 0.14106237477234862, 0.2468591558516101, 0.3526559369308716, 0.28212474954469724, 0.24657148543346022, 0.7397144563003807, 0.8652911204742392, 0.9540468078642514, 0.8413146515494944, 0.9638663359982086, 0.03212887786660695, 0.016064438933303476, 0.13560846642110572, 0.7458465653160815, 0.06780423321055286, 0.8449274745380296, 0.9537937751526676, 0.0381517510061067, 0.9352600951402014, 0.9191713905844345, 0.018634980815035836, 0.11180988489021501, 0.8572091174916484, 0.10347012269296395, 0.8277609815437116, 0.8470466818588461, 0.9686943302829284, 0.7094314814985099, 0.13137620027750183, 0.10510096022200147, 0.05255048011100073, 0.7952251870316992, 0.39878057187889315, 0.5317074291718575, 0.9342454930393342, 0.036891764388430996, 0.922294109710775, 0.9342099083920652, 0.4636619923036419, 0.5100281915340061, 0.8461719843177631, 0.8797643731301337, 0.06767418254847182, 0.823980333871606, 0.8285623651361225, 0.9488974196484828, 0.8645537547360852, 0.7767500605957275, 0.23497943793161724, 0.23497943793161724, 0.5091221155185041, 0.5709771073694838, 0.15860475204707886, 0.25376760327532616, 0.9185879852355926, 0.1216873994081116, 0.8518117958567812, 0.20431892907974478, 0.7023463187116227, 0.08938953147238834, 0.825090831902485, 0.8238776675340966, 0.9471840397704911, 0.9046778081247242, 0.20934007787074957, 0.15351605710521635, 0.43263616093288243, 0.18142806748798296, 0.799906264421564, 0.10705793694331098, 0.8564634955464878, 0.9256202808634847, 0.7989010807170533, 0.14836373994605678, 0.07418186997302839, 0.6676368297572556, 0.07418186997302839, 0.29680252681791963, 0.5936050536358393, 0.9336074486554287, 0.9651014061287203, 0.11147441709559833, 0.7803209196691884, 0.5061308966952937, 0.11679943769891392, 0.23359887539782784, 0.1557325835985519, 0.15254889102890018, 0.6101955641156007, 0.15254889102890018, 0.8941444310541837, 0.955314509906606, 0.07823578197443859, 0.6258862557955087, 0.2347073459233158, 0.5699066788457539, 0.3799377858971692, 0.8125219633575992, 0.936353725006635, 0.6197340365230429, 0.12394680730460858, 0.24789361460921716, 0.8220227149209857, 0.888705345737524, 0.14050292401752634, 0.8430175441051581, 0.8127494093673941, 0.09591210556958978, 0.10230624594089575, 0.6905671601010464, 0.03197070185652993, 0.03836484222783591, 0.019182421113917957, 0.02557656148522394, 0.2568365061389914, 0.684897349703977, 0.18011615812228776, 0.7805033518632469, 0.9464908254257459, 0.9338757552533834, 0.9696576462485494, 0.8410436159863, 0.05343652202414587, 0.2137460880965835, 0.6946747863138963, 0.8784518257169491, 0.8453534018359662, 0.8754699518589498, 0.9533547493652059, 0.917427210925664, 0.9589683204960022, 0.886993941540763, 0.135446050164803, 0.8126763009888179, 0.03386151254120075, 0.14328808467756163, 0.16119909526225681, 0.14328808467756163, 0.17911010584695203, 0.10746606350817121, 0.26866515877042807, 0.9552544955936232, 0.9849377223649817, 0.2779335000609044, 0.6485115001421102, 0.7583730531219308, 0.06894300482926644, 0.1723575120731661, 0.7952452456277396, 0.8411412133562719, 0.9619942184426803, 0.7591302209444416, 0.23195645639969048, 0.8364943575158821, 0.11153258100211762, 0.9456586994620315, 0.12716174552313345, 0.12716174552313345, 0.6358087276156672, 0.7958265138241296, 0.2649487532542217, 0.6182137575931839, 0.9335953692840411, 0.9720549440334009, 0.8975650947080767, 0.8397131618186019, 0.9703432356575129, 0.9848708265076487, 0.8394884664770226, 0.9009946012747887, 0.8752723746041104, 0.9651922993578418, 0.9700099604496796, 0.7667436315876947, 0.19168590789692366, 0.8902485728537463, 0.1077217244190657, 0.8617737953525256, 0.8988593481270328, 0.09298544980624478, 0.8799669288520591, 0.7289365096559124, 0.2429788365519708, 0.07274198549434596, 0.32733893472455683, 0.4000809202189028, 0.1818549637358649, 0.9382684796923243, 0.9329380804382357], \"Term\": [\"31st\", \"accident\", \"account\", \"action\", \"activity\", \"adult\", \"alarm\", \"alumnus\", \"america\", \"america\", \"answer\", \"apartment\", \"apartment\", \"apple\", \"application\", \"april\", \"asshole\", \"assignment\", \"august\", \"august\", \"august\", \"baby\", \"bath\", \"bathroom\", \"bathroom\", \"bedroom\", \"bedroom\", \"book\", \"book\", \"boom\", \"boombox\", \"boombox\", \"break\", \"break\", \"bruh\", \"buff\", \"buffalo\", \"buffalo\", \"buffalo\", \"buffalo\", \"building\", \"building\", \"building\", \"bull\", \"camera\", \"camera\", \"campus\", \"campus\", \"campus\", \"campus\", \"campus\", \"campus\", \"capen\", \"capen\", \"capstone\", \"case\", \"case\", \"case\", \"center\", \"center\", \"center\", \"chair\", \"chair\", \"chance\", \"check\", \"chem\", \"choice\", \"city\", \"city\", \"class\", \"class\", \"class\", \"class\", \"class\", \"club\", \"club\", \"club\", \"code\", \"coffee\", \"college\", \"college\", \"college\", \"comment\", \"comment\", \"community\", \"community\", \"commuter\", \"computer\", \"computer\", \"computer\", \"concert\", \"content\", \"content\", \"cost\", \"country\", \"couple\", \"couple\", \"couple\", \"couple\", \"course\", \"course\", \"course\", \"course\", \"covid\", \"covid\", \"covid\", \"credit\", \"creekside\", \"culture\", \"curve\", \"damn\", \"date\", \"date\", \"davis\", \"day\", \"day\", \"day\", \"day\", \"day\", \"deadline\", \"deal\", \"debate\", \"decision\", \"degree\", \"degree\", \"delegate\", \"delivery\", \"department\", \"deposit\", \"desk\", \"desk\", \"didn\\\\'t\", \"difference\", \"dining\", \"downtown\", \"downtown\", \"dryer\", \"dude\", \"dude\", \"election\", \"electricity\", \"ellicott\", \"ellicott\", \"ellicott\", \"engineering\", \"engineering\", \"engineering\", \"event\", \"event\", \"event\", \"event\", \"exam\", \"exam\", \"exam\", \"experience\", \"eye\", \"fact\", \"falcon\", \"fall\", \"fall\", \"fall\", \"fall\", \"falls\", \"fargo\", \"fee\", \"feeling\", \"fest\", \"file\", \"final\", \"fire\", \"fitness\", \"flag\", \"flame\", \"flint\", \"floor\", \"floor\", \"floor\", \"food\", \"food\", \"football\", \"form\", \"forum\", \"forum\", \"forum\", \"forum\", \"forum\", \"freedom\", \"freedom\", \"freshman\", \"freshman\", \"friday\", \"fridge\", \"friend\", \"friend\", \"friend\", \"friend\", \"friend\", \"game\", \"gender\", \"girl\", \"goose\", \"goose\", \"grade\", \"grade\", \"graduation\", \"graduation\", \"graduation\", \"greiner\", \"group\", \"group\", \"guy\", \"guy\", \"guy\", \"guy\", \"hate\", \"health\", \"health\", \"health\", \"hell\", \"help\", \"help\", \"hole\", \"home\", \"home\", \"home\", \"homework\", \"hong\", \"hour\", \"hour\", \"hour\", \"house\", \"house\", \"housing\", \"housing\", \"idea\", \"idea\", \"idea\", \"issue\", \"issue\", \"joke\", \"july\", \"july\", \"kitchen\", \"knowledge\", \"knox\", \"knox\", \"kong\", \"krabs\", \"lake\", \"lake\", \"language\", \"leadership\", \"lease\", \"lease\", \"lease\", \"lecture\", \"library\", \"library\", \"library\", \"library\", \"life\", \"life\", \"line\", \"line\", \"list\", \"living\", \"lmao\", \"lmao\", \"lock\", \"lockwood\", \"lockwood\", \"look\", \"lounge\", \"love\", \"luck\", \"major\", \"major\", \"mask\", \"material\", \"math\", \"math\", \"meal\", \"meeting\", \"member\", \"meme\", \"memory\", \"message\", \"message\", \"midterm\", \"min\", \"mind\", \"minecraft\", \"minute\", \"minute\", \"minute\", \"minute\", \"minute\", \"minute\", \"mistake\", \"money\", \"money\", \"month\", \"month\", \"mood\", \"morning\", \"mortality\", \"music\", \"music\", \"name\", \"need\", \"news\", \"night\", \"north\", \"north\", \"northeastern\", \"office\", \"office\", \"officer\", \"one\", \"opinion\", \"opinion\", \"option\", \"option\", \"order\", \"organization\", \"pain\", \"paltz\", \"parking\", \"parking\", \"party\", \"party\", \"party\", \"party\", \"pathway\", \"peace\", \"peace\", \"person\", \"person\", \"person\", \"perspective\", \"phone\", \"phone\", \"phone\", \"photo\", \"photo\", \"picture\", \"picture\", \"picture\", \"piece\", \"place\", \"place\", \"place\", \"place\", \"place\", \"plane\", \"platform\", \"point\", \"point\", \"point\", \"point\", \"police\", \"police\", \"policy\", \"population\", \"position\", \"post\", \"post\", \"post\", \"poster\", \"poster\", \"poster\", \"president\", \"problem\", \"problem\", \"product\", \"prof\", \"professor\", \"professor\", \"professor\", \"project\", \"project\", \"purpose\", \"pyramid\", \"question\", \"question\", \"question\", \"question\", \"quiz\", \"rate\", \"rate\", \"reality\", \"reddit\", \"reddit\", \"religion\", \"rent\", \"rent\", \"request\", \"rest\", \"rest\", \"restaurant\", \"return\", \"right\", \"risk\", \"robotics\", \"room\", \"room\", \"room\", \"roommate\", \"roommate\", \"roommate\", \"rule\", \"schedule\", \"schedule\", \"school\", \"school\", \"school\", \"science\", \"sciences\", \"sea\", \"section\", \"semester\", \"semester\", \"semester\", \"semester\", \"senior\", \"service\", \"service\", \"shirt\", \"shot\", \"shuttle\", \"shuttle\", \"shuttle\", \"shuttle\", \"situation\", \"situation\", \"sleep\", \"snow\", \"sophomore\", \"sophomore\", \"south\", \"south\", \"south\", \"south\", \"space\", \"space\", \"space\", \"speaker\", \"speech\", \"spot\", \"spot\", \"spot\", \"spring\", \"spring\", \"stampede\", \"stat\", \"state\", \"state\", \"state\", \"stem\", \"stop\", \"store\", \"store\", \"story\", \"student\", \"student\", \"student\", \"student\", \"student\", \"student\", \"student\", \"study\", \"study\", \"stuff\", \"stuff\", \"subreddit\", \"summer\", \"suny\", \"super\", \"survey\", \"survey\", \"survey\", \"sweethome\", \"syllabus\", \"system\", \"teacher\", \"term\", \"test\", \"textbook\", \"thank\", \"thank\", \"thank\", \"thing\", \"thing\", \"thing\", \"thing\", \"thing\", \"thing\", \"thought\", \"ticket\", \"time\", \"time\", \"today\", \"today\", \"today\", \"train\", \"trouble\", \"ubreddit\", \"university\", \"university\", \"utility\", \"utility\", \"uubnf\", \"vaccine\", \"vaccine\", \"vaccine\", \"value\", \"vegan\", \"vegan\", \"venu\", \"view\", \"viewform?usp\", \"villas\", \"virus\", \"vote\", \"war\", \"washer\", \"waste\", \"way\", \"website\", \"week\", \"week\", \"weekend\", \"window\", \"window\", \"work\", \"work\", \"workload\", \"world\", \"world\", \"year\", \"year\", \"year\", \"year\", \"yesterday\", \"zoom\"]}, \"R\": 30, \"lambda.step\": 0.01, \"plot.opts\": {\"xlab\": \"PC1\", \"ylab\": \"PC2\"}, \"topic.order\": [6, 2, 3, 1, 5, 4, 7]};\n",
       "\n",
       "function LDAvis_load_lib(url, callback){\n",
       "  var s = document.createElement('script');\n",
       "  s.src = url;\n",
       "  s.async = true;\n",
       "  s.onreadystatechange = s.onload = callback;\n",
       "  s.onerror = function(){console.warn(\"failed to load library \" + url);};\n",
       "  document.getElementsByTagName(\"head\")[0].appendChild(s);\n",
       "}\n",
       "\n",
       "if(typeof(LDAvis) !== \"undefined\"){\n",
       "   // already loaded: just create the visualization\n",
       "   !function(LDAvis){\n",
       "       new LDAvis(\"#\" + \"ldavis_el20841406513564235527852837958\", ldavis_el20841406513564235527852837958_data);\n",
       "   }(LDAvis);\n",
       "}else if(typeof define === \"function\" && define.amd){\n",
       "   // require.js is available: use it to load d3/LDAvis\n",
       "   require.config({paths: {d3: \"https://d3js.org/d3.v5\"}});\n",
       "   require([\"d3\"], function(d3){\n",
       "      window.d3 = d3;\n",
       "      LDAvis_load_lib(\"https://cdn.jsdelivr.net/gh/bmabey/pyLDAvis@3.3.1/pyLDAvis/js/ldavis.v3.0.0.js\", function(){\n",
       "        new LDAvis(\"#\" + \"ldavis_el20841406513564235527852837958\", ldavis_el20841406513564235527852837958_data);\n",
       "      });\n",
       "    });\n",
       "}else{\n",
       "    // require.js not available: dynamically load d3 & LDAvis\n",
       "    LDAvis_load_lib(\"https://d3js.org/d3.v5.js\", function(){\n",
       "         LDAvis_load_lib(\"https://cdn.jsdelivr.net/gh/bmabey/pyLDAvis@3.3.1/pyLDAvis/js/ldavis.v3.0.0.js\", function(){\n",
       "                 new LDAvis(\"#\" + \"ldavis_el20841406513564235527852837958\", ldavis_el20841406513564235527852837958_data);\n",
       "            })\n",
       "         });\n",
       "}\n",
       "</script>"
      ],
      "text/plain": [
       "<IPython.core.display.HTML object>"
      ]
     },
     "execution_count": 42,
     "metadata": {},
     "output_type": "execute_result"
    }
   ],
   "source": [
    "ldamodel_nouns_f = gensim.models.ldamodel.LdaModel(corpus=corpus,\n",
    "                                           id2word=dictionary,\n",
    "                                           num_topics=num_topics_opt, \n",
    "                                           random_state=random_state,\n",
    "                                           passes=passes)\n",
    "\n",
    "ldamodel_nouns_f.save('../topic_modeling/model5_nouns_f.gensim')\n",
    "\n",
    "topics_nouns_f = ldamodel_nouns_f.print_topics(num_words=num_words)\n",
    "for topic in topics_nouns_f:\n",
    "    print(topic)\n",
    "\n",
    "lda_nouns_display_f = gensim_models.prepare(ldamodel_nouns_f, corpus, dictionary, sort_topics=True)\n",
    "vis = pyLDAvis.display(lda_nouns_display_f)\n",
    "vis"
   ]
  },
  {
   "cell_type": "markdown",
   "id": "098707d9",
   "metadata": {},
   "source": [
    "#### Save the visualisation"
   ]
  },
  {
   "cell_type": "code",
   "execution_count": 43,
   "id": "5add3501",
   "metadata": {},
   "outputs": [],
   "source": [
    "pyLDAvis.save_html(lda_nouns_display_f, '../topic_modeling/reddit_topic_modeling.html')"
   ]
  }
 ],
 "metadata": {
  "kernelspec": {
   "display_name": "ub_social",
   "language": "python",
   "name": "ub_social"
  },
  "language_info": {
   "codemirror_mode": {
    "name": "ipython",
    "version": 3
   },
   "file_extension": ".py",
   "mimetype": "text/x-python",
   "name": "python",
   "nbconvert_exporter": "python",
   "pygments_lexer": "ipython3",
   "version": "3.8.0"
  }
 },
 "nbformat": 4,
 "nbformat_minor": 5
}
