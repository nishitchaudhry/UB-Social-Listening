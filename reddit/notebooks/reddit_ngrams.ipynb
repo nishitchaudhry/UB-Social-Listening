{
 "cells": [
  {
   "cell_type": "markdown",
   "id": "6ca1f9ac",
   "metadata": {},
   "source": [
    "# Reddit N-grams"
   ]
  },
  {
   "cell_type": "markdown",
   "id": "2c725ace",
   "metadata": {},
   "source": [
    "#### Importing libraries"
   ]
  },
  {
   "cell_type": "code",
   "execution_count": 1,
   "id": "8e7009b6",
   "metadata": {},
   "outputs": [],
   "source": [
    "import pandas as pd\n",
    "import numpy as np\n",
    "from nltk import ngrams\n",
    "import spacy\n",
    "import collections"
   ]
  },
  {
   "cell_type": "code",
   "execution_count": 2,
   "id": "d740ff92",
   "metadata": {},
   "outputs": [],
   "source": [
    "nlp = spacy.load('en_core_web_lg')"
   ]
  },
  {
   "cell_type": "markdown",
   "id": "eac36b50",
   "metadata": {},
   "source": [
    "#### Reading reddit dataset"
   ]
  },
  {
   "cell_type": "code",
   "execution_count": 3,
   "id": "02433028",
   "metadata": {},
   "outputs": [
    {
     "data": {
      "text/html": [
       "<div>\n",
       "<style scoped>\n",
       "    .dataframe tbody tr th:only-of-type {\n",
       "        vertical-align: middle;\n",
       "    }\n",
       "\n",
       "    .dataframe tbody tr th {\n",
       "        vertical-align: top;\n",
       "    }\n",
       "\n",
       "    .dataframe thead th {\n",
       "        text-align: right;\n",
       "    }\n",
       "</style>\n",
       "<table border=\"1\" class=\"dataframe\">\n",
       "  <thead>\n",
       "    <tr style=\"text-align: right;\">\n",
       "      <th></th>\n",
       "      <th>id</th>\n",
       "      <th>title</th>\n",
       "      <th>score</th>\n",
       "      <th>comms_num</th>\n",
       "      <th>comments</th>\n",
       "      <th>search_topic</th>\n",
       "      <th>body</th>\n",
       "      <th>date</th>\n",
       "    </tr>\n",
       "  </thead>\n",
       "  <tbody>\n",
       "    <tr>\n",
       "      <th>1</th>\n",
       "      <td>imkf0n</td>\n",
       "      <td>UBIT is safe</td>\n",
       "      <td>518</td>\n",
       "      <td>7</td>\n",
       "      <td>['This made my day, thank you', 'COVID-19: *”g...</td>\n",
       "      <td>UBreddit</td>\n",
       "      <td>NaN</td>\n",
       "      <td>2020-09-04 17:34:30</td>\n",
       "    </tr>\n",
       "    <tr>\n",
       "      <th>2</th>\n",
       "      <td>ijhhd5</td>\n",
       "      <td>WEEK ONE!!! REMEMBER TO WEAR YOUR MASKS AND PO...</td>\n",
       "      <td>472</td>\n",
       "      <td>16</td>\n",
       "      <td>['It’s not a new school week until Mr Krabs sa...</td>\n",
       "      <td>UBreddit</td>\n",
       "      <td>NaN</td>\n",
       "      <td>2020-08-30 18:17:02</td>\n",
       "    </tr>\n",
       "    <tr>\n",
       "      <th>3</th>\n",
       "      <td>f8019t</td>\n",
       "      <td>What the last 2 minutes of lecture looks like ...</td>\n",
       "      <td>472</td>\n",
       "      <td>21</td>\n",
       "      <td>['my dude how long did this take lol', 'Is tha...</td>\n",
       "      <td>UBreddit</td>\n",
       "      <td>NaN</td>\n",
       "      <td>2020-02-22 22:30:28</td>\n",
       "    </tr>\n",
       "    <tr>\n",
       "      <th>4</th>\n",
       "      <td>dzmrbc</td>\n",
       "      <td>The SU Bull today</td>\n",
       "      <td>444</td>\n",
       "      <td>45</td>\n",
       "      <td>['FYI: Do not malign Chinese students holding ...</td>\n",
       "      <td>UBreddit</td>\n",
       "      <td>NaN</td>\n",
       "      <td>2019-11-21 17:35:56</td>\n",
       "    </tr>\n",
       "    <tr>\n",
       "      <th>5</th>\n",
       "      <td>ex5bsz</td>\n",
       "      <td>Logging into MyUB be like.</td>\n",
       "      <td>442</td>\n",
       "      <td>27</td>\n",
       "      <td>[\"Since this semester started, it's been havin...</td>\n",
       "      <td>UBreddit</td>\n",
       "      <td>NaN</td>\n",
       "      <td>2020-02-01 12:15:53</td>\n",
       "    </tr>\n",
       "  </tbody>\n",
       "</table>\n",
       "</div>"
      ],
      "text/plain": [
       "       id                                              title  score  \\\n",
       "1  imkf0n                                       UBIT is safe    518   \n",
       "2  ijhhd5  WEEK ONE!!! REMEMBER TO WEAR YOUR MASKS AND PO...    472   \n",
       "3  f8019t  What the last 2 minutes of lecture looks like ...    472   \n",
       "4  dzmrbc                                  The SU Bull today    444   \n",
       "5  ex5bsz                         Logging into MyUB be like.    442   \n",
       "\n",
       "   comms_num                                           comments search_topic  \\\n",
       "1          7  ['This made my day, thank you', 'COVID-19: *”g...     UBreddit   \n",
       "2         16  ['It’s not a new school week until Mr Krabs sa...     UBreddit   \n",
       "3         21  ['my dude how long did this take lol', 'Is tha...     UBreddit   \n",
       "4         45  ['FYI: Do not malign Chinese students holding ...     UBreddit   \n",
       "5         27  [\"Since this semester started, it's been havin...     UBreddit   \n",
       "\n",
       "  body                 date  \n",
       "1  NaN  2020-09-04 17:34:30  \n",
       "2  NaN  2020-08-30 18:17:02  \n",
       "3  NaN  2020-02-22 22:30:28  \n",
       "4  NaN  2019-11-21 17:35:56  \n",
       "5  NaN  2020-02-01 12:15:53  "
      ]
     },
     "execution_count": 3,
     "metadata": {},
     "output_type": "execute_result"
    }
   ],
   "source": [
    "df = pd.read_csv('../data/all/reddit_data_all.csv', index_col=0)\n",
    "df.drop(0, axis=0, inplace=True)\n",
    "df.head()"
   ]
  },
  {
   "cell_type": "code",
   "execution_count": 4,
   "id": "9f7dcc7f",
   "metadata": {},
   "outputs": [
    {
     "name": "stdout",
     "output_type": "stream",
     "text": [
      "<class 'pandas.core.frame.DataFrame'>\n",
      "Int64Index: 316 entries, 1 to 412\n",
      "Data columns (total 8 columns):\n",
      " #   Column        Non-Null Count  Dtype \n",
      "---  ------        --------------  ----- \n",
      " 0   id            316 non-null    object\n",
      " 1   title         316 non-null    object\n",
      " 2   score         316 non-null    int64 \n",
      " 3   comms_num     316 non-null    int64 \n",
      " 4   comments      316 non-null    object\n",
      " 5   search_topic  316 non-null    object\n",
      " 6   body          138 non-null    object\n",
      " 7   date          316 non-null    object\n",
      "dtypes: int64(2), object(6)\n",
      "memory usage: 22.2+ KB\n"
     ]
    }
   ],
   "source": [
    "df.info()"
   ]
  },
  {
   "cell_type": "markdown",
   "id": "ddecb722",
   "metadata": {},
   "source": [
    "#### Checking for reddit posting year from date column"
   ]
  },
  {
   "cell_type": "code",
   "execution_count": 5,
   "id": "71ec53be",
   "metadata": {},
   "outputs": [],
   "source": [
    "years={}\n",
    "for date in df['date']:\n",
    "    year = date.split(' ')[0].split('-')[0]\n",
    "    month = date.split(' ')[0].split('-')[1]\n",
    "    day = date.split(' ')[0].split('-')[2]\n",
    "    if year in years.keys():\n",
    "        years[year]=years[year]+1\n",
    "    else:\n",
    "        years[year]=1"
   ]
  },
  {
   "cell_type": "code",
   "execution_count": 6,
   "id": "45fb9f2e",
   "metadata": {},
   "outputs": [
    {
     "data": {
      "text/plain": [
       "{'2020': 74,\n",
       " '2019': 26,\n",
       " '2022': 126,\n",
       " '2021': 48,\n",
       " '2018': 22,\n",
       " '2017': 5,\n",
       " '2014': 5,\n",
       " '2016': 2,\n",
       " '2015': 5,\n",
       " '2012': 1,\n",
       " '2013': 2}"
      ]
     },
     "execution_count": 6,
     "metadata": {},
     "output_type": "execute_result"
    }
   ],
   "source": [
    "years"
   ]
  },
  {
   "cell_type": "markdown",
   "id": "fb60a7dd",
   "metadata": {},
   "source": [
    "#### Combining comments, titles and body into one dataframe"
   ]
  },
  {
   "cell_type": "code",
   "execution_count": 7,
   "id": "8b8049aa",
   "metadata": {},
   "outputs": [],
   "source": [
    "df2 = df[['title','comments','body']]"
   ]
  },
  {
   "cell_type": "code",
   "execution_count": 8,
   "id": "ca726964",
   "metadata": {},
   "outputs": [
    {
     "data": {
      "text/plain": [
       "title         0\n",
       "comments      0\n",
       "body        178\n",
       "dtype: int64"
      ]
     },
     "execution_count": 8,
     "metadata": {},
     "output_type": "execute_result"
    }
   ],
   "source": [
    "df2.isna().sum()"
   ]
  },
  {
   "cell_type": "code",
   "execution_count": 9,
   "id": "419ac5e0",
   "metadata": {},
   "outputs": [
    {
     "data": {
      "text/plain": [
       "\"['This made my day, thank you', 'COVID-19: *”goddamn it I just verified an hour ago”*', '*Set to remind me in seven days.*', 'Alright this is some actual hilarious content, thanks.', 'Really don’t think it works that way... but thanks for the chuckle.']\""
      ]
     },
     "execution_count": 9,
     "metadata": {},
     "output_type": "execute_result"
    }
   ],
   "source": [
    "df2['comments'][1]"
   ]
  },
  {
   "cell_type": "code",
   "execution_count": 10,
   "id": "efb0df37",
   "metadata": {},
   "outputs": [],
   "source": [
    "rows = [row.split(\"\\', \\'\") for row in df2.comments]"
   ]
  },
  {
   "cell_type": "code",
   "execution_count": 11,
   "id": "3da52d1f",
   "metadata": {},
   "outputs": [
    {
     "data": {
      "text/plain": [
       "1521"
      ]
     },
     "execution_count": 11,
     "metadata": {},
     "output_type": "execute_result"
    }
   ],
   "source": [
    "comments = pd.Series([line for row in rows for line in row if line != '[]'])\n",
    "len(comments)"
   ]
  },
  {
   "cell_type": "code",
   "execution_count": 12,
   "id": "cdc2d06e",
   "metadata": {},
   "outputs": [
    {
     "data": {
      "text/plain": [
       "138"
      ]
     },
     "execution_count": 12,
     "metadata": {},
     "output_type": "execute_result"
    }
   ],
   "source": [
    "body = df.body.dropna()\n",
    "len(body)"
   ]
  },
  {
   "cell_type": "code",
   "execution_count": 13,
   "id": "a1abe96c",
   "metadata": {},
   "outputs": [],
   "source": [
    "titles = pd.Series(df.title)"
   ]
  },
  {
   "cell_type": "code",
   "execution_count": 14,
   "id": "3491e63a",
   "metadata": {},
   "outputs": [
    {
     "data": {
      "text/plain": [
       "1                                           UBIT is safe\n",
       "2      WEEK ONE!!! REMEMBER TO WEAR YOUR MASKS AND PO...\n",
       "3      What the last 2 minutes of lecture looks like ...\n",
       "4                                      The SU Bull today\n",
       "5                             Logging into MyUB be like.\n",
       "                             ...                        \n",
       "408    University at Buffalo | Niagara University | M...\n",
       "409                             Class with Zoe Hamstead?\n",
       "410                                 lets revive this sub\n",
       "411                        University At Buffalo! (SUNY)\n",
       "412                                               HELLO!\n",
       "Name: title, Length: 316, dtype: object"
      ]
     },
     "execution_count": 14,
     "metadata": {},
     "output_type": "execute_result"
    }
   ],
   "source": [
    "titles"
   ]
  },
  {
   "cell_type": "code",
   "execution_count": 15,
   "id": "c8899ff8",
   "metadata": {},
   "outputs": [
    {
     "data": {
      "text/plain": [
       "17     CCP trolls have infiltrated UBReddit and are d...\n",
       "29     Hey everyone, I’m a grad student and a TA at U...\n",
       "99         That was an absolute blowout! Let's go Bulls!\n",
       "100    The current one is archived for the time being...\n",
       "101    As we near the second half of the semester, it...\n",
       "                             ...                        \n",
       "407    Hi, I have Clyde Herreid for Bio 200 and Gersh...\n",
       "409    Hey has anyone taken END302 Sustainable Urban ...\n",
       "410    I know what you are all saying; this sub isn't...\n",
       "411    Wohoo!! Lets go class of 2018!\\n\\nThis subredd...\n",
       "412                        Looking forward to attend UB!\n",
       "Name: body, Length: 138, dtype: object"
      ]
     },
     "execution_count": 15,
     "metadata": {},
     "output_type": "execute_result"
    }
   ],
   "source": [
    "body"
   ]
  },
  {
   "cell_type": "code",
   "execution_count": 16,
   "id": "91a97fe0",
   "metadata": {},
   "outputs": [
    {
     "data": {
      "text/plain": [
       "0                           ['This made my day, thank you\n",
       "1       COVID-19: *”goddamn it I just verified an hour...\n",
       "2                       *Set to remind me in seven days.*\n",
       "3       Alright this is some actual hilarious content,...\n",
       "4       Really don’t think it works that way... but th...\n",
       "                              ...                        \n",
       "1516                                                ['Sup\n",
       "1517                                     Honestly a lot']\n",
       "1518                                        ['[deleted]']\n",
       "1519    ['Just hang out on /r/SUNYBuffalo instead.\\n\\n...\n",
       "1520    [\"That's because everyone is at /r/ubreddit\\n\\...\n",
       "Length: 1521, dtype: object"
      ]
     },
     "execution_count": 16,
     "metadata": {},
     "output_type": "execute_result"
    }
   ],
   "source": [
    "comments"
   ]
  },
  {
   "cell_type": "code",
   "execution_count": 17,
   "id": "ba4427b2",
   "metadata": {},
   "outputs": [],
   "source": [
    "combined = pd.concat([titles, body, comments])"
   ]
  },
  {
   "cell_type": "code",
   "execution_count": 18,
   "id": "652e78e2",
   "metadata": {},
   "outputs": [],
   "source": [
    "combined_df = pd.DataFrame(combined)\n",
    "combined_df = combined_df.rename(columns={0:'Text'})\n",
    "combined_df.reset_index(drop=True, inplace=True)"
   ]
  },
  {
   "cell_type": "code",
   "execution_count": 19,
   "id": "175ff57e",
   "metadata": {},
   "outputs": [
    {
     "data": {
      "text/html": [
       "<div>\n",
       "<style scoped>\n",
       "    .dataframe tbody tr th:only-of-type {\n",
       "        vertical-align: middle;\n",
       "    }\n",
       "\n",
       "    .dataframe tbody tr th {\n",
       "        vertical-align: top;\n",
       "    }\n",
       "\n",
       "    .dataframe thead th {\n",
       "        text-align: right;\n",
       "    }\n",
       "</style>\n",
       "<table border=\"1\" class=\"dataframe\">\n",
       "  <thead>\n",
       "    <tr style=\"text-align: right;\">\n",
       "      <th></th>\n",
       "      <th>Text</th>\n",
       "    </tr>\n",
       "  </thead>\n",
       "  <tbody>\n",
       "    <tr>\n",
       "      <th>0</th>\n",
       "      <td>UBIT is safe</td>\n",
       "    </tr>\n",
       "    <tr>\n",
       "      <th>1</th>\n",
       "      <td>WEEK ONE!!! REMEMBER TO WEAR YOUR MASKS AND PO...</td>\n",
       "    </tr>\n",
       "    <tr>\n",
       "      <th>2</th>\n",
       "      <td>What the last 2 minutes of lecture looks like ...</td>\n",
       "    </tr>\n",
       "    <tr>\n",
       "      <th>3</th>\n",
       "      <td>The SU Bull today</td>\n",
       "    </tr>\n",
       "    <tr>\n",
       "      <th>4</th>\n",
       "      <td>Logging into MyUB be like.</td>\n",
       "    </tr>\n",
       "    <tr>\n",
       "      <th>...</th>\n",
       "      <td>...</td>\n",
       "    </tr>\n",
       "    <tr>\n",
       "      <th>1970</th>\n",
       "      <td>['Sup</td>\n",
       "    </tr>\n",
       "    <tr>\n",
       "      <th>1971</th>\n",
       "      <td>Honestly a lot']</td>\n",
       "    </tr>\n",
       "    <tr>\n",
       "      <th>1972</th>\n",
       "      <td>['[deleted]']</td>\n",
       "    </tr>\n",
       "    <tr>\n",
       "      <th>1973</th>\n",
       "      <td>['Just hang out on /r/SUNYBuffalo instead.\\n\\n...</td>\n",
       "    </tr>\n",
       "    <tr>\n",
       "      <th>1974</th>\n",
       "      <td>[\"That's because everyone is at /r/ubreddit\\n\\...</td>\n",
       "    </tr>\n",
       "  </tbody>\n",
       "</table>\n",
       "<p>1975 rows × 1 columns</p>\n",
       "</div>"
      ],
      "text/plain": [
       "                                                   Text\n",
       "0                                          UBIT is safe\n",
       "1     WEEK ONE!!! REMEMBER TO WEAR YOUR MASKS AND PO...\n",
       "2     What the last 2 minutes of lecture looks like ...\n",
       "3                                     The SU Bull today\n",
       "4                            Logging into MyUB be like.\n",
       "...                                                 ...\n",
       "1970                                              ['Sup\n",
       "1971                                   Honestly a lot']\n",
       "1972                                      ['[deleted]']\n",
       "1973  ['Just hang out on /r/SUNYBuffalo instead.\\n\\n...\n",
       "1974  [\"That's because everyone is at /r/ubreddit\\n\\...\n",
       "\n",
       "[1975 rows x 1 columns]"
      ]
     },
     "execution_count": 19,
     "metadata": {},
     "output_type": "execute_result"
    }
   ],
   "source": [
    "combined_df"
   ]
  },
  {
   "cell_type": "markdown",
   "id": "9dde23bf",
   "metadata": {},
   "source": [
    "#### Cleaning data for ngram generation"
   ]
  },
  {
   "cell_type": "code",
   "execution_count": 20,
   "id": "8c03393c",
   "metadata": {},
   "outputs": [],
   "source": [
    "def data_cleaner(row, part):\n",
    "    words = row.split(' ')\n",
    "    cleaning = [word.strip('@#\"*%^();><?][{}]:.&,\\'') for word in words if word.startswith(('\\nhttps', 'htt'))==False]\n",
    "    row = ' '.join(cleaning)\n",
    "    \n",
    "    doc = nlp(row)\n",
    "    output = [(token.lemma_).lower() for token in doc if token.is_stop == False and token.is_punct==False and token.is_space==False and token.pos_ in part and token.is_digit==False and len(token)>3]\n",
    "    return output"
   ]
  },
  {
   "cell_type": "code",
   "execution_count": 21,
   "id": "443aeded",
   "metadata": {},
   "outputs": [
    {
     "data": {
      "text/html": [
       "<div>\n",
       "<style scoped>\n",
       "    .dataframe tbody tr th:only-of-type {\n",
       "        vertical-align: middle;\n",
       "    }\n",
       "\n",
       "    .dataframe tbody tr th {\n",
       "        vertical-align: top;\n",
       "    }\n",
       "\n",
       "    .dataframe thead th {\n",
       "        text-align: right;\n",
       "    }\n",
       "</style>\n",
       "<table border=\"1\" class=\"dataframe\">\n",
       "  <thead>\n",
       "    <tr style=\"text-align: right;\">\n",
       "      <th></th>\n",
       "      <th>Text</th>\n",
       "      <th>Cleaned</th>\n",
       "    </tr>\n",
       "  </thead>\n",
       "  <tbody>\n",
       "    <tr>\n",
       "      <th>0</th>\n",
       "      <td>UBIT is safe</td>\n",
       "      <td>ubit safe</td>\n",
       "    </tr>\n",
       "    <tr>\n",
       "      <th>1</th>\n",
       "      <td>WEEK ONE!!! REMEMBER TO WEAR YOUR MASKS AND PO...</td>\n",
       "      <td>week mask post speedruns daily health check week</td>\n",
       "    </tr>\n",
       "    <tr>\n",
       "      <th>2</th>\n",
       "      <td>What the last 2 minutes of lecture looks like ...</td>\n",
       "      <td>minute lecture professor</td>\n",
       "    </tr>\n",
       "    <tr>\n",
       "      <th>3</th>\n",
       "      <td>The SU Bull today</td>\n",
       "      <td>bull today</td>\n",
       "    </tr>\n",
       "    <tr>\n",
       "      <th>4</th>\n",
       "      <td>Logging into MyUB be like.</td>\n",
       "      <td>myub</td>\n",
       "    </tr>\n",
       "    <tr>\n",
       "      <th>...</th>\n",
       "      <td>...</td>\n",
       "      <td>...</td>\n",
       "    </tr>\n",
       "    <tr>\n",
       "      <th>1970</th>\n",
       "      <td>['Sup</td>\n",
       "      <td></td>\n",
       "    </tr>\n",
       "    <tr>\n",
       "      <th>1971</th>\n",
       "      <td>Honestly a lot']</td>\n",
       "      <td></td>\n",
       "    </tr>\n",
       "    <tr>\n",
       "      <th>1972</th>\n",
       "      <td>['[deleted]']</td>\n",
       "      <td></td>\n",
       "    </tr>\n",
       "    <tr>\n",
       "      <th>1973</th>\n",
       "      <td>['Just hang out on /r/SUNYBuffalo instead.\\n\\n...</td>\n",
       "      <td>instead.\\n\\nor suny</td>\n",
       "    </tr>\n",
       "    <tr>\n",
       "      <th>1974</th>\n",
       "      <td>[\"That's because everyone is at /r/ubreddit\\n\\...</td>\n",
       "      <td>ubreddit\\n\\nthere list buffalo area college su...</td>\n",
       "    </tr>\n",
       "  </tbody>\n",
       "</table>\n",
       "<p>1975 rows × 2 columns</p>\n",
       "</div>"
      ],
      "text/plain": [
       "                                                   Text  \\\n",
       "0                                          UBIT is safe   \n",
       "1     WEEK ONE!!! REMEMBER TO WEAR YOUR MASKS AND PO...   \n",
       "2     What the last 2 minutes of lecture looks like ...   \n",
       "3                                     The SU Bull today   \n",
       "4                            Logging into MyUB be like.   \n",
       "...                                                 ...   \n",
       "1970                                              ['Sup   \n",
       "1971                                   Honestly a lot']   \n",
       "1972                                      ['[deleted]']   \n",
       "1973  ['Just hang out on /r/SUNYBuffalo instead.\\n\\n...   \n",
       "1974  [\"That's because everyone is at /r/ubreddit\\n\\...   \n",
       "\n",
       "                                                Cleaned  \n",
       "0                                             ubit safe  \n",
       "1      week mask post speedruns daily health check week  \n",
       "2                              minute lecture professor  \n",
       "3                                            bull today  \n",
       "4                                                  myub  \n",
       "...                                                 ...  \n",
       "1970                                                     \n",
       "1971                                                     \n",
       "1972                                                     \n",
       "1973                                instead.\\n\\nor suny  \n",
       "1974  ubreddit\\n\\nthere list buffalo area college su...  \n",
       "\n",
       "[1975 rows x 2 columns]"
      ]
     },
     "execution_count": 21,
     "metadata": {},
     "output_type": "execute_result"
    }
   ],
   "source": [
    "combined_df['Cleaned'] = combined_df['Text'].apply(lambda x: ' '.join(data_cleaner(x, ['NOUN', 'PROPN', 'ADJ'])))\n",
    "combined_df"
   ]
  },
  {
   "cell_type": "markdown",
   "id": "27e16ca0",
   "metadata": {},
   "source": [
    "#### Creating ngrams columns in the dataframe"
   ]
  },
  {
   "cell_type": "code",
   "execution_count": 22,
   "id": "fd0e9b71",
   "metadata": {},
   "outputs": [],
   "source": [
    "def generate_ngrams(df, n, text_column, column_name):\n",
    "    def row_ngrams(text, n):\n",
    "        tokenize = text.split()\n",
    "        esgrams = ngrams(tokenize, n)\n",
    "        ans = collections.Counter(esgrams)\n",
    "        return ans\n",
    "    df[column_name] = df[text_column].apply(lambda x: row_ngrams(x,n))"
   ]
  },
  {
   "cell_type": "code",
   "execution_count": 23,
   "id": "1ee9a746",
   "metadata": {},
   "outputs": [],
   "source": [
    "generate_ngrams(combined_df, 2, 'Cleaned', 'Bigrams')\n",
    "generate_ngrams(combined_df, 3, 'Cleaned', 'Trigrams')\n",
    "generate_ngrams(combined_df, 4, 'Cleaned', 'Quadgrams')"
   ]
  },
  {
   "cell_type": "code",
   "execution_count": 24,
   "id": "bb75b02f",
   "metadata": {},
   "outputs": [
    {
     "data": {
      "text/html": [
       "<div>\n",
       "<style scoped>\n",
       "    .dataframe tbody tr th:only-of-type {\n",
       "        vertical-align: middle;\n",
       "    }\n",
       "\n",
       "    .dataframe tbody tr th {\n",
       "        vertical-align: top;\n",
       "    }\n",
       "\n",
       "    .dataframe thead th {\n",
       "        text-align: right;\n",
       "    }\n",
       "</style>\n",
       "<table border=\"1\" class=\"dataframe\">\n",
       "  <thead>\n",
       "    <tr style=\"text-align: right;\">\n",
       "      <th></th>\n",
       "      <th>Text</th>\n",
       "      <th>Cleaned</th>\n",
       "      <th>Bigrams</th>\n",
       "      <th>Trigrams</th>\n",
       "      <th>Quadgrams</th>\n",
       "    </tr>\n",
       "  </thead>\n",
       "  <tbody>\n",
       "    <tr>\n",
       "      <th>0</th>\n",
       "      <td>UBIT is safe</td>\n",
       "      <td>ubit safe</td>\n",
       "      <td>{('ubit', 'safe'): 1}</td>\n",
       "      <td>{}</td>\n",
       "      <td>{}</td>\n",
       "    </tr>\n",
       "    <tr>\n",
       "      <th>1</th>\n",
       "      <td>WEEK ONE!!! REMEMBER TO WEAR YOUR MASKS AND PO...</td>\n",
       "      <td>week mask post speedruns daily health check week</td>\n",
       "      <td>{('week', 'mask'): 1, ('mask', 'post'): 1, ('p...</td>\n",
       "      <td>{('week', 'mask', 'post'): 1, ('mask', 'post',...</td>\n",
       "      <td>{('week', 'mask', 'post', 'speedruns'): 1, ('m...</td>\n",
       "    </tr>\n",
       "    <tr>\n",
       "      <th>2</th>\n",
       "      <td>What the last 2 minutes of lecture looks like ...</td>\n",
       "      <td>minute lecture professor</td>\n",
       "      <td>{('minute', 'lecture'): 1, ('lecture', 'profes...</td>\n",
       "      <td>{('minute', 'lecture', 'professor'): 1}</td>\n",
       "      <td>{}</td>\n",
       "    </tr>\n",
       "    <tr>\n",
       "      <th>3</th>\n",
       "      <td>The SU Bull today</td>\n",
       "      <td>bull today</td>\n",
       "      <td>{('bull', 'today'): 1}</td>\n",
       "      <td>{}</td>\n",
       "      <td>{}</td>\n",
       "    </tr>\n",
       "    <tr>\n",
       "      <th>4</th>\n",
       "      <td>Logging into MyUB be like.</td>\n",
       "      <td>myub</td>\n",
       "      <td>{}</td>\n",
       "      <td>{}</td>\n",
       "      <td>{}</td>\n",
       "    </tr>\n",
       "    <tr>\n",
       "      <th>...</th>\n",
       "      <td>...</td>\n",
       "      <td>...</td>\n",
       "      <td>...</td>\n",
       "      <td>...</td>\n",
       "      <td>...</td>\n",
       "    </tr>\n",
       "    <tr>\n",
       "      <th>1970</th>\n",
       "      <td>['Sup</td>\n",
       "      <td></td>\n",
       "      <td>{}</td>\n",
       "      <td>{}</td>\n",
       "      <td>{}</td>\n",
       "    </tr>\n",
       "    <tr>\n",
       "      <th>1971</th>\n",
       "      <td>Honestly a lot']</td>\n",
       "      <td></td>\n",
       "      <td>{}</td>\n",
       "      <td>{}</td>\n",
       "      <td>{}</td>\n",
       "    </tr>\n",
       "    <tr>\n",
       "      <th>1972</th>\n",
       "      <td>['[deleted]']</td>\n",
       "      <td></td>\n",
       "      <td>{}</td>\n",
       "      <td>{}</td>\n",
       "      <td>{}</td>\n",
       "    </tr>\n",
       "    <tr>\n",
       "      <th>1973</th>\n",
       "      <td>['Just hang out on /r/SUNYBuffalo instead.\\n\\n...</td>\n",
       "      <td>instead.\\n\\nor suny</td>\n",
       "      <td>{('instead.\\n\\nor', 'suny'): 1}</td>\n",
       "      <td>{}</td>\n",
       "      <td>{}</td>\n",
       "    </tr>\n",
       "    <tr>\n",
       "      <th>1974</th>\n",
       "      <td>[\"That's because everyone is at /r/ubreddit\\n\\...</td>\n",
       "      <td>ubreddit\\n\\nthere list buffalo area college su...</td>\n",
       "      <td>{('ubreddit\\n\\nthere', 'list'): 1, ('list', 'b...</td>\n",
       "      <td>{('ubreddit\\n\\nthere', 'list', 'buffalo'): 1, ...</td>\n",
       "      <td>{('ubreddit\\n\\nthere', 'list', 'buffalo', 'are...</td>\n",
       "    </tr>\n",
       "  </tbody>\n",
       "</table>\n",
       "<p>1975 rows × 5 columns</p>\n",
       "</div>"
      ],
      "text/plain": [
       "                                                   Text  \\\n",
       "0                                          UBIT is safe   \n",
       "1     WEEK ONE!!! REMEMBER TO WEAR YOUR MASKS AND PO...   \n",
       "2     What the last 2 minutes of lecture looks like ...   \n",
       "3                                     The SU Bull today   \n",
       "4                            Logging into MyUB be like.   \n",
       "...                                                 ...   \n",
       "1970                                              ['Sup   \n",
       "1971                                   Honestly a lot']   \n",
       "1972                                      ['[deleted]']   \n",
       "1973  ['Just hang out on /r/SUNYBuffalo instead.\\n\\n...   \n",
       "1974  [\"That's because everyone is at /r/ubreddit\\n\\...   \n",
       "\n",
       "                                                Cleaned  \\\n",
       "0                                             ubit safe   \n",
       "1      week mask post speedruns daily health check week   \n",
       "2                              minute lecture professor   \n",
       "3                                            bull today   \n",
       "4                                                  myub   \n",
       "...                                                 ...   \n",
       "1970                                                      \n",
       "1971                                                      \n",
       "1972                                                      \n",
       "1973                                instead.\\n\\nor suny   \n",
       "1974  ubreddit\\n\\nthere list buffalo area college su...   \n",
       "\n",
       "                                                Bigrams  \\\n",
       "0                                 {('ubit', 'safe'): 1}   \n",
       "1     {('week', 'mask'): 1, ('mask', 'post'): 1, ('p...   \n",
       "2     {('minute', 'lecture'): 1, ('lecture', 'profes...   \n",
       "3                                {('bull', 'today'): 1}   \n",
       "4                                                    {}   \n",
       "...                                                 ...   \n",
       "1970                                                 {}   \n",
       "1971                                                 {}   \n",
       "1972                                                 {}   \n",
       "1973                    {('instead.\\n\\nor', 'suny'): 1}   \n",
       "1974  {('ubreddit\\n\\nthere', 'list'): 1, ('list', 'b...   \n",
       "\n",
       "                                               Trigrams  \\\n",
       "0                                                    {}   \n",
       "1     {('week', 'mask', 'post'): 1, ('mask', 'post',...   \n",
       "2               {('minute', 'lecture', 'professor'): 1}   \n",
       "3                                                    {}   \n",
       "4                                                    {}   \n",
       "...                                                 ...   \n",
       "1970                                                 {}   \n",
       "1971                                                 {}   \n",
       "1972                                                 {}   \n",
       "1973                                                 {}   \n",
       "1974  {('ubreddit\\n\\nthere', 'list', 'buffalo'): 1, ...   \n",
       "\n",
       "                                              Quadgrams  \n",
       "0                                                    {}  \n",
       "1     {('week', 'mask', 'post', 'speedruns'): 1, ('m...  \n",
       "2                                                    {}  \n",
       "3                                                    {}  \n",
       "4                                                    {}  \n",
       "...                                                 ...  \n",
       "1970                                                 {}  \n",
       "1971                                                 {}  \n",
       "1972                                                 {}  \n",
       "1973                                                 {}  \n",
       "1974  {('ubreddit\\n\\nthere', 'list', 'buffalo', 'are...  \n",
       "\n",
       "[1975 rows x 5 columns]"
      ]
     },
     "execution_count": 24,
     "metadata": {},
     "output_type": "execute_result"
    }
   ],
   "source": [
    "combined_df"
   ]
  },
  {
   "cell_type": "markdown",
   "id": "6c973b62",
   "metadata": {},
   "source": [
    "#### Generating corpus for top ngrams"
   ]
  },
  {
   "cell_type": "code",
   "execution_count": 25,
   "id": "ada83545",
   "metadata": {},
   "outputs": [],
   "source": [
    "def generate_corpus(df, column):\n",
    "    corpus = dict()\n",
    "\n",
    "    for row in df[column]:\n",
    "        for key in row.keys():\n",
    "            if key in corpus.keys():\n",
    "                corpus[key] += 1\n",
    "            else:\n",
    "                corpus[key] = 1\n",
    "    return corpus"
   ]
  },
  {
   "cell_type": "code",
   "execution_count": 26,
   "id": "ccc2132d",
   "metadata": {},
   "outputs": [],
   "source": [
    "bigram_corpus = generate_corpus(combined_df, 'Bigrams')\n",
    "trigram_corpus = generate_corpus(combined_df, 'Trigrams')\n",
    "quadgram_corpus = generate_corpus(combined_df, 'Quadgrams')"
   ]
  },
  {
   "cell_type": "markdown",
   "id": "93fe1441",
   "metadata": {},
   "source": [
    "#### Displaying top ngrams"
   ]
  },
  {
   "cell_type": "code",
   "execution_count": 27,
   "id": "386090b5",
   "metadata": {},
   "outputs": [],
   "source": [
    "def get_top_n(d, n):\n",
    "    def keyfunction(k):\n",
    "        return d[k]\n",
    "\n",
    "    for key in sorted(d, key=keyfunction, reverse=True)[:n]:\n",
    "        print (\"%s: %i\" % (key, d[key]))\n",
    "    "
   ]
  },
  {
   "cell_type": "markdown",
   "id": "f6f6014c",
   "metadata": {},
   "source": [
    "#### Bi-Grams"
   ]
  },
  {
   "cell_type": "code",
   "execution_count": 28,
   "id": "93bd4f5a",
   "metadata": {},
   "outputs": [
    {
     "name": "stdout",
     "output_type": "stream",
     "text": [
      "('north', 'campus'): 25\n",
      "('south', 'campus'): 24\n",
      "('rent', 'month'): 16\n",
      "('spring', 'break'): 12\n",
      "('good', 'luck'): 10\n",
      "('university', 'buffalo'): 10\n",
      "('grad', 'student'): 10\n",
      "('living', 'room'): 10\n",
      "('private', 'bathroom'): 10\n",
      "('station', 'buffalo'): 10\n"
     ]
    }
   ],
   "source": [
    "get_top_n(bigram_corpus, 10)"
   ]
  },
  {
   "cell_type": "markdown",
   "id": "474a9e6f",
   "metadata": {},
   "source": [
    "#### Tri-Grams"
   ]
  },
  {
   "cell_type": "code",
   "execution_count": 29,
   "id": "8441a64b",
   "metadata": {},
   "outputs": [
    {
     "name": "stdout",
     "output_type": "stream",
     "text": [
      "('kitchen', 'living', 'room'): 8\n",
      "('bedroom', 'private', 'bathroom'): 7\n",
      "('rent', 'month', 'utility'): 6\n",
      "('month', 'june', 'july'): 5\n",
      "('lease', 'bedroom', 'private'): 5\n",
      "('private', 'bathroom', 'laundry'): 5\n",
      "('bathroom', 'laundry', 'unit'): 5\n",
      "('laundry', 'unit', 'kitchen'): 5\n",
      "('unit', 'kitchen', 'living'): 5\n",
      "('living', 'room', 'station'): 5\n"
     ]
    }
   ],
   "source": [
    "get_top_n(trigram_corpus, 10)"
   ]
  },
  {
   "cell_type": "markdown",
   "id": "5ff24306",
   "metadata": {},
   "source": [
    "#### Quad-Grams"
   ]
  },
  {
   "cell_type": "code",
   "execution_count": 30,
   "id": "968f957e",
   "metadata": {},
   "outputs": [
    {
     "name": "stdout",
     "output_type": "stream",
     "text": [
      "('lease', 'bedroom', 'private', 'bathroom'): 5\n",
      "('bedroom', 'private', 'bathroom', 'laundry'): 5\n",
      "('private', 'bathroom', 'laundry', 'unit'): 5\n",
      "('bathroom', 'laundry', 'unit', 'kitchen'): 5\n",
      "('laundry', 'unit', 'kitchen', 'living'): 5\n",
      "('unit', 'kitchen', 'living', 'room'): 5\n",
      "('kitchen', 'living', 'room', 'station'): 5\n",
      "('living', 'room', 'station', 'buffalo'): 5\n",
      "('room', 'station', 'buffalo', 'rent'): 5\n",
      "('station', 'buffalo', 'rent', 'month'): 5\n"
     ]
    }
   ],
   "source": [
    "get_top_n(quadgram_corpus, 10)"
   ]
  }
 ],
 "metadata": {
  "kernelspec": {
   "display_name": "ub_social",
   "language": "python",
   "name": "ub_social"
  },
  "language_info": {
   "codemirror_mode": {
    "name": "ipython",
    "version": 3
   },
   "file_extension": ".py",
   "mimetype": "text/x-python",
   "name": "python",
   "nbconvert_exporter": "python",
   "pygments_lexer": "ipython3",
   "version": "3.8.0"
  }
 },
 "nbformat": 4,
 "nbformat_minor": 5
}
